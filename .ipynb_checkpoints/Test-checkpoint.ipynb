{
 "cells": [
  {
   "cell_type": "raw",
   "metadata": {},
   "source": [
    "<script>\n",
    "  function code_toggle() {\n",
    "    if (code_shown){\n",
    "      $('div.input').hide('500');\n",
    "      $('#toggleButton').val('Show Code')\n",
    "    } else {\n",
    "      $('div.input').show('500');\n",
    "      $('#toggleButton').val('Hide Code')\n",
    "    }\n",
    "    code_shown = !code_shown\n",
    "  }\n",
    "\n",
    "  $( document ).ready(function(){\n",
    "    code_shown=false;\n",
    "    $('div.input').hide()\n",
    "  });\n",
    "</script>\n",
    "<form action=\"javascript:code_toggle()\"><input type=\"submit\" id=\"toggleButton\" value=\"Show Code\"></form>"
   ]
  },
  {
   "cell_type": "markdown",
   "metadata": {},
   "source": [
    "# Index"
   ]
  },
  {
   "cell_type": "markdown",
   "metadata": {},
   "source": [
    "- [1 Introduction](#1)\n",
    "- [2 Title](#2)\n",
    "- [3 Title](#3)\n",
    "- [4 Title](#4)\n",
    "- [5 Title](#5)\n",
    "- [6 Title](#6)\n",
    "- [7 Title](#7)\n",
    "- [8 Title](#8)\n",
    "- [9 Title](#9)\n",
    "- [10 Title](#10)\n",
    "- [11 Title](#11)\n",
    "- [12 Title](#12)\n",
    "- [13 Title](#13)\n",
    "- [14 Title](#14)\n",
    "- [15 Next Steps](#15)\n",
    "- [16 Conclusions](#21)"
   ]
  },
  {
   "cell_type": "markdown",
   "metadata": {},
   "source": [
    "# 1"
   ]
  },
  {
   "cell_type": "markdown",
   "metadata": {},
   "source": [
    "## Introduction"
   ]
  },
  {
   "cell_type": "markdown",
   "metadata": {},
   "source": []
  },
  {
   "cell_type": "markdown",
   "metadata": {},
   "source": [
    "instructions\n",
    "\n"
   ]
  },
  {
   "cell_type": "code",
   "execution_count": null,
   "metadata": {},
   "outputs": [],
   "source": []
  },
  {
   "cell_type": "markdown",
   "metadata": {},
   "source": [
    "[Index](#Index)"
   ]
  },
  {
   "cell_type": "markdown",
   "metadata": {},
   "source": [
    "# 2"
   ]
  },
  {
   "cell_type": "markdown",
   "metadata": {},
   "source": [
    "## Title"
   ]
  },
  {
   "cell_type": "code",
   "execution_count": 659,
   "metadata": {},
   "outputs": [],
   "source": [
    "import pandas as pd\n",
    "import numpy as np\n",
    "import seaborn as sns\n",
    "import matplotlib\n",
    "import matplotlib.pyplot as plt\n",
    "%matplotlib inline\n",
    "import sklearn.neighbors as skneighbors\n",
    "import sklearn.metrics as skmetrics\n",
    "from prettytable import PrettyTable"
   ]
  },
  {
   "cell_type": "code",
   "execution_count": 660,
   "metadata": {},
   "outputs": [
    {
     "data": {
      "text/html": [
       "<div>\n",
       "<style scoped>\n",
       "    .dataframe tbody tr th:only-of-type {\n",
       "        vertical-align: middle;\n",
       "    }\n",
       "\n",
       "    .dataframe tbody tr th {\n",
       "        vertical-align: top;\n",
       "    }\n",
       "\n",
       "    .dataframe thead th {\n",
       "        text-align: right;\n",
       "    }\n",
       "</style>\n",
       "<table border=\"1\" class=\"dataframe\">\n",
       "  <thead>\n",
       "    <tr style=\"text-align: right;\">\n",
       "      <th></th>\n",
       "      <th>symboling</th>\n",
       "      <th>normalized_losses</th>\n",
       "      <th>make</th>\n",
       "      <th>fuel_type</th>\n",
       "      <th>aspiration</th>\n",
       "      <th>num_doors</th>\n",
       "      <th>body_style</th>\n",
       "      <th>drive_wheels</th>\n",
       "      <th>engine_location</th>\n",
       "      <th>wheel_base</th>\n",
       "      <th>...</th>\n",
       "      <th>engine_size</th>\n",
       "      <th>fuel_system</th>\n",
       "      <th>bore</th>\n",
       "      <th>stroke</th>\n",
       "      <th>compression_ratio</th>\n",
       "      <th>horsepower</th>\n",
       "      <th>peak_rpm</th>\n",
       "      <th>city_mpg</th>\n",
       "      <th>highway_mpg</th>\n",
       "      <th>price</th>\n",
       "    </tr>\n",
       "  </thead>\n",
       "  <tbody>\n",
       "    <tr>\n",
       "      <th>0</th>\n",
       "      <td>3</td>\n",
       "      <td>?</td>\n",
       "      <td>alfa-romero</td>\n",
       "      <td>gas</td>\n",
       "      <td>std</td>\n",
       "      <td>two</td>\n",
       "      <td>convertible</td>\n",
       "      <td>rwd</td>\n",
       "      <td>front</td>\n",
       "      <td>88.6</td>\n",
       "      <td>...</td>\n",
       "      <td>130</td>\n",
       "      <td>mpfi</td>\n",
       "      <td>3.47</td>\n",
       "      <td>2.68</td>\n",
       "      <td>9.0</td>\n",
       "      <td>111</td>\n",
       "      <td>5000</td>\n",
       "      <td>21</td>\n",
       "      <td>27</td>\n",
       "      <td>13495</td>\n",
       "    </tr>\n",
       "    <tr>\n",
       "      <th>1</th>\n",
       "      <td>3</td>\n",
       "      <td>?</td>\n",
       "      <td>alfa-romero</td>\n",
       "      <td>gas</td>\n",
       "      <td>std</td>\n",
       "      <td>two</td>\n",
       "      <td>convertible</td>\n",
       "      <td>rwd</td>\n",
       "      <td>front</td>\n",
       "      <td>88.6</td>\n",
       "      <td>...</td>\n",
       "      <td>130</td>\n",
       "      <td>mpfi</td>\n",
       "      <td>3.47</td>\n",
       "      <td>2.68</td>\n",
       "      <td>9.0</td>\n",
       "      <td>111</td>\n",
       "      <td>5000</td>\n",
       "      <td>21</td>\n",
       "      <td>27</td>\n",
       "      <td>16500</td>\n",
       "    </tr>\n",
       "    <tr>\n",
       "      <th>2</th>\n",
       "      <td>1</td>\n",
       "      <td>?</td>\n",
       "      <td>alfa-romero</td>\n",
       "      <td>gas</td>\n",
       "      <td>std</td>\n",
       "      <td>two</td>\n",
       "      <td>hatchback</td>\n",
       "      <td>rwd</td>\n",
       "      <td>front</td>\n",
       "      <td>94.5</td>\n",
       "      <td>...</td>\n",
       "      <td>152</td>\n",
       "      <td>mpfi</td>\n",
       "      <td>2.68</td>\n",
       "      <td>3.47</td>\n",
       "      <td>9.0</td>\n",
       "      <td>154</td>\n",
       "      <td>5000</td>\n",
       "      <td>19</td>\n",
       "      <td>26</td>\n",
       "      <td>16500</td>\n",
       "    </tr>\n",
       "    <tr>\n",
       "      <th>3</th>\n",
       "      <td>2</td>\n",
       "      <td>164</td>\n",
       "      <td>audi</td>\n",
       "      <td>gas</td>\n",
       "      <td>std</td>\n",
       "      <td>four</td>\n",
       "      <td>sedan</td>\n",
       "      <td>fwd</td>\n",
       "      <td>front</td>\n",
       "      <td>99.8</td>\n",
       "      <td>...</td>\n",
       "      <td>109</td>\n",
       "      <td>mpfi</td>\n",
       "      <td>3.19</td>\n",
       "      <td>3.40</td>\n",
       "      <td>10.0</td>\n",
       "      <td>102</td>\n",
       "      <td>5500</td>\n",
       "      <td>24</td>\n",
       "      <td>30</td>\n",
       "      <td>13950</td>\n",
       "    </tr>\n",
       "    <tr>\n",
       "      <th>4</th>\n",
       "      <td>2</td>\n",
       "      <td>164</td>\n",
       "      <td>audi</td>\n",
       "      <td>gas</td>\n",
       "      <td>std</td>\n",
       "      <td>four</td>\n",
       "      <td>sedan</td>\n",
       "      <td>4wd</td>\n",
       "      <td>front</td>\n",
       "      <td>99.4</td>\n",
       "      <td>...</td>\n",
       "      <td>136</td>\n",
       "      <td>mpfi</td>\n",
       "      <td>3.19</td>\n",
       "      <td>3.40</td>\n",
       "      <td>8.0</td>\n",
       "      <td>115</td>\n",
       "      <td>5500</td>\n",
       "      <td>18</td>\n",
       "      <td>22</td>\n",
       "      <td>17450</td>\n",
       "    </tr>\n",
       "    <tr>\n",
       "      <th>...</th>\n",
       "      <td>...</td>\n",
       "      <td>...</td>\n",
       "      <td>...</td>\n",
       "      <td>...</td>\n",
       "      <td>...</td>\n",
       "      <td>...</td>\n",
       "      <td>...</td>\n",
       "      <td>...</td>\n",
       "      <td>...</td>\n",
       "      <td>...</td>\n",
       "      <td>...</td>\n",
       "      <td>...</td>\n",
       "      <td>...</td>\n",
       "      <td>...</td>\n",
       "      <td>...</td>\n",
       "      <td>...</td>\n",
       "      <td>...</td>\n",
       "      <td>...</td>\n",
       "      <td>...</td>\n",
       "      <td>...</td>\n",
       "      <td>...</td>\n",
       "    </tr>\n",
       "    <tr>\n",
       "      <th>200</th>\n",
       "      <td>-1</td>\n",
       "      <td>95</td>\n",
       "      <td>volvo</td>\n",
       "      <td>gas</td>\n",
       "      <td>std</td>\n",
       "      <td>four</td>\n",
       "      <td>sedan</td>\n",
       "      <td>rwd</td>\n",
       "      <td>front</td>\n",
       "      <td>109.1</td>\n",
       "      <td>...</td>\n",
       "      <td>141</td>\n",
       "      <td>mpfi</td>\n",
       "      <td>3.78</td>\n",
       "      <td>3.15</td>\n",
       "      <td>9.5</td>\n",
       "      <td>114</td>\n",
       "      <td>5400</td>\n",
       "      <td>23</td>\n",
       "      <td>28</td>\n",
       "      <td>16845</td>\n",
       "    </tr>\n",
       "    <tr>\n",
       "      <th>201</th>\n",
       "      <td>-1</td>\n",
       "      <td>95</td>\n",
       "      <td>volvo</td>\n",
       "      <td>gas</td>\n",
       "      <td>turbo</td>\n",
       "      <td>four</td>\n",
       "      <td>sedan</td>\n",
       "      <td>rwd</td>\n",
       "      <td>front</td>\n",
       "      <td>109.1</td>\n",
       "      <td>...</td>\n",
       "      <td>141</td>\n",
       "      <td>mpfi</td>\n",
       "      <td>3.78</td>\n",
       "      <td>3.15</td>\n",
       "      <td>8.7</td>\n",
       "      <td>160</td>\n",
       "      <td>5300</td>\n",
       "      <td>19</td>\n",
       "      <td>25</td>\n",
       "      <td>19045</td>\n",
       "    </tr>\n",
       "    <tr>\n",
       "      <th>202</th>\n",
       "      <td>-1</td>\n",
       "      <td>95</td>\n",
       "      <td>volvo</td>\n",
       "      <td>gas</td>\n",
       "      <td>std</td>\n",
       "      <td>four</td>\n",
       "      <td>sedan</td>\n",
       "      <td>rwd</td>\n",
       "      <td>front</td>\n",
       "      <td>109.1</td>\n",
       "      <td>...</td>\n",
       "      <td>173</td>\n",
       "      <td>mpfi</td>\n",
       "      <td>3.58</td>\n",
       "      <td>2.87</td>\n",
       "      <td>8.8</td>\n",
       "      <td>134</td>\n",
       "      <td>5500</td>\n",
       "      <td>18</td>\n",
       "      <td>23</td>\n",
       "      <td>21485</td>\n",
       "    </tr>\n",
       "    <tr>\n",
       "      <th>203</th>\n",
       "      <td>-1</td>\n",
       "      <td>95</td>\n",
       "      <td>volvo</td>\n",
       "      <td>diesel</td>\n",
       "      <td>turbo</td>\n",
       "      <td>four</td>\n",
       "      <td>sedan</td>\n",
       "      <td>rwd</td>\n",
       "      <td>front</td>\n",
       "      <td>109.1</td>\n",
       "      <td>...</td>\n",
       "      <td>145</td>\n",
       "      <td>idi</td>\n",
       "      <td>3.01</td>\n",
       "      <td>3.40</td>\n",
       "      <td>23.0</td>\n",
       "      <td>106</td>\n",
       "      <td>4800</td>\n",
       "      <td>26</td>\n",
       "      <td>27</td>\n",
       "      <td>22470</td>\n",
       "    </tr>\n",
       "    <tr>\n",
       "      <th>204</th>\n",
       "      <td>-1</td>\n",
       "      <td>95</td>\n",
       "      <td>volvo</td>\n",
       "      <td>gas</td>\n",
       "      <td>turbo</td>\n",
       "      <td>four</td>\n",
       "      <td>sedan</td>\n",
       "      <td>rwd</td>\n",
       "      <td>front</td>\n",
       "      <td>109.1</td>\n",
       "      <td>...</td>\n",
       "      <td>141</td>\n",
       "      <td>mpfi</td>\n",
       "      <td>3.78</td>\n",
       "      <td>3.15</td>\n",
       "      <td>9.5</td>\n",
       "      <td>114</td>\n",
       "      <td>5400</td>\n",
       "      <td>19</td>\n",
       "      <td>25</td>\n",
       "      <td>22625</td>\n",
       "    </tr>\n",
       "  </tbody>\n",
       "</table>\n",
       "<p>205 rows × 26 columns</p>\n",
       "</div>"
      ],
      "text/plain": [
       "     symboling normalized_losses         make fuel_type aspiration num_doors  \\\n",
       "0            3                 ?  alfa-romero       gas        std       two   \n",
       "1            3                 ?  alfa-romero       gas        std       two   \n",
       "2            1                 ?  alfa-romero       gas        std       two   \n",
       "3            2               164         audi       gas        std      four   \n",
       "4            2               164         audi       gas        std      four   \n",
       "..         ...               ...          ...       ...        ...       ...   \n",
       "200         -1                95        volvo       gas        std      four   \n",
       "201         -1                95        volvo       gas      turbo      four   \n",
       "202         -1                95        volvo       gas        std      four   \n",
       "203         -1                95        volvo    diesel      turbo      four   \n",
       "204         -1                95        volvo       gas      turbo      four   \n",
       "\n",
       "      body_style drive_wheels engine_location  wheel_base  ...  engine_size  \\\n",
       "0    convertible          rwd           front        88.6  ...          130   \n",
       "1    convertible          rwd           front        88.6  ...          130   \n",
       "2      hatchback          rwd           front        94.5  ...          152   \n",
       "3          sedan          fwd           front        99.8  ...          109   \n",
       "4          sedan          4wd           front        99.4  ...          136   \n",
       "..           ...          ...             ...         ...  ...          ...   \n",
       "200        sedan          rwd           front       109.1  ...          141   \n",
       "201        sedan          rwd           front       109.1  ...          141   \n",
       "202        sedan          rwd           front       109.1  ...          173   \n",
       "203        sedan          rwd           front       109.1  ...          145   \n",
       "204        sedan          rwd           front       109.1  ...          141   \n",
       "\n",
       "     fuel_system  bore  stroke compression_ratio horsepower  peak_rpm  \\\n",
       "0           mpfi  3.47    2.68               9.0        111      5000   \n",
       "1           mpfi  3.47    2.68               9.0        111      5000   \n",
       "2           mpfi  2.68    3.47               9.0        154      5000   \n",
       "3           mpfi  3.19    3.40              10.0        102      5500   \n",
       "4           mpfi  3.19    3.40               8.0        115      5500   \n",
       "..           ...   ...     ...               ...        ...       ...   \n",
       "200         mpfi  3.78    3.15               9.5        114      5400   \n",
       "201         mpfi  3.78    3.15               8.7        160      5300   \n",
       "202         mpfi  3.58    2.87               8.8        134      5500   \n",
       "203          idi  3.01    3.40              23.0        106      4800   \n",
       "204         mpfi  3.78    3.15               9.5        114      5400   \n",
       "\n",
       "    city_mpg highway_mpg  price  \n",
       "0         21          27  13495  \n",
       "1         21          27  16500  \n",
       "2         19          26  16500  \n",
       "3         24          30  13950  \n",
       "4         18          22  17450  \n",
       "..       ...         ...    ...  \n",
       "200       23          28  16845  \n",
       "201       19          25  19045  \n",
       "202       18          23  21485  \n",
       "203       26          27  22470  \n",
       "204       19          25  22625  \n",
       "\n",
       "[205 rows x 26 columns]"
      ]
     },
     "execution_count": 660,
     "metadata": {},
     "output_type": "execute_result"
    }
   ],
   "source": [
    "col_names = [\"symboling\",\"normalized_losses\",\"make\",\"fuel_type\",\"aspiration\",\"num_doors\",\"body_style\",\n",
    "             \"drive_wheels\",\"engine_location\",\"wheel_base\",\"length\",\"width\",\"height\",\"curb_weight\",\"engine_type\",\n",
    "             \"num_cylinders\",\"engine_size\",\"fuel_system\",\"bore\",\"stroke\",\"compression_ratio\",\"horsepower\",\n",
    "             \"peak_rpm\",\"city_mpg\",\"highway_mpg\",\"price\"]\n",
    "cars = pd.read_csv(\"imports-85.data\", names=col_names)\n",
    "cars"
   ]
  },
  {
   "cell_type": "code",
   "execution_count": 661,
   "metadata": {},
   "outputs": [
    {
     "data": {
      "text/plain": [
       "toyota           32\n",
       "nissan           18\n",
       "mazda            17\n",
       "mitsubishi       13\n",
       "honda            13\n",
       "volkswagen       12\n",
       "subaru           12\n",
       "peugot           11\n",
       "volvo            11\n",
       "dodge             9\n",
       "mercedes-benz     8\n",
       "bmw               8\n",
       "plymouth          7\n",
       "audi              7\n",
       "saab              6\n",
       "porsche           5\n",
       "isuzu             4\n",
       "jaguar            3\n",
       "chevrolet         3\n",
       "alfa-romero       3\n",
       "renault           2\n",
       "mercury           1\n",
       "Name: make, dtype: int64"
      ]
     },
     "execution_count": 661,
     "metadata": {},
     "output_type": "execute_result"
    }
   ],
   "source": [
    "cars[\"make\"].value_counts()"
   ]
  },
  {
   "cell_type": "code",
   "execution_count": 662,
   "metadata": {},
   "outputs": [
    {
     "name": "stdout",
     "output_type": "stream",
     "text": [
      "<class 'pandas.core.frame.DataFrame'>\n",
      "RangeIndex: 205 entries, 0 to 204\n",
      "Data columns (total 26 columns):\n",
      " #   Column             Non-Null Count  Dtype  \n",
      "---  ------             --------------  -----  \n",
      " 0   symboling          205 non-null    int64  \n",
      " 1   normalized_losses  205 non-null    object \n",
      " 2   make               205 non-null    object \n",
      " 3   fuel_type          205 non-null    object \n",
      " 4   aspiration         205 non-null    object \n",
      " 5   num_doors          205 non-null    object \n",
      " 6   body_style         205 non-null    object \n",
      " 7   drive_wheels       205 non-null    object \n",
      " 8   engine_location    205 non-null    object \n",
      " 9   wheel_base         205 non-null    float64\n",
      " 10  length             205 non-null    float64\n",
      " 11  width              205 non-null    float64\n",
      " 12  height             205 non-null    float64\n",
      " 13  curb_weight        205 non-null    int64  \n",
      " 14  engine_type        205 non-null    object \n",
      " 15  num_cylinders      205 non-null    object \n",
      " 16  engine_size        205 non-null    int64  \n",
      " 17  fuel_system        205 non-null    object \n",
      " 18  bore               205 non-null    object \n",
      " 19  stroke             205 non-null    object \n",
      " 20  compression_ratio  205 non-null    float64\n",
      " 21  horsepower         205 non-null    object \n",
      " 22  peak_rpm           205 non-null    object \n",
      " 23  city_mpg           205 non-null    int64  \n",
      " 24  highway_mpg        205 non-null    int64  \n",
      " 25  price              205 non-null    object \n",
      "dtypes: float64(5), int64(5), object(16)\n",
      "memory usage: 41.8+ KB\n"
     ]
    }
   ],
   "source": [
    "cars.info()"
   ]
  },
  {
   "cell_type": "code",
   "execution_count": 663,
   "metadata": {},
   "outputs": [
    {
     "data": {
      "text/html": [
       "<div>\n",
       "<style scoped>\n",
       "    .dataframe tbody tr th:only-of-type {\n",
       "        vertical-align: middle;\n",
       "    }\n",
       "\n",
       "    .dataframe tbody tr th {\n",
       "        vertical-align: top;\n",
       "    }\n",
       "\n",
       "    .dataframe thead th {\n",
       "        text-align: right;\n",
       "    }\n",
       "</style>\n",
       "<table border=\"1\" class=\"dataframe\">\n",
       "  <thead>\n",
       "    <tr style=\"text-align: right;\">\n",
       "      <th></th>\n",
       "      <th>symboling</th>\n",
       "      <th>normalized_losses</th>\n",
       "      <th>make</th>\n",
       "      <th>fuel_type</th>\n",
       "      <th>aspiration</th>\n",
       "      <th>num_doors</th>\n",
       "      <th>body_style</th>\n",
       "      <th>drive_wheels</th>\n",
       "      <th>engine_location</th>\n",
       "      <th>wheel_base</th>\n",
       "      <th>...</th>\n",
       "      <th>engine_size</th>\n",
       "      <th>fuel_system</th>\n",
       "      <th>bore</th>\n",
       "      <th>stroke</th>\n",
       "      <th>compression_ratio</th>\n",
       "      <th>horsepower</th>\n",
       "      <th>peak_rpm</th>\n",
       "      <th>city_mpg</th>\n",
       "      <th>highway_mpg</th>\n",
       "      <th>price</th>\n",
       "    </tr>\n",
       "  </thead>\n",
       "  <tbody>\n",
       "    <tr>\n",
       "      <th>0</th>\n",
       "      <td>3</td>\n",
       "      <td>NaN</td>\n",
       "      <td>alfa-romero</td>\n",
       "      <td>gas</td>\n",
       "      <td>std</td>\n",
       "      <td>two</td>\n",
       "      <td>convertible</td>\n",
       "      <td>rwd</td>\n",
       "      <td>front</td>\n",
       "      <td>88.6</td>\n",
       "      <td>...</td>\n",
       "      <td>130</td>\n",
       "      <td>mpfi</td>\n",
       "      <td>3.47</td>\n",
       "      <td>2.68</td>\n",
       "      <td>9.0</td>\n",
       "      <td>111</td>\n",
       "      <td>5000</td>\n",
       "      <td>21</td>\n",
       "      <td>27</td>\n",
       "      <td>13495</td>\n",
       "    </tr>\n",
       "    <tr>\n",
       "      <th>1</th>\n",
       "      <td>3</td>\n",
       "      <td>NaN</td>\n",
       "      <td>alfa-romero</td>\n",
       "      <td>gas</td>\n",
       "      <td>std</td>\n",
       "      <td>two</td>\n",
       "      <td>convertible</td>\n",
       "      <td>rwd</td>\n",
       "      <td>front</td>\n",
       "      <td>88.6</td>\n",
       "      <td>...</td>\n",
       "      <td>130</td>\n",
       "      <td>mpfi</td>\n",
       "      <td>3.47</td>\n",
       "      <td>2.68</td>\n",
       "      <td>9.0</td>\n",
       "      <td>111</td>\n",
       "      <td>5000</td>\n",
       "      <td>21</td>\n",
       "      <td>27</td>\n",
       "      <td>16500</td>\n",
       "    </tr>\n",
       "    <tr>\n",
       "      <th>2</th>\n",
       "      <td>1</td>\n",
       "      <td>NaN</td>\n",
       "      <td>alfa-romero</td>\n",
       "      <td>gas</td>\n",
       "      <td>std</td>\n",
       "      <td>two</td>\n",
       "      <td>hatchback</td>\n",
       "      <td>rwd</td>\n",
       "      <td>front</td>\n",
       "      <td>94.5</td>\n",
       "      <td>...</td>\n",
       "      <td>152</td>\n",
       "      <td>mpfi</td>\n",
       "      <td>2.68</td>\n",
       "      <td>3.47</td>\n",
       "      <td>9.0</td>\n",
       "      <td>154</td>\n",
       "      <td>5000</td>\n",
       "      <td>19</td>\n",
       "      <td>26</td>\n",
       "      <td>16500</td>\n",
       "    </tr>\n",
       "    <tr>\n",
       "      <th>3</th>\n",
       "      <td>2</td>\n",
       "      <td>164</td>\n",
       "      <td>audi</td>\n",
       "      <td>gas</td>\n",
       "      <td>std</td>\n",
       "      <td>four</td>\n",
       "      <td>sedan</td>\n",
       "      <td>fwd</td>\n",
       "      <td>front</td>\n",
       "      <td>99.8</td>\n",
       "      <td>...</td>\n",
       "      <td>109</td>\n",
       "      <td>mpfi</td>\n",
       "      <td>3.19</td>\n",
       "      <td>3.40</td>\n",
       "      <td>10.0</td>\n",
       "      <td>102</td>\n",
       "      <td>5500</td>\n",
       "      <td>24</td>\n",
       "      <td>30</td>\n",
       "      <td>13950</td>\n",
       "    </tr>\n",
       "    <tr>\n",
       "      <th>4</th>\n",
       "      <td>2</td>\n",
       "      <td>164</td>\n",
       "      <td>audi</td>\n",
       "      <td>gas</td>\n",
       "      <td>std</td>\n",
       "      <td>four</td>\n",
       "      <td>sedan</td>\n",
       "      <td>4wd</td>\n",
       "      <td>front</td>\n",
       "      <td>99.4</td>\n",
       "      <td>...</td>\n",
       "      <td>136</td>\n",
       "      <td>mpfi</td>\n",
       "      <td>3.19</td>\n",
       "      <td>3.40</td>\n",
       "      <td>8.0</td>\n",
       "      <td>115</td>\n",
       "      <td>5500</td>\n",
       "      <td>18</td>\n",
       "      <td>22</td>\n",
       "      <td>17450</td>\n",
       "    </tr>\n",
       "    <tr>\n",
       "      <th>...</th>\n",
       "      <td>...</td>\n",
       "      <td>...</td>\n",
       "      <td>...</td>\n",
       "      <td>...</td>\n",
       "      <td>...</td>\n",
       "      <td>...</td>\n",
       "      <td>...</td>\n",
       "      <td>...</td>\n",
       "      <td>...</td>\n",
       "      <td>...</td>\n",
       "      <td>...</td>\n",
       "      <td>...</td>\n",
       "      <td>...</td>\n",
       "      <td>...</td>\n",
       "      <td>...</td>\n",
       "      <td>...</td>\n",
       "      <td>...</td>\n",
       "      <td>...</td>\n",
       "      <td>...</td>\n",
       "      <td>...</td>\n",
       "      <td>...</td>\n",
       "    </tr>\n",
       "    <tr>\n",
       "      <th>200</th>\n",
       "      <td>-1</td>\n",
       "      <td>95</td>\n",
       "      <td>volvo</td>\n",
       "      <td>gas</td>\n",
       "      <td>std</td>\n",
       "      <td>four</td>\n",
       "      <td>sedan</td>\n",
       "      <td>rwd</td>\n",
       "      <td>front</td>\n",
       "      <td>109.1</td>\n",
       "      <td>...</td>\n",
       "      <td>141</td>\n",
       "      <td>mpfi</td>\n",
       "      <td>3.78</td>\n",
       "      <td>3.15</td>\n",
       "      <td>9.5</td>\n",
       "      <td>114</td>\n",
       "      <td>5400</td>\n",
       "      <td>23</td>\n",
       "      <td>28</td>\n",
       "      <td>16845</td>\n",
       "    </tr>\n",
       "    <tr>\n",
       "      <th>201</th>\n",
       "      <td>-1</td>\n",
       "      <td>95</td>\n",
       "      <td>volvo</td>\n",
       "      <td>gas</td>\n",
       "      <td>turbo</td>\n",
       "      <td>four</td>\n",
       "      <td>sedan</td>\n",
       "      <td>rwd</td>\n",
       "      <td>front</td>\n",
       "      <td>109.1</td>\n",
       "      <td>...</td>\n",
       "      <td>141</td>\n",
       "      <td>mpfi</td>\n",
       "      <td>3.78</td>\n",
       "      <td>3.15</td>\n",
       "      <td>8.7</td>\n",
       "      <td>160</td>\n",
       "      <td>5300</td>\n",
       "      <td>19</td>\n",
       "      <td>25</td>\n",
       "      <td>19045</td>\n",
       "    </tr>\n",
       "    <tr>\n",
       "      <th>202</th>\n",
       "      <td>-1</td>\n",
       "      <td>95</td>\n",
       "      <td>volvo</td>\n",
       "      <td>gas</td>\n",
       "      <td>std</td>\n",
       "      <td>four</td>\n",
       "      <td>sedan</td>\n",
       "      <td>rwd</td>\n",
       "      <td>front</td>\n",
       "      <td>109.1</td>\n",
       "      <td>...</td>\n",
       "      <td>173</td>\n",
       "      <td>mpfi</td>\n",
       "      <td>3.58</td>\n",
       "      <td>2.87</td>\n",
       "      <td>8.8</td>\n",
       "      <td>134</td>\n",
       "      <td>5500</td>\n",
       "      <td>18</td>\n",
       "      <td>23</td>\n",
       "      <td>21485</td>\n",
       "    </tr>\n",
       "    <tr>\n",
       "      <th>203</th>\n",
       "      <td>-1</td>\n",
       "      <td>95</td>\n",
       "      <td>volvo</td>\n",
       "      <td>diesel</td>\n",
       "      <td>turbo</td>\n",
       "      <td>four</td>\n",
       "      <td>sedan</td>\n",
       "      <td>rwd</td>\n",
       "      <td>front</td>\n",
       "      <td>109.1</td>\n",
       "      <td>...</td>\n",
       "      <td>145</td>\n",
       "      <td>idi</td>\n",
       "      <td>3.01</td>\n",
       "      <td>3.40</td>\n",
       "      <td>23.0</td>\n",
       "      <td>106</td>\n",
       "      <td>4800</td>\n",
       "      <td>26</td>\n",
       "      <td>27</td>\n",
       "      <td>22470</td>\n",
       "    </tr>\n",
       "    <tr>\n",
       "      <th>204</th>\n",
       "      <td>-1</td>\n",
       "      <td>95</td>\n",
       "      <td>volvo</td>\n",
       "      <td>gas</td>\n",
       "      <td>turbo</td>\n",
       "      <td>four</td>\n",
       "      <td>sedan</td>\n",
       "      <td>rwd</td>\n",
       "      <td>front</td>\n",
       "      <td>109.1</td>\n",
       "      <td>...</td>\n",
       "      <td>141</td>\n",
       "      <td>mpfi</td>\n",
       "      <td>3.78</td>\n",
       "      <td>3.15</td>\n",
       "      <td>9.5</td>\n",
       "      <td>114</td>\n",
       "      <td>5400</td>\n",
       "      <td>19</td>\n",
       "      <td>25</td>\n",
       "      <td>22625</td>\n",
       "    </tr>\n",
       "  </tbody>\n",
       "</table>\n",
       "<p>205 rows × 26 columns</p>\n",
       "</div>"
      ],
      "text/plain": [
       "     symboling normalized_losses         make fuel_type aspiration num_doors  \\\n",
       "0            3               NaN  alfa-romero       gas        std       two   \n",
       "1            3               NaN  alfa-romero       gas        std       two   \n",
       "2            1               NaN  alfa-romero       gas        std       two   \n",
       "3            2               164         audi       gas        std      four   \n",
       "4            2               164         audi       gas        std      four   \n",
       "..         ...               ...          ...       ...        ...       ...   \n",
       "200         -1                95        volvo       gas        std      four   \n",
       "201         -1                95        volvo       gas      turbo      four   \n",
       "202         -1                95        volvo       gas        std      four   \n",
       "203         -1                95        volvo    diesel      turbo      four   \n",
       "204         -1                95        volvo       gas      turbo      four   \n",
       "\n",
       "      body_style drive_wheels engine_location  wheel_base  ...  engine_size  \\\n",
       "0    convertible          rwd           front        88.6  ...          130   \n",
       "1    convertible          rwd           front        88.6  ...          130   \n",
       "2      hatchback          rwd           front        94.5  ...          152   \n",
       "3          sedan          fwd           front        99.8  ...          109   \n",
       "4          sedan          4wd           front        99.4  ...          136   \n",
       "..           ...          ...             ...         ...  ...          ...   \n",
       "200        sedan          rwd           front       109.1  ...          141   \n",
       "201        sedan          rwd           front       109.1  ...          141   \n",
       "202        sedan          rwd           front       109.1  ...          173   \n",
       "203        sedan          rwd           front       109.1  ...          145   \n",
       "204        sedan          rwd           front       109.1  ...          141   \n",
       "\n",
       "     fuel_system  bore  stroke compression_ratio horsepower  peak_rpm  \\\n",
       "0           mpfi  3.47    2.68               9.0        111      5000   \n",
       "1           mpfi  3.47    2.68               9.0        111      5000   \n",
       "2           mpfi  2.68    3.47               9.0        154      5000   \n",
       "3           mpfi  3.19    3.40              10.0        102      5500   \n",
       "4           mpfi  3.19    3.40               8.0        115      5500   \n",
       "..           ...   ...     ...               ...        ...       ...   \n",
       "200         mpfi  3.78    3.15               9.5        114      5400   \n",
       "201         mpfi  3.78    3.15               8.7        160      5300   \n",
       "202         mpfi  3.58    2.87               8.8        134      5500   \n",
       "203          idi  3.01    3.40              23.0        106      4800   \n",
       "204         mpfi  3.78    3.15               9.5        114      5400   \n",
       "\n",
       "    city_mpg highway_mpg  price  \n",
       "0         21          27  13495  \n",
       "1         21          27  16500  \n",
       "2         19          26  16500  \n",
       "3         24          30  13950  \n",
       "4         18          22  17450  \n",
       "..       ...         ...    ...  \n",
       "200       23          28  16845  \n",
       "201       19          25  19045  \n",
       "202       18          23  21485  \n",
       "203       26          27  22470  \n",
       "204       19          25  22625  \n",
       "\n",
       "[205 rows x 26 columns]"
      ]
     },
     "execution_count": 663,
     "metadata": {},
     "output_type": "execute_result"
    }
   ],
   "source": [
    "cars=cars.replace('?',np.nan)\n",
    "cars"
   ]
  },
  {
   "cell_type": "code",
   "execution_count": 664,
   "metadata": {},
   "outputs": [],
   "source": [
    "cars[[\"normalized_losses\",\"curb_weight\",\"bore\",\"stroke\",\"horsepower\",\"peak_rpm\",\"price\"]]=cars[[\"normalized_losses\",\"curb_weight\",\"bore\",\"stroke\",\"horsepower\",\"peak_rpm\",\"price\"]].astype(\"float\")"
   ]
  },
  {
   "cell_type": "code",
   "execution_count": 665,
   "metadata": {},
   "outputs": [
    {
     "name": "stdout",
     "output_type": "stream",
     "text": [
      "<class 'pandas.core.frame.DataFrame'>\n",
      "RangeIndex: 205 entries, 0 to 204\n",
      "Data columns (total 26 columns):\n",
      " #   Column             Non-Null Count  Dtype  \n",
      "---  ------             --------------  -----  \n",
      " 0   symboling          205 non-null    int64  \n",
      " 1   normalized_losses  164 non-null    float64\n",
      " 2   make               205 non-null    object \n",
      " 3   fuel_type          205 non-null    object \n",
      " 4   aspiration         205 non-null    object \n",
      " 5   num_doors          203 non-null    object \n",
      " 6   body_style         205 non-null    object \n",
      " 7   drive_wheels       205 non-null    object \n",
      " 8   engine_location    205 non-null    object \n",
      " 9   wheel_base         205 non-null    float64\n",
      " 10  length             205 non-null    float64\n",
      " 11  width              205 non-null    float64\n",
      " 12  height             205 non-null    float64\n",
      " 13  curb_weight        205 non-null    float64\n",
      " 14  engine_type        205 non-null    object \n",
      " 15  num_cylinders      205 non-null    object \n",
      " 16  engine_size        205 non-null    int64  \n",
      " 17  fuel_system        205 non-null    object \n",
      " 18  bore               201 non-null    float64\n",
      " 19  stroke             201 non-null    float64\n",
      " 20  compression_ratio  205 non-null    float64\n",
      " 21  horsepower         203 non-null    float64\n",
      " 22  peak_rpm           203 non-null    float64\n",
      " 23  city_mpg           205 non-null    int64  \n",
      " 24  highway_mpg        205 non-null    int64  \n",
      " 25  price              201 non-null    float64\n",
      "dtypes: float64(12), int64(4), object(10)\n",
      "memory usage: 41.8+ KB\n"
     ]
    }
   ],
   "source": [
    "cars.info()"
   ]
  },
  {
   "cell_type": "markdown",
   "metadata": {},
   "source": [
    "Instrusctions\n"
   ]
  },
  {
   "cell_type": "code",
   "execution_count": 666,
   "metadata": {},
   "outputs": [
    {
     "name": "stdout",
     "output_type": "stream",
     "text": [
      "<class 'pandas.core.frame.DataFrame'>\n",
      "RangeIndex: 205 entries, 0 to 204\n",
      "Data columns (total 25 columns):\n",
      " #   Column             Non-Null Count  Dtype  \n",
      "---  ------             --------------  -----  \n",
      " 0   symboling          205 non-null    int64  \n",
      " 1   make               205 non-null    object \n",
      " 2   fuel_type          205 non-null    object \n",
      " 3   aspiration         205 non-null    object \n",
      " 4   num_doors          203 non-null    object \n",
      " 5   body_style         205 non-null    object \n",
      " 6   drive_wheels       205 non-null    object \n",
      " 7   engine_location    205 non-null    object \n",
      " 8   wheel_base         205 non-null    float64\n",
      " 9   length             205 non-null    float64\n",
      " 10  width              205 non-null    float64\n",
      " 11  height             205 non-null    float64\n",
      " 12  curb_weight        205 non-null    float64\n",
      " 13  engine_type        205 non-null    object \n",
      " 14  num_cylinders      205 non-null    object \n",
      " 15  engine_size        205 non-null    int64  \n",
      " 16  fuel_system        205 non-null    object \n",
      " 17  bore               201 non-null    float64\n",
      " 18  stroke             201 non-null    float64\n",
      " 19  compression_ratio  205 non-null    float64\n",
      " 20  horsepower         203 non-null    float64\n",
      " 21  peak_rpm           203 non-null    float64\n",
      " 22  city_mpg           205 non-null    int64  \n",
      " 23  highway_mpg        205 non-null    int64  \n",
      " 24  price              201 non-null    float64\n",
      "dtypes: float64(11), int64(4), object(10)\n",
      "memory usage: 40.2+ KB\n"
     ]
    }
   ],
   "source": [
    "cars.drop(columns=[\"normalized_losses\"],inplace=True)\n",
    "cars.info()"
   ]
  },
  {
   "cell_type": "code",
   "execution_count": 667,
   "metadata": {},
   "outputs": [
    {
     "data": {
      "text/html": [
       "<div>\n",
       "<style scoped>\n",
       "    .dataframe tbody tr th:only-of-type {\n",
       "        vertical-align: middle;\n",
       "    }\n",
       "\n",
       "    .dataframe tbody tr th {\n",
       "        vertical-align: top;\n",
       "    }\n",
       "\n",
       "    .dataframe thead th {\n",
       "        text-align: right;\n",
       "    }\n",
       "</style>\n",
       "<table border=\"1\" class=\"dataframe\">\n",
       "  <thead>\n",
       "    <tr style=\"text-align: right;\">\n",
       "      <th></th>\n",
       "      <th>symboling</th>\n",
       "      <th>make</th>\n",
       "      <th>fuel_type</th>\n",
       "      <th>aspiration</th>\n",
       "      <th>num_doors</th>\n",
       "      <th>body_style</th>\n",
       "      <th>drive_wheels</th>\n",
       "      <th>engine_location</th>\n",
       "      <th>wheel_base</th>\n",
       "      <th>length</th>\n",
       "      <th>...</th>\n",
       "      <th>engine_size</th>\n",
       "      <th>fuel_system</th>\n",
       "      <th>bore</th>\n",
       "      <th>stroke</th>\n",
       "      <th>compression_ratio</th>\n",
       "      <th>horsepower</th>\n",
       "      <th>peak_rpm</th>\n",
       "      <th>city_mpg</th>\n",
       "      <th>highway_mpg</th>\n",
       "      <th>price</th>\n",
       "    </tr>\n",
       "  </thead>\n",
       "  <tbody>\n",
       "    <tr>\n",
       "      <th>9</th>\n",
       "      <td>0</td>\n",
       "      <td>audi</td>\n",
       "      <td>gas</td>\n",
       "      <td>turbo</td>\n",
       "      <td>two</td>\n",
       "      <td>hatchback</td>\n",
       "      <td>4wd</td>\n",
       "      <td>front</td>\n",
       "      <td>99.5</td>\n",
       "      <td>178.2</td>\n",
       "      <td>...</td>\n",
       "      <td>131</td>\n",
       "      <td>mpfi</td>\n",
       "      <td>3.13</td>\n",
       "      <td>3.40</td>\n",
       "      <td>7.0</td>\n",
       "      <td>160.0</td>\n",
       "      <td>5500.0</td>\n",
       "      <td>16</td>\n",
       "      <td>22</td>\n",
       "      <td>NaN</td>\n",
       "    </tr>\n",
       "    <tr>\n",
       "      <th>44</th>\n",
       "      <td>1</td>\n",
       "      <td>isuzu</td>\n",
       "      <td>gas</td>\n",
       "      <td>std</td>\n",
       "      <td>two</td>\n",
       "      <td>sedan</td>\n",
       "      <td>fwd</td>\n",
       "      <td>front</td>\n",
       "      <td>94.5</td>\n",
       "      <td>155.9</td>\n",
       "      <td>...</td>\n",
       "      <td>90</td>\n",
       "      <td>2bbl</td>\n",
       "      <td>3.03</td>\n",
       "      <td>3.11</td>\n",
       "      <td>9.6</td>\n",
       "      <td>70.0</td>\n",
       "      <td>5400.0</td>\n",
       "      <td>38</td>\n",
       "      <td>43</td>\n",
       "      <td>NaN</td>\n",
       "    </tr>\n",
       "    <tr>\n",
       "      <th>45</th>\n",
       "      <td>0</td>\n",
       "      <td>isuzu</td>\n",
       "      <td>gas</td>\n",
       "      <td>std</td>\n",
       "      <td>four</td>\n",
       "      <td>sedan</td>\n",
       "      <td>fwd</td>\n",
       "      <td>front</td>\n",
       "      <td>94.5</td>\n",
       "      <td>155.9</td>\n",
       "      <td>...</td>\n",
       "      <td>90</td>\n",
       "      <td>2bbl</td>\n",
       "      <td>3.03</td>\n",
       "      <td>3.11</td>\n",
       "      <td>9.6</td>\n",
       "      <td>70.0</td>\n",
       "      <td>5400.0</td>\n",
       "      <td>38</td>\n",
       "      <td>43</td>\n",
       "      <td>NaN</td>\n",
       "    </tr>\n",
       "    <tr>\n",
       "      <th>129</th>\n",
       "      <td>1</td>\n",
       "      <td>porsche</td>\n",
       "      <td>gas</td>\n",
       "      <td>std</td>\n",
       "      <td>two</td>\n",
       "      <td>hatchback</td>\n",
       "      <td>rwd</td>\n",
       "      <td>front</td>\n",
       "      <td>98.4</td>\n",
       "      <td>175.7</td>\n",
       "      <td>...</td>\n",
       "      <td>203</td>\n",
       "      <td>mpfi</td>\n",
       "      <td>3.94</td>\n",
       "      <td>3.11</td>\n",
       "      <td>10.0</td>\n",
       "      <td>288.0</td>\n",
       "      <td>5750.0</td>\n",
       "      <td>17</td>\n",
       "      <td>28</td>\n",
       "      <td>NaN</td>\n",
       "    </tr>\n",
       "  </tbody>\n",
       "</table>\n",
       "<p>4 rows × 25 columns</p>\n",
       "</div>"
      ],
      "text/plain": [
       "     symboling     make fuel_type aspiration num_doors body_style  \\\n",
       "9            0     audi       gas      turbo       two  hatchback   \n",
       "44           1    isuzu       gas        std       two      sedan   \n",
       "45           0    isuzu       gas        std      four      sedan   \n",
       "129          1  porsche       gas        std       two  hatchback   \n",
       "\n",
       "    drive_wheels engine_location  wheel_base  length  ...  engine_size  \\\n",
       "9            4wd           front        99.5   178.2  ...          131   \n",
       "44           fwd           front        94.5   155.9  ...           90   \n",
       "45           fwd           front        94.5   155.9  ...           90   \n",
       "129          rwd           front        98.4   175.7  ...          203   \n",
       "\n",
       "     fuel_system  bore stroke compression_ratio  horsepower peak_rpm  \\\n",
       "9           mpfi  3.13   3.40               7.0       160.0   5500.0   \n",
       "44          2bbl  3.03   3.11               9.6        70.0   5400.0   \n",
       "45          2bbl  3.03   3.11               9.6        70.0   5400.0   \n",
       "129         mpfi  3.94   3.11              10.0       288.0   5750.0   \n",
       "\n",
       "     city_mpg  highway_mpg  price  \n",
       "9          16           22    NaN  \n",
       "44         38           43    NaN  \n",
       "45         38           43    NaN  \n",
       "129        17           28    NaN  \n",
       "\n",
       "[4 rows x 25 columns]"
      ]
     },
     "execution_count": 667,
     "metadata": {},
     "output_type": "execute_result"
    }
   ],
   "source": [
    "cars[cars['price'].isnull()]"
   ]
  },
  {
   "cell_type": "code",
   "execution_count": 668,
   "metadata": {},
   "outputs": [
    {
     "data": {
      "text/html": [
       "<div>\n",
       "<style scoped>\n",
       "    .dataframe tbody tr th:only-of-type {\n",
       "        vertical-align: middle;\n",
       "    }\n",
       "\n",
       "    .dataframe tbody tr th {\n",
       "        vertical-align: top;\n",
       "    }\n",
       "\n",
       "    .dataframe thead th {\n",
       "        text-align: right;\n",
       "    }\n",
       "</style>\n",
       "<table border=\"1\" class=\"dataframe\">\n",
       "  <thead>\n",
       "    <tr style=\"text-align: right;\">\n",
       "      <th></th>\n",
       "      <th>symboling</th>\n",
       "      <th>make</th>\n",
       "      <th>fuel_type</th>\n",
       "      <th>aspiration</th>\n",
       "      <th>num_doors</th>\n",
       "      <th>body_style</th>\n",
       "      <th>drive_wheels</th>\n",
       "      <th>engine_location</th>\n",
       "      <th>wheel_base</th>\n",
       "      <th>length</th>\n",
       "      <th>...</th>\n",
       "      <th>engine_size</th>\n",
       "      <th>fuel_system</th>\n",
       "      <th>bore</th>\n",
       "      <th>stroke</th>\n",
       "      <th>compression_ratio</th>\n",
       "      <th>horsepower</th>\n",
       "      <th>peak_rpm</th>\n",
       "      <th>city_mpg</th>\n",
       "      <th>highway_mpg</th>\n",
       "      <th>price</th>\n",
       "    </tr>\n",
       "  </thead>\n",
       "  <tbody>\n",
       "    <tr>\n",
       "      <th>55</th>\n",
       "      <td>3</td>\n",
       "      <td>mazda</td>\n",
       "      <td>gas</td>\n",
       "      <td>std</td>\n",
       "      <td>two</td>\n",
       "      <td>hatchback</td>\n",
       "      <td>rwd</td>\n",
       "      <td>front</td>\n",
       "      <td>95.3</td>\n",
       "      <td>169.0</td>\n",
       "      <td>...</td>\n",
       "      <td>70</td>\n",
       "      <td>4bbl</td>\n",
       "      <td>NaN</td>\n",
       "      <td>NaN</td>\n",
       "      <td>9.4</td>\n",
       "      <td>101.0</td>\n",
       "      <td>6000.0</td>\n",
       "      <td>17</td>\n",
       "      <td>23</td>\n",
       "      <td>10945.0</td>\n",
       "    </tr>\n",
       "    <tr>\n",
       "      <th>56</th>\n",
       "      <td>3</td>\n",
       "      <td>mazda</td>\n",
       "      <td>gas</td>\n",
       "      <td>std</td>\n",
       "      <td>two</td>\n",
       "      <td>hatchback</td>\n",
       "      <td>rwd</td>\n",
       "      <td>front</td>\n",
       "      <td>95.3</td>\n",
       "      <td>169.0</td>\n",
       "      <td>...</td>\n",
       "      <td>70</td>\n",
       "      <td>4bbl</td>\n",
       "      <td>NaN</td>\n",
       "      <td>NaN</td>\n",
       "      <td>9.4</td>\n",
       "      <td>101.0</td>\n",
       "      <td>6000.0</td>\n",
       "      <td>17</td>\n",
       "      <td>23</td>\n",
       "      <td>11845.0</td>\n",
       "    </tr>\n",
       "    <tr>\n",
       "      <th>57</th>\n",
       "      <td>3</td>\n",
       "      <td>mazda</td>\n",
       "      <td>gas</td>\n",
       "      <td>std</td>\n",
       "      <td>two</td>\n",
       "      <td>hatchback</td>\n",
       "      <td>rwd</td>\n",
       "      <td>front</td>\n",
       "      <td>95.3</td>\n",
       "      <td>169.0</td>\n",
       "      <td>...</td>\n",
       "      <td>70</td>\n",
       "      <td>4bbl</td>\n",
       "      <td>NaN</td>\n",
       "      <td>NaN</td>\n",
       "      <td>9.4</td>\n",
       "      <td>101.0</td>\n",
       "      <td>6000.0</td>\n",
       "      <td>17</td>\n",
       "      <td>23</td>\n",
       "      <td>13645.0</td>\n",
       "    </tr>\n",
       "    <tr>\n",
       "      <th>58</th>\n",
       "      <td>3</td>\n",
       "      <td>mazda</td>\n",
       "      <td>gas</td>\n",
       "      <td>std</td>\n",
       "      <td>two</td>\n",
       "      <td>hatchback</td>\n",
       "      <td>rwd</td>\n",
       "      <td>front</td>\n",
       "      <td>95.3</td>\n",
       "      <td>169.0</td>\n",
       "      <td>...</td>\n",
       "      <td>80</td>\n",
       "      <td>mpfi</td>\n",
       "      <td>NaN</td>\n",
       "      <td>NaN</td>\n",
       "      <td>9.4</td>\n",
       "      <td>135.0</td>\n",
       "      <td>6000.0</td>\n",
       "      <td>16</td>\n",
       "      <td>23</td>\n",
       "      <td>15645.0</td>\n",
       "    </tr>\n",
       "  </tbody>\n",
       "</table>\n",
       "<p>4 rows × 25 columns</p>\n",
       "</div>"
      ],
      "text/plain": [
       "    symboling   make fuel_type aspiration num_doors body_style drive_wheels  \\\n",
       "55          3  mazda       gas        std       two  hatchback          rwd   \n",
       "56          3  mazda       gas        std       two  hatchback          rwd   \n",
       "57          3  mazda       gas        std       two  hatchback          rwd   \n",
       "58          3  mazda       gas        std       two  hatchback          rwd   \n",
       "\n",
       "   engine_location  wheel_base  length  ...  engine_size  fuel_system  bore  \\\n",
       "55           front        95.3   169.0  ...           70         4bbl   NaN   \n",
       "56           front        95.3   169.0  ...           70         4bbl   NaN   \n",
       "57           front        95.3   169.0  ...           70         4bbl   NaN   \n",
       "58           front        95.3   169.0  ...           80         mpfi   NaN   \n",
       "\n",
       "   stroke compression_ratio  horsepower peak_rpm  city_mpg  highway_mpg  \\\n",
       "55    NaN               9.4       101.0   6000.0        17           23   \n",
       "56    NaN               9.4       101.0   6000.0        17           23   \n",
       "57    NaN               9.4       101.0   6000.0        17           23   \n",
       "58    NaN               9.4       135.0   6000.0        16           23   \n",
       "\n",
       "      price  \n",
       "55  10945.0  \n",
       "56  11845.0  \n",
       "57  13645.0  \n",
       "58  15645.0  \n",
       "\n",
       "[4 rows x 25 columns]"
      ]
     },
     "execution_count": 668,
     "metadata": {},
     "output_type": "execute_result"
    }
   ],
   "source": [
    "cars[cars['bore'].isnull()]"
   ]
  },
  {
   "cell_type": "code",
   "execution_count": 669,
   "metadata": {},
   "outputs": [
    {
     "data": {
      "text/html": [
       "<div>\n",
       "<style scoped>\n",
       "    .dataframe tbody tr th:only-of-type {\n",
       "        vertical-align: middle;\n",
       "    }\n",
       "\n",
       "    .dataframe tbody tr th {\n",
       "        vertical-align: top;\n",
       "    }\n",
       "\n",
       "    .dataframe thead th {\n",
       "        text-align: right;\n",
       "    }\n",
       "</style>\n",
       "<table border=\"1\" class=\"dataframe\">\n",
       "  <thead>\n",
       "    <tr style=\"text-align: right;\">\n",
       "      <th></th>\n",
       "      <th>symboling</th>\n",
       "      <th>make</th>\n",
       "      <th>fuel_type</th>\n",
       "      <th>aspiration</th>\n",
       "      <th>num_doors</th>\n",
       "      <th>body_style</th>\n",
       "      <th>drive_wheels</th>\n",
       "      <th>engine_location</th>\n",
       "      <th>wheel_base</th>\n",
       "      <th>length</th>\n",
       "      <th>...</th>\n",
       "      <th>engine_size</th>\n",
       "      <th>fuel_system</th>\n",
       "      <th>bore</th>\n",
       "      <th>stroke</th>\n",
       "      <th>compression_ratio</th>\n",
       "      <th>horsepower</th>\n",
       "      <th>peak_rpm</th>\n",
       "      <th>city_mpg</th>\n",
       "      <th>highway_mpg</th>\n",
       "      <th>price</th>\n",
       "    </tr>\n",
       "  </thead>\n",
       "  <tbody>\n",
       "    <tr>\n",
       "      <th>130</th>\n",
       "      <td>0</td>\n",
       "      <td>renault</td>\n",
       "      <td>gas</td>\n",
       "      <td>std</td>\n",
       "      <td>four</td>\n",
       "      <td>wagon</td>\n",
       "      <td>fwd</td>\n",
       "      <td>front</td>\n",
       "      <td>96.1</td>\n",
       "      <td>181.5</td>\n",
       "      <td>...</td>\n",
       "      <td>132</td>\n",
       "      <td>mpfi</td>\n",
       "      <td>3.46</td>\n",
       "      <td>3.9</td>\n",
       "      <td>8.7</td>\n",
       "      <td>NaN</td>\n",
       "      <td>NaN</td>\n",
       "      <td>23</td>\n",
       "      <td>31</td>\n",
       "      <td>9295.0</td>\n",
       "    </tr>\n",
       "    <tr>\n",
       "      <th>131</th>\n",
       "      <td>2</td>\n",
       "      <td>renault</td>\n",
       "      <td>gas</td>\n",
       "      <td>std</td>\n",
       "      <td>two</td>\n",
       "      <td>hatchback</td>\n",
       "      <td>fwd</td>\n",
       "      <td>front</td>\n",
       "      <td>96.1</td>\n",
       "      <td>176.8</td>\n",
       "      <td>...</td>\n",
       "      <td>132</td>\n",
       "      <td>mpfi</td>\n",
       "      <td>3.46</td>\n",
       "      <td>3.9</td>\n",
       "      <td>8.7</td>\n",
       "      <td>NaN</td>\n",
       "      <td>NaN</td>\n",
       "      <td>23</td>\n",
       "      <td>31</td>\n",
       "      <td>9895.0</td>\n",
       "    </tr>\n",
       "  </tbody>\n",
       "</table>\n",
       "<p>2 rows × 25 columns</p>\n",
       "</div>"
      ],
      "text/plain": [
       "     symboling     make fuel_type aspiration num_doors body_style  \\\n",
       "130          0  renault       gas        std      four      wagon   \n",
       "131          2  renault       gas        std       two  hatchback   \n",
       "\n",
       "    drive_wheels engine_location  wheel_base  length  ...  engine_size  \\\n",
       "130          fwd           front        96.1   181.5  ...          132   \n",
       "131          fwd           front        96.1   176.8  ...          132   \n",
       "\n",
       "     fuel_system  bore stroke compression_ratio  horsepower peak_rpm  \\\n",
       "130         mpfi  3.46    3.9               8.7         NaN      NaN   \n",
       "131         mpfi  3.46    3.9               8.7         NaN      NaN   \n",
       "\n",
       "     city_mpg  highway_mpg   price  \n",
       "130        23           31  9295.0  \n",
       "131        23           31  9895.0  \n",
       "\n",
       "[2 rows x 25 columns]"
      ]
     },
     "execution_count": 669,
     "metadata": {},
     "output_type": "execute_result"
    }
   ],
   "source": [
    "cars[cars['horsepower'].isnull()]"
   ]
  },
  {
   "cell_type": "code",
   "execution_count": 670,
   "metadata": {},
   "outputs": [],
   "source": [
    "cars.dropna(inplace=True)"
   ]
  },
  {
   "cell_type": "code",
   "execution_count": 671,
   "metadata": {},
   "outputs": [
    {
     "name": "stdout",
     "output_type": "stream",
     "text": [
      "<class 'pandas.core.frame.DataFrame'>\n",
      "Int64Index: 193 entries, 0 to 204\n",
      "Data columns (total 25 columns):\n",
      " #   Column             Non-Null Count  Dtype  \n",
      "---  ------             --------------  -----  \n",
      " 0   symboling          193 non-null    int64  \n",
      " 1   make               193 non-null    object \n",
      " 2   fuel_type          193 non-null    object \n",
      " 3   aspiration         193 non-null    object \n",
      " 4   num_doors          193 non-null    object \n",
      " 5   body_style         193 non-null    object \n",
      " 6   drive_wheels       193 non-null    object \n",
      " 7   engine_location    193 non-null    object \n",
      " 8   wheel_base         193 non-null    float64\n",
      " 9   length             193 non-null    float64\n",
      " 10  width              193 non-null    float64\n",
      " 11  height             193 non-null    float64\n",
      " 12  curb_weight        193 non-null    float64\n",
      " 13  engine_type        193 non-null    object \n",
      " 14  num_cylinders      193 non-null    object \n",
      " 15  engine_size        193 non-null    int64  \n",
      " 16  fuel_system        193 non-null    object \n",
      " 17  bore               193 non-null    float64\n",
      " 18  stroke             193 non-null    float64\n",
      " 19  compression_ratio  193 non-null    float64\n",
      " 20  horsepower         193 non-null    float64\n",
      " 21  peak_rpm           193 non-null    float64\n",
      " 22  city_mpg           193 non-null    int64  \n",
      " 23  highway_mpg        193 non-null    int64  \n",
      " 24  price              193 non-null    float64\n",
      "dtypes: float64(11), int64(4), object(10)\n",
      "memory usage: 39.2+ KB\n"
     ]
    }
   ],
   "source": [
    "cars.info()"
   ]
  },
  {
   "cell_type": "code",
   "execution_count": 672,
   "metadata": {},
   "outputs": [
    {
     "data": {
      "text/plain": [
       "toyota           32\n",
       "nissan           18\n",
       "mitsubishi       13\n",
       "honda            13\n",
       "volkswagen       12\n",
       "mazda            12\n",
       "subaru           12\n",
       "peugot           11\n",
       "volvo            11\n",
       "dodge             8\n",
       "mercedes-benz     8\n",
       "bmw               8\n",
       "plymouth          7\n",
       "audi              6\n",
       "saab              6\n",
       "porsche           4\n",
       "jaguar            3\n",
       "chevrolet         3\n",
       "alfa-romero       3\n",
       "isuzu             2\n",
       "mercury           1\n",
       "Name: make, dtype: int64"
      ]
     },
     "execution_count": 672,
     "metadata": {},
     "output_type": "execute_result"
    }
   ],
   "source": [
    "cars[\"make\"].value_counts()"
   ]
  },
  {
   "cell_type": "code",
   "execution_count": 673,
   "metadata": {},
   "outputs": [
    {
     "data": {
      "text/html": [
       "<div>\n",
       "<style scoped>\n",
       "    .dataframe tbody tr th:only-of-type {\n",
       "        vertical-align: middle;\n",
       "    }\n",
       "\n",
       "    .dataframe tbody tr th {\n",
       "        vertical-align: top;\n",
       "    }\n",
       "\n",
       "    .dataframe thead th {\n",
       "        text-align: right;\n",
       "    }\n",
       "</style>\n",
       "<table border=\"1\" class=\"dataframe\">\n",
       "  <thead>\n",
       "    <tr style=\"text-align: right;\">\n",
       "      <th></th>\n",
       "      <th>symboling</th>\n",
       "      <th>make</th>\n",
       "      <th>fuel_type</th>\n",
       "      <th>aspiration</th>\n",
       "      <th>num_doors</th>\n",
       "      <th>body_style</th>\n",
       "      <th>drive_wheels</th>\n",
       "      <th>engine_location</th>\n",
       "      <th>wheel_base</th>\n",
       "      <th>length</th>\n",
       "      <th>...</th>\n",
       "      <th>engine_size</th>\n",
       "      <th>fuel_system</th>\n",
       "      <th>bore</th>\n",
       "      <th>stroke</th>\n",
       "      <th>compression_ratio</th>\n",
       "      <th>horsepower</th>\n",
       "      <th>peak_rpm</th>\n",
       "      <th>city_mpg</th>\n",
       "      <th>highway_mpg</th>\n",
       "      <th>price</th>\n",
       "    </tr>\n",
       "  </thead>\n",
       "  <tbody>\n",
       "    <tr>\n",
       "      <th>0</th>\n",
       "      <td>3</td>\n",
       "      <td>alfa-romero</td>\n",
       "      <td>gas</td>\n",
       "      <td>std</td>\n",
       "      <td>two</td>\n",
       "      <td>convertible</td>\n",
       "      <td>rwd</td>\n",
       "      <td>front</td>\n",
       "      <td>88.6</td>\n",
       "      <td>168.8</td>\n",
       "      <td>...</td>\n",
       "      <td>130</td>\n",
       "      <td>mpfi</td>\n",
       "      <td>3.47</td>\n",
       "      <td>2.68</td>\n",
       "      <td>9.0</td>\n",
       "      <td>111.0</td>\n",
       "      <td>5000.0</td>\n",
       "      <td>21</td>\n",
       "      <td>27</td>\n",
       "      <td>13495.0</td>\n",
       "    </tr>\n",
       "    <tr>\n",
       "      <th>1</th>\n",
       "      <td>3</td>\n",
       "      <td>alfa-romero</td>\n",
       "      <td>gas</td>\n",
       "      <td>std</td>\n",
       "      <td>two</td>\n",
       "      <td>convertible</td>\n",
       "      <td>rwd</td>\n",
       "      <td>front</td>\n",
       "      <td>88.6</td>\n",
       "      <td>168.8</td>\n",
       "      <td>...</td>\n",
       "      <td>130</td>\n",
       "      <td>mpfi</td>\n",
       "      <td>3.47</td>\n",
       "      <td>2.68</td>\n",
       "      <td>9.0</td>\n",
       "      <td>111.0</td>\n",
       "      <td>5000.0</td>\n",
       "      <td>21</td>\n",
       "      <td>27</td>\n",
       "      <td>16500.0</td>\n",
       "    </tr>\n",
       "    <tr>\n",
       "      <th>2</th>\n",
       "      <td>1</td>\n",
       "      <td>alfa-romero</td>\n",
       "      <td>gas</td>\n",
       "      <td>std</td>\n",
       "      <td>two</td>\n",
       "      <td>hatchback</td>\n",
       "      <td>rwd</td>\n",
       "      <td>front</td>\n",
       "      <td>94.5</td>\n",
       "      <td>171.2</td>\n",
       "      <td>...</td>\n",
       "      <td>152</td>\n",
       "      <td>mpfi</td>\n",
       "      <td>2.68</td>\n",
       "      <td>3.47</td>\n",
       "      <td>9.0</td>\n",
       "      <td>154.0</td>\n",
       "      <td>5000.0</td>\n",
       "      <td>19</td>\n",
       "      <td>26</td>\n",
       "      <td>16500.0</td>\n",
       "    </tr>\n",
       "    <tr>\n",
       "      <th>3</th>\n",
       "      <td>2</td>\n",
       "      <td>audi</td>\n",
       "      <td>gas</td>\n",
       "      <td>std</td>\n",
       "      <td>four</td>\n",
       "      <td>sedan</td>\n",
       "      <td>fwd</td>\n",
       "      <td>front</td>\n",
       "      <td>99.8</td>\n",
       "      <td>176.6</td>\n",
       "      <td>...</td>\n",
       "      <td>109</td>\n",
       "      <td>mpfi</td>\n",
       "      <td>3.19</td>\n",
       "      <td>3.40</td>\n",
       "      <td>10.0</td>\n",
       "      <td>102.0</td>\n",
       "      <td>5500.0</td>\n",
       "      <td>24</td>\n",
       "      <td>30</td>\n",
       "      <td>13950.0</td>\n",
       "    </tr>\n",
       "    <tr>\n",
       "      <th>4</th>\n",
       "      <td>2</td>\n",
       "      <td>audi</td>\n",
       "      <td>gas</td>\n",
       "      <td>std</td>\n",
       "      <td>four</td>\n",
       "      <td>sedan</td>\n",
       "      <td>4wd</td>\n",
       "      <td>front</td>\n",
       "      <td>99.4</td>\n",
       "      <td>176.6</td>\n",
       "      <td>...</td>\n",
       "      <td>136</td>\n",
       "      <td>mpfi</td>\n",
       "      <td>3.19</td>\n",
       "      <td>3.40</td>\n",
       "      <td>8.0</td>\n",
       "      <td>115.0</td>\n",
       "      <td>5500.0</td>\n",
       "      <td>18</td>\n",
       "      <td>22</td>\n",
       "      <td>17450.0</td>\n",
       "    </tr>\n",
       "    <tr>\n",
       "      <th>...</th>\n",
       "      <td>...</td>\n",
       "      <td>...</td>\n",
       "      <td>...</td>\n",
       "      <td>...</td>\n",
       "      <td>...</td>\n",
       "      <td>...</td>\n",
       "      <td>...</td>\n",
       "      <td>...</td>\n",
       "      <td>...</td>\n",
       "      <td>...</td>\n",
       "      <td>...</td>\n",
       "      <td>...</td>\n",
       "      <td>...</td>\n",
       "      <td>...</td>\n",
       "      <td>...</td>\n",
       "      <td>...</td>\n",
       "      <td>...</td>\n",
       "      <td>...</td>\n",
       "      <td>...</td>\n",
       "      <td>...</td>\n",
       "      <td>...</td>\n",
       "    </tr>\n",
       "    <tr>\n",
       "      <th>200</th>\n",
       "      <td>-1</td>\n",
       "      <td>volvo</td>\n",
       "      <td>gas</td>\n",
       "      <td>std</td>\n",
       "      <td>four</td>\n",
       "      <td>sedan</td>\n",
       "      <td>rwd</td>\n",
       "      <td>front</td>\n",
       "      <td>109.1</td>\n",
       "      <td>188.8</td>\n",
       "      <td>...</td>\n",
       "      <td>141</td>\n",
       "      <td>mpfi</td>\n",
       "      <td>3.78</td>\n",
       "      <td>3.15</td>\n",
       "      <td>9.5</td>\n",
       "      <td>114.0</td>\n",
       "      <td>5400.0</td>\n",
       "      <td>23</td>\n",
       "      <td>28</td>\n",
       "      <td>16845.0</td>\n",
       "    </tr>\n",
       "    <tr>\n",
       "      <th>201</th>\n",
       "      <td>-1</td>\n",
       "      <td>volvo</td>\n",
       "      <td>gas</td>\n",
       "      <td>turbo</td>\n",
       "      <td>four</td>\n",
       "      <td>sedan</td>\n",
       "      <td>rwd</td>\n",
       "      <td>front</td>\n",
       "      <td>109.1</td>\n",
       "      <td>188.8</td>\n",
       "      <td>...</td>\n",
       "      <td>141</td>\n",
       "      <td>mpfi</td>\n",
       "      <td>3.78</td>\n",
       "      <td>3.15</td>\n",
       "      <td>8.7</td>\n",
       "      <td>160.0</td>\n",
       "      <td>5300.0</td>\n",
       "      <td>19</td>\n",
       "      <td>25</td>\n",
       "      <td>19045.0</td>\n",
       "    </tr>\n",
       "    <tr>\n",
       "      <th>202</th>\n",
       "      <td>-1</td>\n",
       "      <td>volvo</td>\n",
       "      <td>gas</td>\n",
       "      <td>std</td>\n",
       "      <td>four</td>\n",
       "      <td>sedan</td>\n",
       "      <td>rwd</td>\n",
       "      <td>front</td>\n",
       "      <td>109.1</td>\n",
       "      <td>188.8</td>\n",
       "      <td>...</td>\n",
       "      <td>173</td>\n",
       "      <td>mpfi</td>\n",
       "      <td>3.58</td>\n",
       "      <td>2.87</td>\n",
       "      <td>8.8</td>\n",
       "      <td>134.0</td>\n",
       "      <td>5500.0</td>\n",
       "      <td>18</td>\n",
       "      <td>23</td>\n",
       "      <td>21485.0</td>\n",
       "    </tr>\n",
       "    <tr>\n",
       "      <th>203</th>\n",
       "      <td>-1</td>\n",
       "      <td>volvo</td>\n",
       "      <td>diesel</td>\n",
       "      <td>turbo</td>\n",
       "      <td>four</td>\n",
       "      <td>sedan</td>\n",
       "      <td>rwd</td>\n",
       "      <td>front</td>\n",
       "      <td>109.1</td>\n",
       "      <td>188.8</td>\n",
       "      <td>...</td>\n",
       "      <td>145</td>\n",
       "      <td>idi</td>\n",
       "      <td>3.01</td>\n",
       "      <td>3.40</td>\n",
       "      <td>23.0</td>\n",
       "      <td>106.0</td>\n",
       "      <td>4800.0</td>\n",
       "      <td>26</td>\n",
       "      <td>27</td>\n",
       "      <td>22470.0</td>\n",
       "    </tr>\n",
       "    <tr>\n",
       "      <th>204</th>\n",
       "      <td>-1</td>\n",
       "      <td>volvo</td>\n",
       "      <td>gas</td>\n",
       "      <td>turbo</td>\n",
       "      <td>four</td>\n",
       "      <td>sedan</td>\n",
       "      <td>rwd</td>\n",
       "      <td>front</td>\n",
       "      <td>109.1</td>\n",
       "      <td>188.8</td>\n",
       "      <td>...</td>\n",
       "      <td>141</td>\n",
       "      <td>mpfi</td>\n",
       "      <td>3.78</td>\n",
       "      <td>3.15</td>\n",
       "      <td>9.5</td>\n",
       "      <td>114.0</td>\n",
       "      <td>5400.0</td>\n",
       "      <td>19</td>\n",
       "      <td>25</td>\n",
       "      <td>22625.0</td>\n",
       "    </tr>\n",
       "  </tbody>\n",
       "</table>\n",
       "<p>193 rows × 25 columns</p>\n",
       "</div>"
      ],
      "text/plain": [
       "     symboling         make fuel_type aspiration num_doors   body_style  \\\n",
       "0            3  alfa-romero       gas        std       two  convertible   \n",
       "1            3  alfa-romero       gas        std       two  convertible   \n",
       "2            1  alfa-romero       gas        std       two    hatchback   \n",
       "3            2         audi       gas        std      four        sedan   \n",
       "4            2         audi       gas        std      four        sedan   \n",
       "..         ...          ...       ...        ...       ...          ...   \n",
       "200         -1        volvo       gas        std      four        sedan   \n",
       "201         -1        volvo       gas      turbo      four        sedan   \n",
       "202         -1        volvo       gas        std      four        sedan   \n",
       "203         -1        volvo    diesel      turbo      four        sedan   \n",
       "204         -1        volvo       gas      turbo      four        sedan   \n",
       "\n",
       "    drive_wheels engine_location  wheel_base  length  ...  engine_size  \\\n",
       "0            rwd           front        88.6   168.8  ...          130   \n",
       "1            rwd           front        88.6   168.8  ...          130   \n",
       "2            rwd           front        94.5   171.2  ...          152   \n",
       "3            fwd           front        99.8   176.6  ...          109   \n",
       "4            4wd           front        99.4   176.6  ...          136   \n",
       "..           ...             ...         ...     ...  ...          ...   \n",
       "200          rwd           front       109.1   188.8  ...          141   \n",
       "201          rwd           front       109.1   188.8  ...          141   \n",
       "202          rwd           front       109.1   188.8  ...          173   \n",
       "203          rwd           front       109.1   188.8  ...          145   \n",
       "204          rwd           front       109.1   188.8  ...          141   \n",
       "\n",
       "     fuel_system  bore stroke compression_ratio  horsepower peak_rpm  \\\n",
       "0           mpfi  3.47   2.68               9.0       111.0   5000.0   \n",
       "1           mpfi  3.47   2.68               9.0       111.0   5000.0   \n",
       "2           mpfi  2.68   3.47               9.0       154.0   5000.0   \n",
       "3           mpfi  3.19   3.40              10.0       102.0   5500.0   \n",
       "4           mpfi  3.19   3.40               8.0       115.0   5500.0   \n",
       "..           ...   ...    ...               ...         ...      ...   \n",
       "200         mpfi  3.78   3.15               9.5       114.0   5400.0   \n",
       "201         mpfi  3.78   3.15               8.7       160.0   5300.0   \n",
       "202         mpfi  3.58   2.87               8.8       134.0   5500.0   \n",
       "203          idi  3.01   3.40              23.0       106.0   4800.0   \n",
       "204         mpfi  3.78   3.15               9.5       114.0   5400.0   \n",
       "\n",
       "     city_mpg  highway_mpg    price  \n",
       "0          21           27  13495.0  \n",
       "1          21           27  16500.0  \n",
       "2          19           26  16500.0  \n",
       "3          24           30  13950.0  \n",
       "4          18           22  17450.0  \n",
       "..        ...          ...      ...  \n",
       "200        23           28  16845.0  \n",
       "201        19           25  19045.0  \n",
       "202        18           23  21485.0  \n",
       "203        26           27  22470.0  \n",
       "204        19           25  22625.0  \n",
       "\n",
       "[193 rows x 25 columns]"
      ]
     },
     "execution_count": 673,
     "metadata": {},
     "output_type": "execute_result"
    }
   ],
   "source": [
    "cars_analysis = cars.copy()\n",
    "cars_analysis"
   ]
  },
  {
   "cell_type": "code",
   "execution_count": null,
   "metadata": {},
   "outputs": [],
   "source": []
  },
  {
   "cell_type": "markdown",
   "metadata": {},
   "source": [
    "[Index](#Index)"
   ]
  },
  {
   "cell_type": "markdown",
   "metadata": {},
   "source": [
    "# 3"
   ]
  },
  {
   "cell_type": "markdown",
   "metadata": {},
   "source": [
    "## Title"
   ]
  },
  {
   "cell_type": "markdown",
   "metadata": {},
   "source": []
  },
  {
   "cell_type": "code",
   "execution_count": 674,
   "metadata": {},
   "outputs": [],
   "source": [
    "no_price_column = [each_column for each_column in cars.columns if each_column!='price']"
   ]
  },
  {
   "cell_type": "markdown",
   "metadata": {},
   "source": [
    "instructions\n"
   ]
  },
  {
   "cell_type": "code",
   "execution_count": 675,
   "metadata": {},
   "outputs": [],
   "source": [
    "cars['symboling'] = cars['symboling'].astype('str')\n",
    "ord_cols=['symboling','make', 'fuel_type', 'aspiration', 'num_doors',\n",
    "          'body_style', 'drive_wheels', 'engine_location', \n",
    "          'engine_type', 'num_cylinders', 'fuel_system']"
   ]
  },
  {
   "cell_type": "code",
   "execution_count": 676,
   "metadata": {},
   "outputs": [],
   "source": [
    "num_cols=['wheel_base', 'length',\n",
    "          'width', 'height', 'curb_weight', 'engine_size', \n",
    "          'bore', 'stroke', 'compression_ratio',\n",
    "          'horsepower', 'peak_rpm', 'city_mpg', \n",
    "          'highway_mpg','price']"
   ]
  },
  {
   "cell_type": "code",
   "execution_count": 677,
   "metadata": {},
   "outputs": [
    {
     "data": {
      "image/png": "[encoded data removed]",
      "text/plain": [
       "<Figure size 720x504 with 1 Axes>"
      ]
     },
     "metadata": {
      "needs_background": "light"
     },
     "output_type": "display_data"
    }
   ],
   "source": [
    "fig = plt.figure(figsize=(10,7))\n",
    "ax = fig.add_subplot(111)\n",
    "cars[num_cols].boxplot()\n",
    "ax.tick_params(labelrotation=90)\n",
    "plt.show()"
   ]
  },
  {
   "cell_type": "code",
   "execution_count": 678,
   "metadata": {},
   "outputs": [
    {
     "data": {
      "text/plain": [
       "count     193.000000\n",
       "mean     5099.740933\n",
       "std       468.694369\n",
       "min      4150.000000\n",
       "25%      4800.000000\n",
       "50%      5100.000000\n",
       "75%      5500.000000\n",
       "90%      5500.000000\n",
       "max      6600.000000\n",
       "Name: peak_rpm, dtype: float64"
      ]
     },
     "execution_count": 678,
     "metadata": {},
     "output_type": "execute_result"
    }
   ],
   "source": [
    "cars[\"peak_rpm\"].describe(percentiles=[.25,.50,.75,.90])"
   ]
  },
  {
   "cell_type": "code",
   "execution_count": null,
   "metadata": {},
   "outputs": [],
   "source": []
  },
  {
   "cell_type": "code",
   "execution_count": 679,
   "metadata": {},
   "outputs": [
    {
     "name": "stdout",
     "output_type": "stream",
     "text": [
      " 0    63\n",
      " 1    51\n",
      " 2    31\n",
      " 3    23\n",
      "-1    22\n",
      "-2     3\n",
      "Name: symboling, dtype: int64\n",
      "\n",
      "\n",
      "toyota           32\n",
      "nissan           18\n",
      "mitsubishi       13\n",
      "honda            13\n",
      "volkswagen       12\n",
      "mazda            12\n",
      "subaru           12\n",
      "peugot           11\n",
      "volvo            11\n",
      "dodge             8\n",
      "mercedes-benz     8\n",
      "bmw               8\n",
      "plymouth          7\n",
      "audi              6\n",
      "saab              6\n",
      "porsche           4\n",
      "jaguar            3\n",
      "chevrolet         3\n",
      "alfa-romero       3\n",
      "isuzu             2\n",
      "mercury           1\n",
      "Name: make, dtype: int64\n",
      "\n",
      "\n",
      "gas       174\n",
      "diesel     19\n",
      "Name: fuel_type, dtype: int64\n",
      "\n",
      "\n",
      "std      158\n",
      "turbo     35\n",
      "Name: aspiration, dtype: int64\n",
      "\n",
      "\n",
      "four    112\n",
      "two      81\n",
      "Name: num_doors, dtype: int64\n",
      "\n",
      "\n",
      "sedan          92\n",
      "hatchback      63\n",
      "wagon          24\n",
      "hardtop         8\n",
      "convertible     6\n",
      "Name: body_style, dtype: int64\n",
      "\n",
      "\n",
      "fwd    114\n",
      "rwd     71\n",
      "4wd      8\n",
      "Name: drive_wheels, dtype: int64\n",
      "\n",
      "\n",
      "front    190\n",
      "rear       3\n",
      "Name: engine_location, dtype: int64\n",
      "\n",
      "\n",
      "ohc     141\n",
      "ohcf     15\n",
      "ohcv     13\n",
      "dohc     12\n",
      "l        12\n",
      "Name: engine_type, dtype: int64\n",
      "\n",
      "\n",
      "four      153\n",
      "six        24\n",
      "five       10\n",
      "eight       4\n",
      "twelve      1\n",
      "three       1\n",
      "Name: num_cylinders, dtype: int64\n",
      "\n",
      "\n",
      "mpfi    88\n",
      "2bbl    64\n",
      "idi     19\n",
      "1bbl    11\n",
      "spdi     9\n",
      "spfi     1\n",
      "mfi      1\n",
      "Name: fuel_system, dtype: int64\n",
      "\n",
      "\n"
     ]
    }
   ],
   "source": [
    "for each_col in ord_cols:\n",
    "    print(cars_analysis[each_col].value_counts())\n",
    "    print('\\n')"
   ]
  },
  {
   "cell_type": "code",
   "execution_count": 680,
   "metadata": {},
   "outputs": [],
   "source": [
    "#removes columns to prevent collinearity\n",
    "#dummy_df.drop(columns=['engine_location_rear','num_doors_two','aspiration_std','fuel_type_diesel'],inplace=True)"
   ]
  },
  {
   "cell_type": "code",
   "execution_count": 681,
   "metadata": {},
   "outputs": [
    {
     "data": {
      "text/plain": [
       "Index(['wheel_base', 'length', 'width', 'curb_weight', 'engine_size', 'bore',\n",
       "       'horsepower', 'city_mpg', 'highway_mpg', 'price'],\n",
       "      dtype='object')"
      ]
     },
     "execution_count": 681,
     "metadata": {},
     "output_type": "execute_result"
    }
   ],
   "source": [
    "correlations=cars.corr()\n",
    "most_corr_features = correlations[(correlations['price'].between(-1,-0.5)) | (correlations['price'].between(0.5,1))]['price']\n",
    "most_corr_features.index"
   ]
  },
  {
   "cell_type": "code",
   "execution_count": 682,
   "metadata": {},
   "outputs": [
    {
     "data": {
      "image/png": "[encoded data removed]",
      "text/plain": [
       "<Figure size 720x504 with 1 Axes>"
      ]
     },
     "metadata": {
      "needs_background": "light"
     },
     "output_type": "display_data"
    }
   ],
   "source": [
    "correlation = cars[most_corr_features.index].corr()\n",
    "fig = plt.figure(figsize=(10,7))\n",
    "ax = fig.add_subplot(111)\n",
    "sns.heatmap(correlation.loc[:,\"price\":\"price\"],annot=True,cbar=False)\n",
    "ax.tick_params(axis='y',left=False,rotation=0,labelsize=15)\n",
    "ax.tick_params(axis='x',bottom=False,rotation=0,labelsize=15)\n",
    "ax.set_title(\"Engine Size is postively correlated while Highway_mpg is negatively correlated\",size=18)\n",
    "plt.suptitle(\"Engine Size and Highway Miles/Gallon seem most Correlated to Price\",size=24)\n",
    "plt.show()"
   ]
  },
  {
   "cell_type": "code",
   "execution_count": 683,
   "metadata": {},
   "outputs": [],
   "source": [
    "##Required DO NOT DELETE\n",
    "not_price=[each_col for each_col in most_corr_features.index if each_col!='price']"
   ]
  },
  {
   "cell_type": "code",
   "execution_count": 684,
   "metadata": {},
   "outputs": [
    {
     "data": {
      "text/plain": [
       "['wheel_base',\n",
       " 'length',\n",
       " 'width',\n",
       " 'curb_weight',\n",
       " 'engine_size',\n",
       " 'bore',\n",
       " 'horsepower',\n",
       " 'city_mpg',\n",
       " 'highway_mpg']"
      ]
     },
     "execution_count": 684,
     "metadata": {},
     "output_type": "execute_result"
    }
   ],
   "source": [
    "not_price"
   ]
  },
  {
   "cell_type": "code",
   "execution_count": 685,
   "metadata": {},
   "outputs": [
    {
     "data": {
      "text/plain": [
       "['wheel_base',\n",
       " 'length',\n",
       " 'width',\n",
       " 'height',\n",
       " 'curb_weight',\n",
       " 'engine_size',\n",
       " 'bore',\n",
       " 'stroke',\n",
       " 'compression_ratio',\n",
       " 'horsepower',\n",
       " 'peak_rpm',\n",
       " 'city_mpg',\n",
       " 'highway_mpg',\n",
       " 'price']"
      ]
     },
     "execution_count": 685,
     "metadata": {},
     "output_type": "execute_result"
    }
   ],
   "source": [
    "num_cols"
   ]
  },
  {
   "cell_type": "code",
   "execution_count": 686,
   "metadata": {},
   "outputs": [
    {
     "data": {
      "text/html": [
       "<div>\n",
       "<style scoped>\n",
       "    .dataframe tbody tr th:only-of-type {\n",
       "        vertical-align: middle;\n",
       "    }\n",
       "\n",
       "    .dataframe tbody tr th {\n",
       "        vertical-align: top;\n",
       "    }\n",
       "\n",
       "    .dataframe thead th {\n",
       "        text-align: right;\n",
       "    }\n",
       "</style>\n",
       "<table border=\"1\" class=\"dataframe\">\n",
       "  <thead>\n",
       "    <tr style=\"text-align: right;\">\n",
       "      <th></th>\n",
       "      <th>wheel_base</th>\n",
       "      <th>length</th>\n",
       "      <th>width</th>\n",
       "      <th>height</th>\n",
       "      <th>curb_weight</th>\n",
       "      <th>engine_size</th>\n",
       "      <th>bore</th>\n",
       "      <th>stroke</th>\n",
       "      <th>compression_ratio</th>\n",
       "      <th>horsepower</th>\n",
       "      <th>peak_rpm</th>\n",
       "      <th>city_mpg</th>\n",
       "      <th>highway_mpg</th>\n",
       "      <th>price</th>\n",
       "    </tr>\n",
       "  </thead>\n",
       "  <tbody>\n",
       "    <tr>\n",
       "      <th>0</th>\n",
       "      <td>0.058309</td>\n",
       "      <td>0.413433</td>\n",
       "      <td>0.324786</td>\n",
       "      <td>48.8</td>\n",
       "      <td>0.411171</td>\n",
       "      <td>0.260377</td>\n",
       "      <td>0.664286</td>\n",
       "      <td>2.68</td>\n",
       "      <td>9.0</td>\n",
       "      <td>0.294393</td>\n",
       "      <td>5000.0</td>\n",
       "      <td>0.222222</td>\n",
       "      <td>0.289474</td>\n",
       "      <td>13495.0</td>\n",
       "    </tr>\n",
       "    <tr>\n",
       "      <th>1</th>\n",
       "      <td>0.058309</td>\n",
       "      <td>0.413433</td>\n",
       "      <td>0.324786</td>\n",
       "      <td>48.8</td>\n",
       "      <td>0.411171</td>\n",
       "      <td>0.260377</td>\n",
       "      <td>0.664286</td>\n",
       "      <td>2.68</td>\n",
       "      <td>9.0</td>\n",
       "      <td>0.294393</td>\n",
       "      <td>5000.0</td>\n",
       "      <td>0.222222</td>\n",
       "      <td>0.289474</td>\n",
       "      <td>16500.0</td>\n",
       "    </tr>\n",
       "    <tr>\n",
       "      <th>2</th>\n",
       "      <td>0.230321</td>\n",
       "      <td>0.449254</td>\n",
       "      <td>0.444444</td>\n",
       "      <td>52.4</td>\n",
       "      <td>0.517843</td>\n",
       "      <td>0.343396</td>\n",
       "      <td>0.100000</td>\n",
       "      <td>3.47</td>\n",
       "      <td>9.0</td>\n",
       "      <td>0.495327</td>\n",
       "      <td>5000.0</td>\n",
       "      <td>0.166667</td>\n",
       "      <td>0.263158</td>\n",
       "      <td>16500.0</td>\n",
       "    </tr>\n",
       "    <tr>\n",
       "      <th>3</th>\n",
       "      <td>0.384840</td>\n",
       "      <td>0.529851</td>\n",
       "      <td>0.504274</td>\n",
       "      <td>54.3</td>\n",
       "      <td>0.329325</td>\n",
       "      <td>0.181132</td>\n",
       "      <td>0.464286</td>\n",
       "      <td>3.40</td>\n",
       "      <td>10.0</td>\n",
       "      <td>0.252336</td>\n",
       "      <td>5500.0</td>\n",
       "      <td>0.305556</td>\n",
       "      <td>0.368421</td>\n",
       "      <td>13950.0</td>\n",
       "    </tr>\n",
       "    <tr>\n",
       "      <th>4</th>\n",
       "      <td>0.373178</td>\n",
       "      <td>0.529851</td>\n",
       "      <td>0.521368</td>\n",
       "      <td>54.3</td>\n",
       "      <td>0.518231</td>\n",
       "      <td>0.283019</td>\n",
       "      <td>0.464286</td>\n",
       "      <td>3.40</td>\n",
       "      <td>8.0</td>\n",
       "      <td>0.313084</td>\n",
       "      <td>5500.0</td>\n",
       "      <td>0.138889</td>\n",
       "      <td>0.157895</td>\n",
       "      <td>17450.0</td>\n",
       "    </tr>\n",
       "    <tr>\n",
       "      <th>...</th>\n",
       "      <td>...</td>\n",
       "      <td>...</td>\n",
       "      <td>...</td>\n",
       "      <td>...</td>\n",
       "      <td>...</td>\n",
       "      <td>...</td>\n",
       "      <td>...</td>\n",
       "      <td>...</td>\n",
       "      <td>...</td>\n",
       "      <td>...</td>\n",
       "      <td>...</td>\n",
       "      <td>...</td>\n",
       "      <td>...</td>\n",
       "      <td>...</td>\n",
       "    </tr>\n",
       "    <tr>\n",
       "      <th>200</th>\n",
       "      <td>0.655977</td>\n",
       "      <td>0.711940</td>\n",
       "      <td>0.735043</td>\n",
       "      <td>55.5</td>\n",
       "      <td>0.567882</td>\n",
       "      <td>0.301887</td>\n",
       "      <td>0.885714</td>\n",
       "      <td>3.15</td>\n",
       "      <td>9.5</td>\n",
       "      <td>0.308411</td>\n",
       "      <td>5400.0</td>\n",
       "      <td>0.277778</td>\n",
       "      <td>0.315789</td>\n",
       "      <td>16845.0</td>\n",
       "    </tr>\n",
       "    <tr>\n",
       "      <th>201</th>\n",
       "      <td>0.655977</td>\n",
       "      <td>0.711940</td>\n",
       "      <td>0.726496</td>\n",
       "      <td>55.5</td>\n",
       "      <td>0.605508</td>\n",
       "      <td>0.301887</td>\n",
       "      <td>0.885714</td>\n",
       "      <td>3.15</td>\n",
       "      <td>8.7</td>\n",
       "      <td>0.523364</td>\n",
       "      <td>5300.0</td>\n",
       "      <td>0.166667</td>\n",
       "      <td>0.236842</td>\n",
       "      <td>19045.0</td>\n",
       "    </tr>\n",
       "    <tr>\n",
       "      <th>202</th>\n",
       "      <td>0.655977</td>\n",
       "      <td>0.711940</td>\n",
       "      <td>0.735043</td>\n",
       "      <td>55.5</td>\n",
       "      <td>0.591156</td>\n",
       "      <td>0.422642</td>\n",
       "      <td>0.742857</td>\n",
       "      <td>2.87</td>\n",
       "      <td>8.8</td>\n",
       "      <td>0.401869</td>\n",
       "      <td>5500.0</td>\n",
       "      <td>0.138889</td>\n",
       "      <td>0.184211</td>\n",
       "      <td>21485.0</td>\n",
       "    </tr>\n",
       "    <tr>\n",
       "      <th>203</th>\n",
       "      <td>0.655977</td>\n",
       "      <td>0.711940</td>\n",
       "      <td>0.735043</td>\n",
       "      <td>55.5</td>\n",
       "      <td>0.670675</td>\n",
       "      <td>0.316981</td>\n",
       "      <td>0.335714</td>\n",
       "      <td>3.40</td>\n",
       "      <td>23.0</td>\n",
       "      <td>0.271028</td>\n",
       "      <td>4800.0</td>\n",
       "      <td>0.361111</td>\n",
       "      <td>0.289474</td>\n",
       "      <td>22470.0</td>\n",
       "    </tr>\n",
       "    <tr>\n",
       "      <th>204</th>\n",
       "      <td>0.655977</td>\n",
       "      <td>0.711940</td>\n",
       "      <td>0.735043</td>\n",
       "      <td>55.5</td>\n",
       "      <td>0.610551</td>\n",
       "      <td>0.301887</td>\n",
       "      <td>0.885714</td>\n",
       "      <td>3.15</td>\n",
       "      <td>9.5</td>\n",
       "      <td>0.308411</td>\n",
       "      <td>5400.0</td>\n",
       "      <td>0.166667</td>\n",
       "      <td>0.236842</td>\n",
       "      <td>22625.0</td>\n",
       "    </tr>\n",
       "  </tbody>\n",
       "</table>\n",
       "<p>193 rows × 14 columns</p>\n",
       "</div>"
      ],
      "text/plain": [
       "     wheel_base    length     width  height  curb_weight  engine_size  \\\n",
       "0      0.058309  0.413433  0.324786    48.8     0.411171     0.260377   \n",
       "1      0.058309  0.413433  0.324786    48.8     0.411171     0.260377   \n",
       "2      0.230321  0.449254  0.444444    52.4     0.517843     0.343396   \n",
       "3      0.384840  0.529851  0.504274    54.3     0.329325     0.181132   \n",
       "4      0.373178  0.529851  0.521368    54.3     0.518231     0.283019   \n",
       "..          ...       ...       ...     ...          ...          ...   \n",
       "200    0.655977  0.711940  0.735043    55.5     0.567882     0.301887   \n",
       "201    0.655977  0.711940  0.726496    55.5     0.605508     0.301887   \n",
       "202    0.655977  0.711940  0.735043    55.5     0.591156     0.422642   \n",
       "203    0.655977  0.711940  0.735043    55.5     0.670675     0.316981   \n",
       "204    0.655977  0.711940  0.735043    55.5     0.610551     0.301887   \n",
       "\n",
       "         bore  stroke  compression_ratio  horsepower  peak_rpm  city_mpg  \\\n",
       "0    0.664286    2.68                9.0    0.294393    5000.0  0.222222   \n",
       "1    0.664286    2.68                9.0    0.294393    5000.0  0.222222   \n",
       "2    0.100000    3.47                9.0    0.495327    5000.0  0.166667   \n",
       "3    0.464286    3.40               10.0    0.252336    5500.0  0.305556   \n",
       "4    0.464286    3.40                8.0    0.313084    5500.0  0.138889   \n",
       "..        ...     ...                ...         ...       ...       ...   \n",
       "200  0.885714    3.15                9.5    0.308411    5400.0  0.277778   \n",
       "201  0.885714    3.15                8.7    0.523364    5300.0  0.166667   \n",
       "202  0.742857    2.87                8.8    0.401869    5500.0  0.138889   \n",
       "203  0.335714    3.40               23.0    0.271028    4800.0  0.361111   \n",
       "204  0.885714    3.15                9.5    0.308411    5400.0  0.166667   \n",
       "\n",
       "     highway_mpg    price  \n",
       "0       0.289474  13495.0  \n",
       "1       0.289474  16500.0  \n",
       "2       0.263158  16500.0  \n",
       "3       0.368421  13950.0  \n",
       "4       0.157895  17450.0  \n",
       "..           ...      ...  \n",
       "200     0.315789  16845.0  \n",
       "201     0.236842  19045.0  \n",
       "202     0.184211  21485.0  \n",
       "203     0.289474  22470.0  \n",
       "204     0.236842  22625.0  \n",
       "\n",
       "[193 rows x 14 columns]"
      ]
     },
     "execution_count": 686,
     "metadata": {},
     "output_type": "execute_result"
    }
   ],
   "source": [
    "cars[not_price]=(cars[not_price]-cars[not_price].min())/(cars[not_price].max()-cars[not_price].min())\n",
    "cars.drop(columns=ord_cols,inplace=True)\n",
    "#cars=pd.concat([cars,dummy_df],axis=1)\n",
    "cars"
   ]
  },
  {
   "cell_type": "markdown",
   "metadata": {},
   "source": [
    "[Index](#Index)"
   ]
  },
  {
   "cell_type": "markdown",
   "metadata": {},
   "source": [
    "# 4"
   ]
  },
  {
   "cell_type": "markdown",
   "metadata": {},
   "source": [
    "## Title"
   ]
  },
  {
   "cell_type": "code",
   "execution_count": 687,
   "metadata": {},
   "outputs": [
    {
     "data": {
      "text/plain": [
       "Index(['wheel_base', 'length', 'width', 'height', 'curb_weight', 'engine_size',\n",
       "       'bore', 'stroke', 'compression_ratio', 'horsepower', 'peak_rpm',\n",
       "       'city_mpg', 'highway_mpg', 'price'],\n",
       "      dtype='object')"
      ]
     },
     "execution_count": 687,
     "metadata": {},
     "output_type": "execute_result"
    }
   ],
   "source": [
    "cars.columns"
   ]
  },
  {
   "cell_type": "code",
   "execution_count": 688,
   "metadata": {},
   "outputs": [],
   "source": [
    "#univariate\n",
    "def knn_train_test(feature_col,target_col,data,n=10):\n",
    "    shuffle_index = np.random.permutation(data.index)\n",
    "    data = data.reindex(shuffle_index)\n",
    "    train_data = data.iloc[:int(len(data)*.8)]\n",
    "    test_data = data.iloc[int(len(data)*.8):]\n",
    "    knn = skneighbors.KNeighborsRegressor(n_neighbors=n)\n",
    "    knn.fit(train_data[[feature_col]],train_data[target_col])\n",
    "    predictions = knn.predict(test_data[[feature_col]])\n",
    "    mse = skmetrics.mean_squared_error(test_data[target_col],predictions)\n",
    "    rmse = mse**0.5\n",
    "    return round(rmse,2)"
   ]
  },
  {
   "cell_type": "code",
   "execution_count": 689,
   "metadata": {},
   "outputs": [
    {
     "data": {
      "text/html": [
       "<div>\n",
       "<style scoped>\n",
       "    .dataframe tbody tr th:only-of-type {\n",
       "        vertical-align: middle;\n",
       "    }\n",
       "\n",
       "    .dataframe tbody tr th {\n",
       "        vertical-align: top;\n",
       "    }\n",
       "\n",
       "    .dataframe thead th {\n",
       "        text-align: right;\n",
       "    }\n",
       "</style>\n",
       "<table border=\"1\" class=\"dataframe\">\n",
       "  <thead>\n",
       "    <tr style=\"text-align: right;\">\n",
       "      <th></th>\n",
       "      <th>rmse</th>\n",
       "      <th>wheel_base</th>\n",
       "      <th>length</th>\n",
       "      <th>width</th>\n",
       "      <th>curb_weight</th>\n",
       "      <th>engine_size</th>\n",
       "      <th>bore</th>\n",
       "      <th>horsepower</th>\n",
       "      <th>city_mpg</th>\n",
       "      <th>highway_mpg</th>\n",
       "    </tr>\n",
       "  </thead>\n",
       "  <tbody>\n",
       "    <tr>\n",
       "      <th>0</th>\n",
       "      <td>5.0</td>\n",
       "      <td>6416.37</td>\n",
       "      <td>5945.43</td>\n",
       "      <td>3827.06</td>\n",
       "      <td>6266.55</td>\n",
       "      <td>3514.64</td>\n",
       "      <td>5634.89</td>\n",
       "      <td>2799.41</td>\n",
       "      <td>3489.15</td>\n",
       "      <td>4821.47</td>\n",
       "    </tr>\n",
       "    <tr>\n",
       "      <th>1</th>\n",
       "      <td>10.0</td>\n",
       "      <td>5458.33</td>\n",
       "      <td>8468.85</td>\n",
       "      <td>4011.09</td>\n",
       "      <td>3493.42</td>\n",
       "      <td>3412.22</td>\n",
       "      <td>5492.65</td>\n",
       "      <td>4079.49</td>\n",
       "      <td>4092.84</td>\n",
       "      <td>4276.17</td>\n",
       "    </tr>\n",
       "    <tr>\n",
       "      <th>2</th>\n",
       "      <td>15.0</td>\n",
       "      <td>5841.01</td>\n",
       "      <td>4188.28</td>\n",
       "      <td>4216.36</td>\n",
       "      <td>4051.45</td>\n",
       "      <td>3400.62</td>\n",
       "      <td>5898.98</td>\n",
       "      <td>5344.15</td>\n",
       "      <td>4551.85</td>\n",
       "      <td>3908.00</td>\n",
       "    </tr>\n",
       "    <tr>\n",
       "      <th>3</th>\n",
       "      <td>20.0</td>\n",
       "      <td>6503.58</td>\n",
       "      <td>5386.76</td>\n",
       "      <td>4763.69</td>\n",
       "      <td>3957.73</td>\n",
       "      <td>3939.49</td>\n",
       "      <td>4182.48</td>\n",
       "      <td>5008.12</td>\n",
       "      <td>4625.15</td>\n",
       "      <td>3507.97</td>\n",
       "    </tr>\n",
       "  </tbody>\n",
       "</table>\n",
       "</div>"
      ],
      "text/plain": [
       "   rmse  wheel_base   length    width  curb_weight  engine_size     bore  \\\n",
       "0   5.0     6416.37  5945.43  3827.06      6266.55      3514.64  5634.89   \n",
       "1  10.0     5458.33  8468.85  4011.09      3493.42      3412.22  5492.65   \n",
       "2  15.0     5841.01  4188.28  4216.36      4051.45      3400.62  5898.98   \n",
       "3  20.0     6503.58  5386.76  4763.69      3957.73      3939.49  4182.48   \n",
       "\n",
       "   horsepower  city_mpg  highway_mpg  \n",
       "0     2799.41   3489.15      4821.47  \n",
       "1     4079.49   4092.84      4276.17  \n",
       "2     5344.15   4551.85      3908.00  \n",
       "3     5008.12   4625.15      3507.97  "
      ]
     },
     "execution_count": 689,
     "metadata": {},
     "output_type": "execute_result"
    }
   ],
   "source": [
    "parameter=[5,10,15,20]\n",
    "univariate_param_result=pd.DataFrame(columns=[\"rmse\"]+not_price)\n",
    "for each_parameter in parameter:\n",
    "    parameter_results=[]\n",
    "    parameter_results.append(each_parameter)\n",
    "    for each_col in not_price:\n",
    "        rmse=knn_train_test(each_col,\"price\",cars,each_parameter)\n",
    "        parameter_results.append(rmse)\n",
    "    pos=len(univariate_param_result)\n",
    "    univariate_param_result.loc[pos]=parameter_results\n",
    "univariate_param_result"
   ]
  },
  {
   "cell_type": "code",
   "execution_count": 698,
   "metadata": {},
   "outputs": [
    {
     "data": {
      "image/png": "[encoded data removed]",
      "text/plain": [
       "<Figure size 864x576 with 1 Axes>"
      ]
     },
     "metadata": {
      "needs_background": "light"
     },
     "output_type": "display_data"
    }
   ],
   "source": [
    "fig=plt.figure(figsize=(12,8))\n",
    "ax=fig.add_subplot(111)\n",
    "#univariate_param_result[\"rmse\"]\n",
    "ax.plot(list(range(5,25,5)),univariate_param_result[not_price],marker='o')\n",
    "ax.set_xticks([5,10,15,20])\n",
    "ax.legend(not_price)\n",
    "plt.show()"
   ]
  },
  {
   "cell_type": "code",
   "execution_count": 652,
   "metadata": {},
   "outputs": [
    {
     "data": {
      "text/html": [
       "<div>\n",
       "<style scoped>\n",
       "    .dataframe tbody tr th:only-of-type {\n",
       "        vertical-align: middle;\n",
       "    }\n",
       "\n",
       "    .dataframe tbody tr th {\n",
       "        vertical-align: top;\n",
       "    }\n",
       "\n",
       "    .dataframe thead th {\n",
       "        text-align: right;\n",
       "    }\n",
       "</style>\n",
       "<table border=\"1\" class=\"dataframe\">\n",
       "  <thead>\n",
       "    <tr style=\"text-align: right;\">\n",
       "      <th></th>\n",
       "      <th>0</th>\n",
       "      <th>1</th>\n",
       "      <th>2</th>\n",
       "      <th>3</th>\n",
       "      <th>4</th>\n",
       "      <th>5</th>\n",
       "      <th>6</th>\n",
       "      <th>7</th>\n",
       "      <th>8</th>\n",
       "    </tr>\n",
       "  </thead>\n",
       "  <tbody>\n",
       "    <tr>\n",
       "      <th>col_name</th>\n",
       "      <td>wheel_base</td>\n",
       "      <td>length</td>\n",
       "      <td>width</td>\n",
       "      <td>curb_weight</td>\n",
       "      <td>engine_size</td>\n",
       "      <td>bore</td>\n",
       "      <td>horsepower</td>\n",
       "      <td>city_mpg</td>\n",
       "      <td>highway_mpg</td>\n",
       "    </tr>\n",
       "    <tr>\n",
       "      <th>rmse_5</th>\n",
       "      <td>6485.98</td>\n",
       "      <td>5112.96</td>\n",
       "      <td>4968.73</td>\n",
       "      <td>4143.26</td>\n",
       "      <td>3593.58</td>\n",
       "      <td>6047.73</td>\n",
       "      <td>4607.55</td>\n",
       "      <td>4349.27</td>\n",
       "      <td>5189.36</td>\n",
       "    </tr>\n",
       "    <tr>\n",
       "      <th>rmse_10</th>\n",
       "      <td>4331.61</td>\n",
       "      <td>6909.98</td>\n",
       "      <td>7181.48</td>\n",
       "      <td>4562.24</td>\n",
       "      <td>3685.52</td>\n",
       "      <td>4981.58</td>\n",
       "      <td>4825.31</td>\n",
       "      <td>4461.38</td>\n",
       "      <td>5430.0</td>\n",
       "    </tr>\n",
       "    <tr>\n",
       "      <th>rmse_15</th>\n",
       "      <td>4198.51</td>\n",
       "      <td>4445.46</td>\n",
       "      <td>7235.35</td>\n",
       "      <td>4900.18</td>\n",
       "      <td>5266.33</td>\n",
       "      <td>5824.23</td>\n",
       "      <td>4723.8</td>\n",
       "      <td>4588.86</td>\n",
       "      <td>4156.67</td>\n",
       "    </tr>\n",
       "    <tr>\n",
       "      <th>rmse_20</th>\n",
       "      <td>7058.86</td>\n",
       "      <td>5040.38</td>\n",
       "      <td>5494.36</td>\n",
       "      <td>5813.58</td>\n",
       "      <td>5872.04</td>\n",
       "      <td>6372.1</td>\n",
       "      <td>5365.31</td>\n",
       "      <td>3089.17</td>\n",
       "      <td>5121.9</td>\n",
       "    </tr>\n",
       "  </tbody>\n",
       "</table>\n",
       "</div>"
      ],
      "text/plain": [
       "                   0        1        2            3            4        5  \\\n",
       "col_name  wheel_base   length    width  curb_weight  engine_size     bore   \n",
       "rmse_5       6485.98  5112.96  4968.73      4143.26      3593.58  6047.73   \n",
       "rmse_10      4331.61  6909.98  7181.48      4562.24      3685.52  4981.58   \n",
       "rmse_15      4198.51  4445.46  7235.35      4900.18      5266.33  5824.23   \n",
       "rmse_20      7058.86  5040.38  5494.36      5813.58      5872.04   6372.1   \n",
       "\n",
       "                   6         7            8  \n",
       "col_name  horsepower  city_mpg  highway_mpg  \n",
       "rmse_5       4607.55   4349.27      5189.36  \n",
       "rmse_10      4825.31   4461.38       5430.0  \n",
       "rmse_15       4723.8   4588.86      4156.67  \n",
       "rmse_20      5365.31   3089.17       5121.9  "
      ]
     },
     "execution_count": 652,
     "metadata": {},
     "output_type": "execute_result"
    }
   ],
   "source": [
    "parameter=[5,10,15,20]\n",
    "univariate_param_result=pd.DataFrame(columns=[\"col_name\",'rmse_5','rmse_10','rmse_15','rmse_20'])\n",
    "for each_col in most_corr_features.index:\n",
    "    col_results=[]\n",
    "    if each_col!=\"price\":\n",
    "        col_results.append(each_col)\n",
    "        for each_parameter in parameter:\n",
    "            rmse=knn_train_test(each_col,\"price\",cars,each_parameter)\n",
    "            col_results.append(rmse)\n",
    "        #print(col_results)\n",
    "        pos=len(univariate_param_result)\n",
    "        univariate_param_result.loc[pos]=col_results\n",
    "univariate_param_result.T"
   ]
  },
  {
   "cell_type": "code",
   "execution_count": 651,
   "metadata": {},
   "outputs": [
    {
     "data": {
      "image/png": "[encoded data removed]",
      "text/plain": [
       "<Figure size 864x576 with 1 Axes>"
      ]
     },
     "metadata": {
      "needs_background": "light"
     },
     "output_type": "display_data"
    },
    {
     "data": {
      "image/png": "[encoded data removed]",
      "text/plain": [
       "<Figure size 432x288 with 1 Axes>"
      ]
     },
     "metadata": {
      "needs_background": "light"
     },
     "output_type": "display_data"
    }
   ],
   "source": [
    "fig=plt.figure(figsize=(12,8))\n",
    "#ax=fig.add_subplot(111)\n",
    "univariate_param_result.set_index(\"col_name\").plot()\n",
    "plt.show()"
   ]
  },
  {
   "cell_type": "code",
   "execution_count": 650,
   "metadata": {},
   "outputs": [
    {
     "ename": "ValueError",
     "evalue": "x and y must have same first dimension, but have shapes (4,) and (9,)",
     "output_type": "error",
     "traceback": [
      "\u001b[1;31m---------------------------------------------------------------------------\u001b[0m",
      "\u001b[1;31mValueError\u001b[0m                                Traceback (most recent call last)",
      "\u001b[1;32m<ipython-input-650-84ddc7071dd5>\u001b[0m in \u001b[0;36m<module>\u001b[1;34m\u001b[0m\n\u001b[0;32m      3\u001b[0m \u001b[1;31m#ax.hlines(y=sorted_rmse[\"col_name\"],xmin=1000,xmax=sorted_rmse[\"rmse\"])\u001b[0m\u001b[1;33m\u001b[0m\u001b[1;33m\u001b[0m\u001b[1;33m\u001b[0m\u001b[0m\n\u001b[0;32m      4\u001b[0m \u001b[1;32mfor\u001b[0m \u001b[0meach_col\u001b[0m \u001b[1;32min\u001b[0m \u001b[0munivariate_param_result\u001b[0m\u001b[1;33m.\u001b[0m\u001b[0mcolumns\u001b[0m\u001b[1;33m[\u001b[0m\u001b[1;36m1\u001b[0m\u001b[1;33m:\u001b[0m\u001b[1;33m]\u001b[0m\u001b[1;33m:\u001b[0m\u001b[1;33m\u001b[0m\u001b[1;33m\u001b[0m\u001b[0m\n\u001b[1;32m----> 5\u001b[1;33m     \u001b[0max\u001b[0m\u001b[1;33m.\u001b[0m\u001b[0mplot\u001b[0m\u001b[1;33m(\u001b[0m\u001b[0mlist\u001b[0m\u001b[1;33m(\u001b[0m\u001b[0mrange\u001b[0m\u001b[1;33m(\u001b[0m\u001b[1;36m5\u001b[0m\u001b[1;33m,\u001b[0m\u001b[1;36m25\u001b[0m\u001b[1;33m,\u001b[0m\u001b[1;36m5\u001b[0m\u001b[1;33m)\u001b[0m\u001b[1;33m)\u001b[0m\u001b[1;33m,\u001b[0m\u001b[0munivariate_param_result\u001b[0m\u001b[1;33m[\u001b[0m\u001b[0meach_col\u001b[0m\u001b[1;33m]\u001b[0m\u001b[1;33m)\u001b[0m\u001b[1;33m\u001b[0m\u001b[1;33m\u001b[0m\u001b[0m\n\u001b[0m\u001b[0;32m      6\u001b[0m \u001b[0mplt\u001b[0m\u001b[1;33m.\u001b[0m\u001b[0mshow\u001b[0m\u001b[1;33m(\u001b[0m\u001b[1;33m)\u001b[0m\u001b[1;33m\u001b[0m\u001b[1;33m\u001b[0m\u001b[0m\n",
      "\u001b[1;32m~\\anaconda3\\lib\\site-packages\\matplotlib\\axes\\_axes.py\u001b[0m in \u001b[0;36mplot\u001b[1;34m(self, scalex, scaley, data, *args, **kwargs)\u001b[0m\n\u001b[0;32m   1741\u001b[0m         \"\"\"\n\u001b[0;32m   1742\u001b[0m         \u001b[0mkwargs\u001b[0m \u001b[1;33m=\u001b[0m \u001b[0mcbook\u001b[0m\u001b[1;33m.\u001b[0m\u001b[0mnormalize_kwargs\u001b[0m\u001b[1;33m(\u001b[0m\u001b[0mkwargs\u001b[0m\u001b[1;33m,\u001b[0m \u001b[0mmlines\u001b[0m\u001b[1;33m.\u001b[0m\u001b[0mLine2D\u001b[0m\u001b[1;33m)\u001b[0m\u001b[1;33m\u001b[0m\u001b[1;33m\u001b[0m\u001b[0m\n\u001b[1;32m-> 1743\u001b[1;33m         \u001b[0mlines\u001b[0m \u001b[1;33m=\u001b[0m \u001b[1;33m[\u001b[0m\u001b[1;33m*\u001b[0m\u001b[0mself\u001b[0m\u001b[1;33m.\u001b[0m\u001b[0m_get_lines\u001b[0m\u001b[1;33m(\u001b[0m\u001b[1;33m*\u001b[0m\u001b[0margs\u001b[0m\u001b[1;33m,\u001b[0m \u001b[0mdata\u001b[0m\u001b[1;33m=\u001b[0m\u001b[0mdata\u001b[0m\u001b[1;33m,\u001b[0m \u001b[1;33m**\u001b[0m\u001b[0mkwargs\u001b[0m\u001b[1;33m)\u001b[0m\u001b[1;33m]\u001b[0m\u001b[1;33m\u001b[0m\u001b[1;33m\u001b[0m\u001b[0m\n\u001b[0m\u001b[0;32m   1744\u001b[0m         \u001b[1;32mfor\u001b[0m \u001b[0mline\u001b[0m \u001b[1;32min\u001b[0m \u001b[0mlines\u001b[0m\u001b[1;33m:\u001b[0m\u001b[1;33m\u001b[0m\u001b[1;33m\u001b[0m\u001b[0m\n\u001b[0;32m   1745\u001b[0m             \u001b[0mself\u001b[0m\u001b[1;33m.\u001b[0m\u001b[0madd_line\u001b[0m\u001b[1;33m(\u001b[0m\u001b[0mline\u001b[0m\u001b[1;33m)\u001b[0m\u001b[1;33m\u001b[0m\u001b[1;33m\u001b[0m\u001b[0m\n",
      "\u001b[1;32m~\\anaconda3\\lib\\site-packages\\matplotlib\\axes\\_base.py\u001b[0m in \u001b[0;36m__call__\u001b[1;34m(self, data, *args, **kwargs)\u001b[0m\n\u001b[0;32m    271\u001b[0m                 \u001b[0mthis\u001b[0m \u001b[1;33m+=\u001b[0m \u001b[0margs\u001b[0m\u001b[1;33m[\u001b[0m\u001b[1;36m0\u001b[0m\u001b[1;33m]\u001b[0m\u001b[1;33m,\u001b[0m\u001b[1;33m\u001b[0m\u001b[1;33m\u001b[0m\u001b[0m\n\u001b[0;32m    272\u001b[0m                 \u001b[0margs\u001b[0m \u001b[1;33m=\u001b[0m \u001b[0margs\u001b[0m\u001b[1;33m[\u001b[0m\u001b[1;36m1\u001b[0m\u001b[1;33m:\u001b[0m\u001b[1;33m]\u001b[0m\u001b[1;33m\u001b[0m\u001b[1;33m\u001b[0m\u001b[0m\n\u001b[1;32m--> 273\u001b[1;33m             \u001b[1;32myield\u001b[0m \u001b[1;32mfrom\u001b[0m \u001b[0mself\u001b[0m\u001b[1;33m.\u001b[0m\u001b[0m_plot_args\u001b[0m\u001b[1;33m(\u001b[0m\u001b[0mthis\u001b[0m\u001b[1;33m,\u001b[0m \u001b[0mkwargs\u001b[0m\u001b[1;33m)\u001b[0m\u001b[1;33m\u001b[0m\u001b[1;33m\u001b[0m\u001b[0m\n\u001b[0m\u001b[0;32m    274\u001b[0m \u001b[1;33m\u001b[0m\u001b[0m\n\u001b[0;32m    275\u001b[0m     \u001b[1;32mdef\u001b[0m \u001b[0mget_next_color\u001b[0m\u001b[1;33m(\u001b[0m\u001b[0mself\u001b[0m\u001b[1;33m)\u001b[0m\u001b[1;33m:\u001b[0m\u001b[1;33m\u001b[0m\u001b[1;33m\u001b[0m\u001b[0m\n",
      "\u001b[1;32m~\\anaconda3\\lib\\site-packages\\matplotlib\\axes\\_base.py\u001b[0m in \u001b[0;36m_plot_args\u001b[1;34m(self, tup, kwargs)\u001b[0m\n\u001b[0;32m    397\u001b[0m \u001b[1;33m\u001b[0m\u001b[0m\n\u001b[0;32m    398\u001b[0m         \u001b[1;32mif\u001b[0m \u001b[0mx\u001b[0m\u001b[1;33m.\u001b[0m\u001b[0mshape\u001b[0m\u001b[1;33m[\u001b[0m\u001b[1;36m0\u001b[0m\u001b[1;33m]\u001b[0m \u001b[1;33m!=\u001b[0m \u001b[0my\u001b[0m\u001b[1;33m.\u001b[0m\u001b[0mshape\u001b[0m\u001b[1;33m[\u001b[0m\u001b[1;36m0\u001b[0m\u001b[1;33m]\u001b[0m\u001b[1;33m:\u001b[0m\u001b[1;33m\u001b[0m\u001b[1;33m\u001b[0m\u001b[0m\n\u001b[1;32m--> 399\u001b[1;33m             raise ValueError(f\"x and y must have same first dimension, but \"\n\u001b[0m\u001b[0;32m    400\u001b[0m                              f\"have shapes {x.shape} and {y.shape}\")\n\u001b[0;32m    401\u001b[0m         \u001b[1;32mif\u001b[0m \u001b[0mx\u001b[0m\u001b[1;33m.\u001b[0m\u001b[0mndim\u001b[0m \u001b[1;33m>\u001b[0m \u001b[1;36m2\u001b[0m \u001b[1;32mor\u001b[0m \u001b[0my\u001b[0m\u001b[1;33m.\u001b[0m\u001b[0mndim\u001b[0m \u001b[1;33m>\u001b[0m \u001b[1;36m2\u001b[0m\u001b[1;33m:\u001b[0m\u001b[1;33m\u001b[0m\u001b[1;33m\u001b[0m\u001b[0m\n",
      "\u001b[1;31mValueError\u001b[0m: x and y must have same first dimension, but have shapes (4,) and (9,)"
     ]
    },
    {
     "data": {
      "image/png": "[encoded data removed]",
      "text/plain": [
       "<Figure size 864x576 with 1 Axes>"
      ]
     },
     "metadata": {
      "needs_background": "light"
     },
     "output_type": "display_data"
    }
   ],
   "source": [
    "fig=plt.figure(figsize=(12,8))\n",
    "ax=fig.add_subplot(111)\n",
    "#ax.hlines(y=sorted_rmse[\"col_name\"],xmin=1000,xmax=sorted_rmse[\"rmse\"])\n",
    "for each_col in univariate_param_result.columns[1:]:\n",
    "    ax.plot(list(range(5,25,5)),univariate_param_result[each_col])\n",
    "plt.show()"
   ]
  },
  {
   "cell_type": "code",
   "execution_count": null,
   "metadata": {},
   "outputs": [],
   "source": [
    "parameter=[5,10,15,20]\n",
    "univariate_param_result=pd.DataFrame(columns=[\"col_name\",'rmse_5','rmse_10','rmse_15','rmse_20'])\n",
    "for each_parameter in parameter:\n",
    "    for each_col in most_corr_features.index:\n",
    "        if each_col!=\"price\":\n",
    "    "
   ]
  },
  {
   "cell_type": "code",
   "execution_count": 319,
   "metadata": {},
   "outputs": [
    {
     "data": {
      "text/plain": [
       "(36405738.09, 6033.72)"
      ]
     },
     "execution_count": 319,
     "metadata": {},
     "output_type": "execute_result"
    }
   ],
   "source": [
    "knn_train_test(\"wheel_base\",\"price\",cars)"
   ]
  },
  {
   "cell_type": "code",
   "execution_count": 320,
   "metadata": {},
   "outputs": [
    {
     "data": {
      "text/plain": [
       "(18016237.38, 4244.55)"
      ]
     },
     "execution_count": 320,
     "metadata": {},
     "output_type": "execute_result"
    }
   ],
   "source": [
    "knn_train_test(\"length\",\"price\",cars)"
   ]
  },
  {
   "cell_type": "code",
   "execution_count": 321,
   "metadata": {},
   "outputs": [
    {
     "data": {
      "text/plain": [
       "pandas.core.indexes.base.Index"
      ]
     },
     "execution_count": 321,
     "metadata": {},
     "output_type": "execute_result"
    }
   ],
   "source": [
    "type(most_corr_features.index)"
   ]
  },
  {
   "cell_type": "code",
   "execution_count": 322,
   "metadata": {},
   "outputs": [],
   "source": [
    "col_name=pd.Series(most_corr_features.index)"
   ]
  },
  {
   "cell_type": "code",
   "execution_count": 323,
   "metadata": {},
   "outputs": [
    {
     "name": "stdout",
     "output_type": "stream",
     "text": [
      "+--------------------+--------------+----------+\n",
      "|    Column Name     |     MSE      |   RMSE   |\n",
      "+--------------------+--------------+----------+\n",
      "|     wheel_base     | 42478079.68  | 6517.52  |\n",
      "|       length       | 24396169.96  | 4939.25  |\n",
      "|       width        | 20124350.67  | 4486.02  |\n",
      "|    curb_weight     | 25029899.38  | 5002.99  |\n",
      "|    engine_size     | 15473396.44  | 3933.62  |\n",
      "|        bore        | 42351084.33  | 6507.77  |\n",
      "|     horsepower     | 24810867.44  | 4981.05  |\n",
      "|      city_mpg      | 27172594.41  | 5212.73  |\n",
      "|    highway_mpg     | 36669102.87  |  6055.5  |\n",
      "| make_mercedes-benz | 113291002.74 | 10643.82 |\n",
      "|  drive_wheels_fwd  | 34196020.72  | 5847.74  |\n",
      "|  drive_wheels_rwd  | 24451110.88  | 4944.81  |\n",
      "| num_cylinders_four |  30569137.4  | 5528.94  |\n",
      "|  fuel_system_2bbl  | 53723010.61  |  7329.6  |\n",
      "|  fuel_system_mpfi  | 55702990.42  | 7463.44  |\n",
      "+--------------------+--------------+----------+\n"
     ]
    }
   ],
   "source": [
    "t=PrettyTable([\"Column Name\",\"MSE\",\"RMSE\"])\n",
    "rmses=[]\n",
    "col_name=[]\n",
    "for each_col in most_corr_features.index:\n",
    "    if each_col!=\"price\":\n",
    "        mse,rmse=knn_train_test(each_col,\"price\",cars)\n",
    "        col_name.append(each_col)\n",
    "        rmses.append(rmse)\n",
    "        t.add_row([each_col,mse,rmse])\n",
    "\n",
    "mse_values=pd.DataFrame(pd.Series(col_name),columns=['col_name'])\n",
    "mse_values[\"rmse\"] = pd.Series(rmses)\n",
    "print(t)"
   ]
  },
  {
   "cell_type": "code",
   "execution_count": null,
   "metadata": {},
   "outputs": [],
   "source": []
  },
  {
   "cell_type": "code",
   "execution_count": 324,
   "metadata": {},
   "outputs": [],
   "source": [
    "sorted_rmse=mse_values.sort_values(\"rmse\",ascending=False)"
   ]
  },
  {
   "cell_type": "code",
   "execution_count": 325,
   "metadata": {},
   "outputs": [],
   "source": [
    "sorted_rmse.reset_index(drop=True,inplace=True)"
   ]
  },
  {
   "cell_type": "code",
   "execution_count": 326,
   "metadata": {},
   "outputs": [
    {
     "data": {
      "text/html": [
       "<div>\n",
       "<style scoped>\n",
       "    .dataframe tbody tr th:only-of-type {\n",
       "        vertical-align: middle;\n",
       "    }\n",
       "\n",
       "    .dataframe tbody tr th {\n",
       "        vertical-align: top;\n",
       "    }\n",
       "\n",
       "    .dataframe thead th {\n",
       "        text-align: right;\n",
       "    }\n",
       "</style>\n",
       "<table border=\"1\" class=\"dataframe\">\n",
       "  <thead>\n",
       "    <tr style=\"text-align: right;\">\n",
       "      <th></th>\n",
       "      <th>col_name</th>\n",
       "      <th>rmse</th>\n",
       "    </tr>\n",
       "  </thead>\n",
       "  <tbody>\n",
       "    <tr>\n",
       "      <th>0</th>\n",
       "      <td>make_mercedes-benz</td>\n",
       "      <td>10643.82</td>\n",
       "    </tr>\n",
       "    <tr>\n",
       "      <th>1</th>\n",
       "      <td>fuel_system_mpfi</td>\n",
       "      <td>7463.44</td>\n",
       "    </tr>\n",
       "    <tr>\n",
       "      <th>2</th>\n",
       "      <td>fuel_system_2bbl</td>\n",
       "      <td>7329.60</td>\n",
       "    </tr>\n",
       "    <tr>\n",
       "      <th>3</th>\n",
       "      <td>wheel_base</td>\n",
       "      <td>6517.52</td>\n",
       "    </tr>\n",
       "    <tr>\n",
       "      <th>4</th>\n",
       "      <td>bore</td>\n",
       "      <td>6507.77</td>\n",
       "    </tr>\n",
       "    <tr>\n",
       "      <th>5</th>\n",
       "      <td>highway_mpg</td>\n",
       "      <td>6055.50</td>\n",
       "    </tr>\n",
       "    <tr>\n",
       "      <th>6</th>\n",
       "      <td>drive_wheels_fwd</td>\n",
       "      <td>5847.74</td>\n",
       "    </tr>\n",
       "    <tr>\n",
       "      <th>7</th>\n",
       "      <td>num_cylinders_four</td>\n",
       "      <td>5528.94</td>\n",
       "    </tr>\n",
       "    <tr>\n",
       "      <th>8</th>\n",
       "      <td>city_mpg</td>\n",
       "      <td>5212.73</td>\n",
       "    </tr>\n",
       "    <tr>\n",
       "      <th>9</th>\n",
       "      <td>curb_weight</td>\n",
       "      <td>5002.99</td>\n",
       "    </tr>\n",
       "    <tr>\n",
       "      <th>10</th>\n",
       "      <td>horsepower</td>\n",
       "      <td>4981.05</td>\n",
       "    </tr>\n",
       "    <tr>\n",
       "      <th>11</th>\n",
       "      <td>drive_wheels_rwd</td>\n",
       "      <td>4944.81</td>\n",
       "    </tr>\n",
       "    <tr>\n",
       "      <th>12</th>\n",
       "      <td>length</td>\n",
       "      <td>4939.25</td>\n",
       "    </tr>\n",
       "    <tr>\n",
       "      <th>13</th>\n",
       "      <td>width</td>\n",
       "      <td>4486.02</td>\n",
       "    </tr>\n",
       "    <tr>\n",
       "      <th>14</th>\n",
       "      <td>engine_size</td>\n",
       "      <td>3933.62</td>\n",
       "    </tr>\n",
       "  </tbody>\n",
       "</table>\n",
       "</div>"
      ],
      "text/plain": [
       "              col_name      rmse\n",
       "0   make_mercedes-benz  10643.82\n",
       "1     fuel_system_mpfi   7463.44\n",
       "2     fuel_system_2bbl   7329.60\n",
       "3           wheel_base   6517.52\n",
       "4                 bore   6507.77\n",
       "5          highway_mpg   6055.50\n",
       "6     drive_wheels_fwd   5847.74\n",
       "7   num_cylinders_four   5528.94\n",
       "8             city_mpg   5212.73\n",
       "9          curb_weight   5002.99\n",
       "10          horsepower   4981.05\n",
       "11    drive_wheels_rwd   4944.81\n",
       "12              length   4939.25\n",
       "13               width   4486.02\n",
       "14         engine_size   3933.62"
      ]
     },
     "execution_count": 326,
     "metadata": {},
     "output_type": "execute_result"
    }
   ],
   "source": [
    "sorted_rmse"
   ]
  },
  {
   "cell_type": "code",
   "execution_count": 327,
   "metadata": {},
   "outputs": [
    {
     "data": {
      "image/png": "[encoded data removed]",
      "text/plain": [
       "<Figure size 864x576 with 1 Axes>"
      ]
     },
     "metadata": {
      "needs_background": "light"
     },
     "output_type": "display_data"
    }
   ],
   "source": [
    "fig=plt.figure(figsize=(12,8))\n",
    "ax=fig.add_subplot(111)\n",
    "ax.hlines(y=sorted_rmse[\"col_name\"],xmin=1000,xmax=sorted_rmse[\"rmse\"])\n",
    "ax.scatter(y=sorted_rmse[\"col_name\"],x=sorted_rmse[\"rmse\"])\n",
    "\n",
    "for i in range(len(sorted_rmse)):\n",
    "    ax.text(s=sorted_rmse.iloc[i,1],x=sorted_rmse.iloc[i,1],y=sorted_rmse.iloc[i,0])\n",
    "plt.show()"
   ]
  },
  {
   "cell_type": "markdown",
   "metadata": {},
   "source": [
    "[Index](#Index)"
   ]
  },
  {
   "cell_type": "markdown",
   "metadata": {},
   "source": [
    "# 5"
   ]
  },
  {
   "cell_type": "markdown",
   "metadata": {},
   "source": [
    "## Title"
   ]
  },
  {
   "cell_type": "markdown",
   "metadata": {},
   "source": []
  },
  {
   "cell_type": "markdown",
   "metadata": {},
   "source": [
    "instructions\n"
   ]
  },
  {
   "cell_type": "code",
   "execution_count": 328,
   "metadata": {
    "scrolled": false
   },
   "outputs": [],
   "source": [
    "#multivariate\n",
    "def knn_train_test(feature_cols,target_col,data):\n",
    "    shuffle_index = np.random.permutation(data.index)\n",
    "    data = data.reindex(shuffle_index)\n",
    "    train_data = data.iloc[:int(len(data)*.8)]\n",
    "    test_data = data.iloc[int(len(data)*.8):]\n",
    "    knn = skneighbors.KNeighborsRegressor(n_neighbors=10)\n",
    "    knn.fit(train_data[feature_cols],train_data[target_col])\n",
    "    predictions = knn.predict(test_data[feature_cols])\n",
    "    mse = skmetrics.mean_squared_error(test_data[target_col],predictions)\n",
    "    rmse = mse**0.5\n",
    "    return round(mse,2),round(rmse,2)"
   ]
  },
  {
   "cell_type": "code",
   "execution_count": 329,
   "metadata": {},
   "outputs": [
    {
     "data": {
      "text/plain": [
       "Index(['width', 'height', 'curb_weight', 'engine_size', 'bore', 'stroke',\n",
       "       'compression_ratio', 'horsepower', 'peak_rpm', 'city_mpg',\n",
       "       'highway_mpg', 'price', 'symboling_-1', 'symboling_-2', 'symboling_0',\n",
       "       'symboling_1', 'symboling_2', 'symboling_3', 'make_alfa-romero',\n",
       "       'make_audi', 'make_bmw', 'make_chevrolet', 'make_dodge', 'make_honda',\n",
       "       'make_isuzu', 'make_jaguar', 'make_mazda', 'make_mercedes-benz',\n",
       "       'make_mercury', 'make_mitsubishi', 'make_nissan', 'make_peugot',\n",
       "       'make_plymouth', 'make_porsche', 'make_saab', 'make_subaru',\n",
       "       'make_toyota', 'make_volkswagen', 'make_volvo', 'fuel_type_gas',\n",
       "       'aspiration_turbo', 'num_doors_four', 'body_style_convertible',\n",
       "       'body_style_hardtop', 'body_style_hatchback', 'body_style_sedan',\n",
       "       'body_style_wagon', 'drive_wheels_4wd', 'drive_wheels_fwd',\n",
       "       'drive_wheels_rwd', 'engine_location_front', 'engine_type_dohc',\n",
       "       'engine_type_l', 'engine_type_ohc', 'engine_type_ohcf',\n",
       "       'engine_type_ohcv', 'num_cylinders_eight', 'num_cylinders_five',\n",
       "       'num_cylinders_four', 'num_cylinders_six', 'num_cylinders_three',\n",
       "       'num_cylinders_twelve', 'fuel_system_1bbl', 'fuel_system_2bbl',\n",
       "       'fuel_system_idi', 'fuel_system_mfi', 'fuel_system_mpfi',\n",
       "       'fuel_system_spdi', 'fuel_system_spfi'],\n",
       "      dtype='object')"
      ]
     },
     "execution_count": 329,
     "metadata": {},
     "output_type": "execute_result"
    }
   ],
   "source": [
    "cars.columns[2:]"
   ]
  },
  {
   "cell_type": "code",
   "execution_count": 330,
   "metadata": {},
   "outputs": [
    {
     "data": {
      "text/html": [
       "<div>\n",
       "<style scoped>\n",
       "    .dataframe tbody tr th:only-of-type {\n",
       "        vertical-align: middle;\n",
       "    }\n",
       "\n",
       "    .dataframe tbody tr th {\n",
       "        vertical-align: top;\n",
       "    }\n",
       "\n",
       "    .dataframe thead th {\n",
       "        text-align: right;\n",
       "    }\n",
       "</style>\n",
       "<table border=\"1\" class=\"dataframe\">\n",
       "  <thead>\n",
       "    <tr style=\"text-align: right;\">\n",
       "      <th></th>\n",
       "      <th>feature_set</th>\n",
       "      <th>rmse</th>\n",
       "    </tr>\n",
       "  </thead>\n",
       "  <tbody>\n",
       "    <tr>\n",
       "      <th>0</th>\n",
       "      <td>continuous_features</td>\n",
       "      <td>3973.00</td>\n",
       "    </tr>\n",
       "    <tr>\n",
       "      <th>1</th>\n",
       "      <td>categorical_features</td>\n",
       "      <td>833.59</td>\n",
       "    </tr>\n",
       "  </tbody>\n",
       "</table>\n",
       "</div>"
      ],
      "text/plain": [
       "            feature_set     rmse\n",
       "0   continuous_features  3973.00\n",
       "1  categorical_features   833.59"
      ]
     },
     "execution_count": 330,
     "metadata": {},
     "output_type": "execute_result"
    }
   ],
   "source": [
    "continuous_data=cars.columns[0:13]\n",
    "categorical_data=cars.columns[14:]\n",
    "feature_set_rmse=pd.DataFrame(columns=['feature_set','rmse'])\n",
    "\n",
    "continuous_data_mse,continuous_data_rmse=knn_train_test(continuous_data,\"price\",cars)\n",
    "\n",
    "df_length=len(feature_set_rmse)\n",
    "feature_set_rmse.loc[df_length]=[\"continuous_features\",continuous_data_rmse]\n",
    "\n",
    "df_length=len(feature_set_rmse)\n",
    "feature_set_rmse.loc[df_length]=[\"categorical_features\",categorical_data_rmse]\n",
    "\n",
    "feature_set_rmse"
   ]
  },
  {
   "cell_type": "code",
   "execution_count": 331,
   "metadata": {},
   "outputs": [
    {
     "data": {
      "text/html": [
       "<div>\n",
       "<style scoped>\n",
       "    .dataframe tbody tr th:only-of-type {\n",
       "        vertical-align: middle;\n",
       "    }\n",
       "\n",
       "    .dataframe tbody tr th {\n",
       "        vertical-align: top;\n",
       "    }\n",
       "\n",
       "    .dataframe thead th {\n",
       "        text-align: right;\n",
       "    }\n",
       "</style>\n",
       "<table border=\"1\" class=\"dataframe\">\n",
       "  <thead>\n",
       "    <tr style=\"text-align: right;\">\n",
       "      <th></th>\n",
       "      <th>feature_set</th>\n",
       "      <th>rmse</th>\n",
       "    </tr>\n",
       "  </thead>\n",
       "  <tbody>\n",
       "    <tr>\n",
       "      <th>0</th>\n",
       "      <td>continuous_features</td>\n",
       "      <td>3973.00</td>\n",
       "    </tr>\n",
       "    <tr>\n",
       "      <th>1</th>\n",
       "      <td>categorical_features</td>\n",
       "      <td>833.59</td>\n",
       "    </tr>\n",
       "    <tr>\n",
       "      <th>2</th>\n",
       "      <td>best_positive_corr_features</td>\n",
       "      <td>4243.14</td>\n",
       "    </tr>\n",
       "  </tbody>\n",
       "</table>\n",
       "</div>"
      ],
      "text/plain": [
       "                   feature_set     rmse\n",
       "0          continuous_features  3973.00\n",
       "1         categorical_features   833.59\n",
       "2  best_positive_corr_features  4243.14"
      ]
     },
     "execution_count": 331,
     "metadata": {},
     "output_type": "execute_result"
    }
   ],
   "source": [
    "best_positive_corr_features=most_corr_features[most_corr_features.between(0,.999,inclusive='neither')].index\n",
    "best_negative_corr_features=most_corr_features[most_corr_features.between(-1,0,inclusive='neither')].index\n",
    "\n",
    "best_positive_corr_features_mse,best_positive_corr_features_rmse=knn_train_test(best_positive_corr_features,\"price\",cars)\n",
    "df_length=len(feature_set_rmse)\n",
    "feature_set_rmse.loc[df_length]=[\"best_positive_corr_features\",best_positive_corr_features_rmse]\n",
    "\n",
    "feature_set_rmse\n",
    "# df_length=len(feature_set_rmse)\n",
    "# feature_set_rmse.loc[df_length]=[\"continuous_features\",continuous_data_rmse]"
   ]
  },
  {
   "cell_type": "code",
   "execution_count": 332,
   "metadata": {},
   "outputs": [],
   "source": [
    "best_negative_corr_features_mse,best_negative_corr_features_rmse=knn_train_test(best_negative_corr_features,\"price\",cars)\n",
    "df_length=len(feature_set_rmse)\n",
    "feature_set_rmse.loc[df_length]=[\"best_negative_corr_features\",best_negative_corr_features_rmse]"
   ]
  },
  {
   "cell_type": "code",
   "execution_count": 333,
   "metadata": {},
   "outputs": [
    {
     "data": {
      "text/html": [
       "<div>\n",
       "<style scoped>\n",
       "    .dataframe tbody tr th:only-of-type {\n",
       "        vertical-align: middle;\n",
       "    }\n",
       "\n",
       "    .dataframe tbody tr th {\n",
       "        vertical-align: top;\n",
       "    }\n",
       "\n",
       "    .dataframe thead th {\n",
       "        text-align: right;\n",
       "    }\n",
       "</style>\n",
       "<table border=\"1\" class=\"dataframe\">\n",
       "  <thead>\n",
       "    <tr style=\"text-align: right;\">\n",
       "      <th></th>\n",
       "      <th>feature_set</th>\n",
       "      <th>rmse</th>\n",
       "    </tr>\n",
       "  </thead>\n",
       "  <tbody>\n",
       "    <tr>\n",
       "      <th>0</th>\n",
       "      <td>continuous_features</td>\n",
       "      <td>3973.00</td>\n",
       "    </tr>\n",
       "    <tr>\n",
       "      <th>1</th>\n",
       "      <td>categorical_features</td>\n",
       "      <td>833.59</td>\n",
       "    </tr>\n",
       "    <tr>\n",
       "      <th>2</th>\n",
       "      <td>best_positive_corr_features</td>\n",
       "      <td>4243.14</td>\n",
       "    </tr>\n",
       "    <tr>\n",
       "      <th>3</th>\n",
       "      <td>best_negative_corr_features</td>\n",
       "      <td>3343.80</td>\n",
       "    </tr>\n",
       "  </tbody>\n",
       "</table>\n",
       "</div>"
      ],
      "text/plain": [
       "                   feature_set     rmse\n",
       "0          continuous_features  3973.00\n",
       "1         categorical_features   833.59\n",
       "2  best_positive_corr_features  4243.14\n",
       "3  best_negative_corr_features  3343.80"
      ]
     },
     "execution_count": 333,
     "metadata": {},
     "output_type": "execute_result"
    }
   ],
   "source": [
    "feature_set_rmse"
   ]
  },
  {
   "cell_type": "code",
   "execution_count": 334,
   "metadata": {},
   "outputs": [
    {
     "data": {
      "text/html": [
       "<div>\n",
       "<style scoped>\n",
       "    .dataframe tbody tr th:only-of-type {\n",
       "        vertical-align: middle;\n",
       "    }\n",
       "\n",
       "    .dataframe tbody tr th {\n",
       "        vertical-align: top;\n",
       "    }\n",
       "\n",
       "    .dataframe thead th {\n",
       "        text-align: right;\n",
       "    }\n",
       "</style>\n",
       "<table border=\"1\" class=\"dataframe\">\n",
       "  <thead>\n",
       "    <tr style=\"text-align: right;\">\n",
       "      <th></th>\n",
       "      <th>feature_set</th>\n",
       "      <th>rmse</th>\n",
       "    </tr>\n",
       "  </thead>\n",
       "  <tbody>\n",
       "    <tr>\n",
       "      <th>0</th>\n",
       "      <td>continuous_features</td>\n",
       "      <td>3973.00</td>\n",
       "    </tr>\n",
       "    <tr>\n",
       "      <th>1</th>\n",
       "      <td>categorical_features</td>\n",
       "      <td>833.59</td>\n",
       "    </tr>\n",
       "    <tr>\n",
       "      <th>2</th>\n",
       "      <td>best_positive_corr_features</td>\n",
       "      <td>4243.14</td>\n",
       "    </tr>\n",
       "    <tr>\n",
       "      <th>3</th>\n",
       "      <td>best_negative_corr_features</td>\n",
       "      <td>3343.80</td>\n",
       "    </tr>\n",
       "    <tr>\n",
       "      <th>4</th>\n",
       "      <td>2_best_features</td>\n",
       "      <td>3538.67</td>\n",
       "    </tr>\n",
       "    <tr>\n",
       "      <th>5</th>\n",
       "      <td>3_best_features</td>\n",
       "      <td>3168.47</td>\n",
       "    </tr>\n",
       "    <tr>\n",
       "      <th>6</th>\n",
       "      <td>4_best_features</td>\n",
       "      <td>2883.65</td>\n",
       "    </tr>\n",
       "    <tr>\n",
       "      <th>7</th>\n",
       "      <td>5_best_features</td>\n",
       "      <td>3431.97</td>\n",
       "    </tr>\n",
       "    <tr>\n",
       "      <th>8</th>\n",
       "      <td>6_best_features</td>\n",
       "      <td>2894.74</td>\n",
       "    </tr>\n",
       "    <tr>\n",
       "      <th>9</th>\n",
       "      <td>7_best_features</td>\n",
       "      <td>3603.28</td>\n",
       "    </tr>\n",
       "    <tr>\n",
       "      <th>10</th>\n",
       "      <td>8_best_features</td>\n",
       "      <td>2547.56</td>\n",
       "    </tr>\n",
       "    <tr>\n",
       "      <th>11</th>\n",
       "      <td>9_best_features</td>\n",
       "      <td>2898.55</td>\n",
       "    </tr>\n",
       "    <tr>\n",
       "      <th>12</th>\n",
       "      <td>10_best_features</td>\n",
       "      <td>2895.04</td>\n",
       "    </tr>\n",
       "    <tr>\n",
       "      <th>13</th>\n",
       "      <td>11_best_features</td>\n",
       "      <td>2886.78</td>\n",
       "    </tr>\n",
       "    <tr>\n",
       "      <th>14</th>\n",
       "      <td>12_best_features</td>\n",
       "      <td>4404.85</td>\n",
       "    </tr>\n",
       "    <tr>\n",
       "      <th>15</th>\n",
       "      <td>13_best_features</td>\n",
       "      <td>4484.22</td>\n",
       "    </tr>\n",
       "    <tr>\n",
       "      <th>16</th>\n",
       "      <td>14_best_features</td>\n",
       "      <td>3039.63</td>\n",
       "    </tr>\n",
       "    <tr>\n",
       "      <th>17</th>\n",
       "      <td>15_best_features</td>\n",
       "      <td>3430.68</td>\n",
       "    </tr>\n",
       "  </tbody>\n",
       "</table>\n",
       "</div>"
      ],
      "text/plain": [
       "                    feature_set     rmse\n",
       "0           continuous_features  3973.00\n",
       "1          categorical_features   833.59\n",
       "2   best_positive_corr_features  4243.14\n",
       "3   best_negative_corr_features  3343.80\n",
       "4               2_best_features  3538.67\n",
       "5               3_best_features  3168.47\n",
       "6               4_best_features  2883.65\n",
       "7               5_best_features  3431.97\n",
       "8               6_best_features  2894.74\n",
       "9               7_best_features  3603.28\n",
       "10              8_best_features  2547.56\n",
       "11              9_best_features  2898.55\n",
       "12             10_best_features  2895.04\n",
       "13             11_best_features  2886.78\n",
       "14             12_best_features  4404.85\n",
       "15             13_best_features  4484.22\n",
       "16             14_best_features  3039.63\n",
       "17             15_best_features  3430.68"
      ]
     },
     "execution_count": 334,
     "metadata": {},
     "output_type": "execute_result"
    }
   ],
   "source": [
    "for i in range(1,len(mse_values)):\n",
    "    num_features=i+1\n",
    "    features=mse_values.sort_values(\"rmse\")[\"col_name\"][:num_features]\n",
    "    \n",
    "    features_mse,features_rmse=knn_train_test(features,\"price\",cars)\n",
    "    df_length=len(feature_set_rmse)\n",
    "    feature_set_rmse.loc[df_length]=[\"{}_best_features\".format(num_features),features_rmse]\n",
    "feature_set_rmse"
   ]
  },
  {
   "cell_type": "code",
   "execution_count": 284,
   "metadata": {},
   "outputs": [
    {
     "data": {
      "text/plain": [
       "Index(['wheel_base', 'length', 'width', 'height', 'curb_weight', 'engine_size',\n",
       "       'bore', 'stroke', 'compression_ratio', 'horsepower', 'peak_rpm',\n",
       "       'city_mpg', 'highway_mpg', 'price', 'symboling_-1', 'symboling_-2',\n",
       "       'symboling_0', 'symboling_1', 'symboling_2', 'symboling_3',\n",
       "       'make_alfa-romero', 'make_audi', 'make_bmw', 'make_chevrolet',\n",
       "       'make_dodge', 'make_honda', 'make_isuzu', 'make_jaguar', 'make_mazda',\n",
       "       'make_mercedes-benz', 'make_mercury', 'make_mitsubishi', 'make_nissan',\n",
       "       'make_peugot', 'make_plymouth', 'make_porsche', 'make_saab',\n",
       "       'make_subaru', 'make_toyota', 'make_volkswagen', 'make_volvo',\n",
       "       'fuel_type_gas', 'aspiration_turbo', 'num_doors_four',\n",
       "       'body_style_convertible', 'body_style_hardtop', 'body_style_hatchback',\n",
       "       'body_style_sedan', 'body_style_wagon', 'drive_wheels_4wd',\n",
       "       'drive_wheels_fwd', 'drive_wheels_rwd', 'engine_location_front',\n",
       "       'engine_type_dohc', 'engine_type_l', 'engine_type_ohc',\n",
       "       'engine_type_ohcf', 'engine_type_ohcv', 'num_cylinders_eight',\n",
       "       'num_cylinders_five', 'num_cylinders_four', 'num_cylinders_six',\n",
       "       'num_cylinders_three', 'num_cylinders_twelve', 'fuel_system_1bbl',\n",
       "       'fuel_system_2bbl', 'fuel_system_idi', 'fuel_system_mfi',\n",
       "       'fuel_system_mpfi', 'fuel_system_spdi', 'fuel_system_spfi'],\n",
       "      dtype='object')"
      ]
     },
     "execution_count": 284,
     "metadata": {},
     "output_type": "execute_result"
    }
   ],
   "source": [
    "cars.columns"
   ]
  },
  {
   "cell_type": "code",
   "execution_count": 359,
   "metadata": {},
   "outputs": [
    {
     "data": {
      "image/png": "[encoded data removed]",
      "text/plain": [
       "<Figure size 720x504 with 2 Axes>"
      ]
     },
     "metadata": {
      "needs_background": "light"
     },
     "output_type": "display_data"
    }
   ],
   "source": [
    "make_symboling=pd.get_dummies(cars_analysis[\"make\"]+'_'+cars_analysis[\"symboling\"].astype(\"str\"))\n",
    "make_symboling['price']=cars[\"price\"]\n",
    "fig = plt.figure(figsize=(10,7))\n",
    "ax = fig.add_subplot(111)\n",
    "sns.heatmap(make_symboling.corr().loc[:,\"price\":\"price\"],annot=True)\n",
    "plt.show()"
   ]
  },
  {
   "cell_type": "code",
   "execution_count": 335,
   "metadata": {},
   "outputs": [
    {
     "data": {
      "text/plain": [
       "Index(['wheel_base', 'length', 'width', 'height', 'curb_weight', 'engine_size',\n",
       "       'bore', 'stroke', 'compression_ratio', 'horsepower', 'peak_rpm',\n",
       "       'city_mpg', 'highway_mpg'],\n",
       "      dtype='object')"
      ]
     },
     "execution_count": 335,
     "metadata": {},
     "output_type": "execute_result"
    }
   ],
   "source": [
    "cars.columns[:13]"
   ]
  },
  {
   "cell_type": "code",
   "execution_count": 346,
   "metadata": {},
   "outputs": [
    {
     "data": {
      "text/plain": [
       "make_mercedes-benz    0.524817\n",
       "drive_wheels_fwd     -0.603598\n",
       "drive_wheels_rwd      0.647897\n",
       "num_cylinders_four   -0.718585\n",
       "fuel_system_2bbl     -0.510875\n",
       "fuel_system_mpfi      0.525047\n",
       "Name: price, dtype: float64"
      ]
     },
     "execution_count": 346,
     "metadata": {},
     "output_type": "execute_result"
    }
   ],
   "source": [
    "price_categorisation=cars[cars.columns[13:]].corr()[\"price\"]\n",
    "price_categorisation[price_categorisation.between(-0.99,-0.5,inclusive=\"both\") | price_categorisation.between(0.5,0.99,inclusive=\"both\")]"
   ]
  },
  {
   "cell_type": "code",
   "execution_count": 344,
   "metadata": {},
   "outputs": [
    {
     "data": {
      "image/png": "[encoded data removed]",
      "text/plain": [
       "<Figure size 720x504 with 2 Axes>"
      ]
     },
     "metadata": {
      "needs_background": "light"
     },
     "output_type": "display_data"
    }
   ],
   "source": [
    "#cars[cars.columns[13:]].corr()\n",
    "fig = plt.figure(figsize=(10,7))\n",
    "ax = fig.add_subplot(111)\n",
    "sns.heatmap(cars[cars.columns[13:]].corr())\n",
    "plt.show()"
   ]
  },
  {
   "cell_type": "code",
   "execution_count": 285,
   "metadata": {},
   "outputs": [
    {
     "data": {
      "text/plain": [
       "Index(['wheel_base', 'length', 'width', 'height', 'curb_weight', 'engine_size',\n",
       "       'bore', 'stroke', 'compression_ratio', 'horsepower'],\n",
       "      dtype='object')"
      ]
     },
     "execution_count": 285,
     "metadata": {},
     "output_type": "execute_result"
    }
   ],
   "source": [
    "cars[continuous_data].columns"
   ]
  },
  {
   "cell_type": "code",
   "execution_count": 286,
   "metadata": {},
   "outputs": [
    {
     "data": {
      "text/plain": [
       "Index(['highway_mpg', 'price', 'symboling_-1', 'symboling_-2', 'symboling_0',\n",
       "       'symboling_1', 'symboling_2', 'symboling_3', 'make_alfa-romero',\n",
       "       'make_audi', 'make_bmw', 'make_chevrolet', 'make_dodge', 'make_honda',\n",
       "       'make_isuzu', 'make_jaguar', 'make_mazda', 'make_mercedes-benz',\n",
       "       'make_mercury', 'make_mitsubishi', 'make_nissan', 'make_peugot',\n",
       "       'make_plymouth', 'make_porsche', 'make_saab', 'make_subaru',\n",
       "       'make_toyota', 'make_volkswagen', 'make_volvo', 'fuel_type_gas',\n",
       "       'aspiration_turbo', 'num_doors_four', 'body_style_convertible',\n",
       "       'body_style_hardtop', 'body_style_hatchback', 'body_style_sedan',\n",
       "       'body_style_wagon', 'drive_wheels_4wd', 'drive_wheels_fwd',\n",
       "       'drive_wheels_rwd', 'engine_location_front', 'engine_type_dohc',\n",
       "       'engine_type_l', 'engine_type_ohc', 'engine_type_ohcf',\n",
       "       'engine_type_ohcv', 'num_cylinders_eight', 'num_cylinders_five',\n",
       "       'num_cylinders_four', 'num_cylinders_six', 'num_cylinders_three',\n",
       "       'num_cylinders_twelve', 'fuel_system_1bbl', 'fuel_system_2bbl',\n",
       "       'fuel_system_idi', 'fuel_system_mfi', 'fuel_system_mpfi',\n",
       "       'fuel_system_spdi', 'fuel_system_spfi'],\n",
       "      dtype='object')"
      ]
     },
     "execution_count": 286,
     "metadata": {},
     "output_type": "execute_result"
    }
   ],
   "source": [
    "cars[categorical_data].columns"
   ]
  },
  {
   "cell_type": "code",
   "execution_count": 279,
   "metadata": {},
   "outputs": [
    {
     "data": {
      "text/plain": [
       "3    curb_weight\n",
       "4    engine_size\n",
       "8    highway_mpg\n",
       "6     horsepower\n",
       "Name: col_name, dtype: object"
      ]
     },
     "execution_count": 279,
     "metadata": {},
     "output_type": "execute_result"
    }
   ],
   "source": [
    "mse_values.sort_values(\"rmse\")[\"col_name\"][:4]"
   ]
  },
  {
   "cell_type": "markdown",
   "metadata": {},
   "source": [
    "[Index](#Index)"
   ]
  },
  {
   "cell_type": "markdown",
   "metadata": {},
   "source": [
    "# 6"
   ]
  },
  {
   "cell_type": "markdown",
   "metadata": {},
   "source": [
    "## Title"
   ]
  },
  {
   "cell_type": "markdown",
   "metadata": {},
   "source": []
  },
  {
   "cell_type": "markdown",
   "metadata": {},
   "source": [
    "instructions\n"
   ]
  },
  {
   "cell_type": "code",
   "execution_count": null,
   "metadata": {
    "scrolled": false
   },
   "outputs": [],
   "source": []
  },
  {
   "cell_type": "markdown",
   "metadata": {},
   "source": [
    "[Index](#Index)"
   ]
  },
  {
   "cell_type": "markdown",
   "metadata": {},
   "source": [
    "# 7"
   ]
  },
  {
   "cell_type": "markdown",
   "metadata": {},
   "source": [
    "## Title"
   ]
  },
  {
   "cell_type": "markdown",
   "metadata": {},
   "source": []
  },
  {
   "cell_type": "markdown",
   "metadata": {},
   "source": [
    "instructions\n"
   ]
  },
  {
   "cell_type": "code",
   "execution_count": null,
   "metadata": {
    "scrolled": false
   },
   "outputs": [],
   "source": []
  },
  {
   "cell_type": "markdown",
   "metadata": {},
   "source": [
    "[Index](#Index)"
   ]
  },
  {
   "cell_type": "markdown",
   "metadata": {},
   "source": [
    "# 8"
   ]
  },
  {
   "cell_type": "markdown",
   "metadata": {},
   "source": [
    "## Title"
   ]
  },
  {
   "cell_type": "markdown",
   "metadata": {},
   "source": []
  },
  {
   "cell_type": "markdown",
   "metadata": {},
   "source": [
    "instructions\n"
   ]
  },
  {
   "cell_type": "code",
   "execution_count": null,
   "metadata": {
    "scrolled": false
   },
   "outputs": [],
   "source": []
  },
  {
   "cell_type": "markdown",
   "metadata": {},
   "source": [
    "[Index](#Index)"
   ]
  },
  {
   "cell_type": "markdown",
   "metadata": {},
   "source": [
    "# 9"
   ]
  },
  {
   "cell_type": "markdown",
   "metadata": {},
   "source": [
    "## Title"
   ]
  },
  {
   "cell_type": "markdown",
   "metadata": {},
   "source": []
  },
  {
   "cell_type": "markdown",
   "metadata": {},
   "source": [
    "instructions\n"
   ]
  },
  {
   "cell_type": "code",
   "execution_count": null,
   "metadata": {
    "scrolled": false
   },
   "outputs": [],
   "source": []
  },
  {
   "cell_type": "markdown",
   "metadata": {},
   "source": [
    "[Index](#Index)"
   ]
  },
  {
   "cell_type": "markdown",
   "metadata": {},
   "source": [
    "# 10"
   ]
  },
  {
   "cell_type": "markdown",
   "metadata": {},
   "source": [
    "## Title"
   ]
  },
  {
   "cell_type": "markdown",
   "metadata": {},
   "source": []
  },
  {
   "cell_type": "markdown",
   "metadata": {},
   "source": [
    "instructions\n"
   ]
  },
  {
   "cell_type": "code",
   "execution_count": null,
   "metadata": {
    "scrolled": false
   },
   "outputs": [],
   "source": []
  },
  {
   "cell_type": "markdown",
   "metadata": {},
   "source": [
    "[Index](#Index)"
   ]
  },
  {
   "cell_type": "markdown",
   "metadata": {},
   "source": [
    "# 11"
   ]
  },
  {
   "cell_type": "markdown",
   "metadata": {},
   "source": [
    "## Title"
   ]
  },
  {
   "cell_type": "markdown",
   "metadata": {},
   "source": []
  },
  {
   "cell_type": "markdown",
   "metadata": {},
   "source": [
    "instructions\n"
   ]
  },
  {
   "cell_type": "code",
   "execution_count": null,
   "metadata": {
    "scrolled": false
   },
   "outputs": [],
   "source": []
  },
  {
   "cell_type": "markdown",
   "metadata": {},
   "source": [
    "[Index](#Index)"
   ]
  },
  {
   "cell_type": "markdown",
   "metadata": {},
   "source": [
    "# 12"
   ]
  },
  {
   "cell_type": "markdown",
   "metadata": {},
   "source": [
    "## Title"
   ]
  },
  {
   "cell_type": "markdown",
   "metadata": {},
   "source": []
  },
  {
   "cell_type": "markdown",
   "metadata": {},
   "source": [
    "instructions\n"
   ]
  },
  {
   "cell_type": "code",
   "execution_count": null,
   "metadata": {
    "scrolled": false
   },
   "outputs": [],
   "source": []
  },
  {
   "cell_type": "markdown",
   "metadata": {},
   "source": [
    "[Index](#Index)"
   ]
  },
  {
   "cell_type": "markdown",
   "metadata": {},
   "source": [
    "# 13"
   ]
  },
  {
   "cell_type": "markdown",
   "metadata": {},
   "source": [
    "## Learning"
   ]
  },
  {
   "cell_type": "markdown",
   "metadata": {},
   "source": [
    "- [Normalization or Standardization](https://www.analyticsvidhya.com/blog/2020/04/feature-scaling-machine-learning-normalization-standardization/)\n",
    "- [Difference between OnehotEncoder and get_dummies()](https://stackoverflow.com/questions/36631163/what-are-the-pros-and-cons-between-get-dummies-pandas-and-onehotencoder-sciki)\n",
    "- [Appending a list or series to a newly created dataframe on the go](https://www.kite.com/python/answers/how-to-append-a-list-as-a-row-to-a-pandas-dataframe-in-python)"
   ]
  },
  {
   "cell_type": "markdown",
   "metadata": {},
   "source": [
    "instructions\n"
   ]
  },
  {
   "cell_type": "code",
   "execution_count": null,
   "metadata": {
    "scrolled": false
   },
   "outputs": [],
   "source": []
  },
  {
   "cell_type": "markdown",
   "metadata": {},
   "source": [
    "[Index](#Index)"
   ]
  },
  {
   "cell_type": "code",
   "execution_count": null,
   "metadata": {},
   "outputs": [],
   "source": []
  }
 ],
 "metadata": {
  "kernelspec": {
   "display_name": "Python 3",
   "language": "python",
   "name": "python3"
  },
  "language_info": {
   "codemirror_mode": {
    "name": "ipython",
    "version": 3
   },
   "file_extension": ".py",
   "mimetype": "text/x-python",
   "name": "python",
   "nbconvert_exporter": "python",
   "pygments_lexer": "ipython3",
   "version": "3.8.8"
  }
 },
 "nbformat": 4,
 "nbformat_minor": 2
}
