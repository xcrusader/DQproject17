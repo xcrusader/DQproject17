{
 "cells": [
  {
   "cell_type": "markdown",
   "metadata": {},
   "source": [
    "# Index"
   ]
  },
  {
   "cell_type": "markdown",
   "metadata": {},
   "source": [
    "- [1 Introduction](#1)\n",
    "- [2 K-Nearest Neighbors](#2)\n",
    "- [3 Reading the Data](#3)\n",
    "- [4 Impurity Removal](#4)\n",
    "- [5 Co-related](#5)\n",
    "- [6 Lying Outside...Outliers](#6)\n",
    "- [7 On their Own...](#7)\n",
    "- [8 Title](#8)\n",
    "- [9 Title](#9)\n",
    "- [10 Title](#10)\n",
    "- [11 Title](#11)\n",
    "- [12 Title](#12)\n",
    "- [13 Title](#13)\n",
    "- [14 Title](#14)\n",
    "- [15 Next Steps](#15)\n",
    "- [16 Conclusions](#21)"
   ]
  },
  {
   "cell_type": "markdown",
   "metadata": {},
   "source": [
    "# 1"
   ]
  },
  {
   "cell_type": "markdown",
   "metadata": {},
   "source": [
    "## Introduction"
   ]
  },
  {
   "cell_type": "markdown",
   "metadata": {},
   "source": [
    "Making the decision on what the price of a second hand car must be is difficult. The price can depend on a number of parameters including the make, actuary evaluation etc. A system to predict the price of such cars would be very beneficial to users.\n",
    "\n",
    "In this project we shall attempt to predict the price of a car using a dataset of second hand cars. The prediction will be attempted using K-Neighbors algorithm.\n",
    "\n",
    "Our goal for this project shall be:\n",
    "- To attempt to create a model using the K-Neighbors algorithim that can predict the price of a car.\n",
    "- Calculate the accuracy of the predictions based on the md"
   ]
  },
  {
   "cell_type": "markdown",
   "metadata": {},
   "source": [
    "[Index](#Index)"
   ]
  },
  {
   "cell_type": "markdown",
   "metadata": {},
   "source": [
    "# 2"
   ]
  },
  {
   "cell_type": "markdown",
   "metadata": {},
   "source": [
    "## K-Nearest Neighbors"
   ]
  },
  {
   "cell_type": "markdown",
   "metadata": {},
   "source": [
    "K-Nearest Neighbors is an algorithm that predicts by comparing entities with similar features. An analogy that can be used to understand this better is that of a homeowner trying to evaluate the price of his/her home. The homeowner would ask around and research on the price of homes similar to his own. He/she would look at such features as the number of bathrooms, bedrooms, locality etc.\n",
    "\n",
    "After finding homes with almost similar features as his/her own, the homeowner would find it easier to hash out an average value for his/her own home.\n",
    "\n",
    "The K in the algorithm stands for the number of homes he/she uses to evaluate the average. K can be 5 or 7 i.e. the owner may consider 5 or 7 of the best houses that are similar to his/her own to calculate the average price.\n",
    "\n",
    "Therefore, a quick summary of the K-Nearest Neighbors algorithm would be that it evaluates entities(like homes) by comparing features (like a home's locality, its area etc.) considered important by a user. \n",
    "It then picks those entities that are most similar to the entity being compared against (the user's own home) and predicts the value of a feature (the price of a home) by calculating the average of the same feature (the price of other homes) for the comparable entities."
   ]
  },
  {
   "cell_type": "markdown",
   "metadata": {},
   "source": [
    "[Index](#Index)"
   ]
  },
  {
   "cell_type": "markdown",
   "metadata": {},
   "source": [
    "# 3"
   ]
  },
  {
   "cell_type": "markdown",
   "metadata": {},
   "source": [
    "## Reading the Data"
   ]
  },
  {
   "cell_type": "markdown",
   "metadata": {},
   "source": [
    "The dataset that will be used to create the model for this project has been provided by Jeffrey C. Schlimmer on the [UCI Machine Learning Repository](https://archive.ics.uci.edu/ml/datasets/automobile).\n",
    "\n",
    "The dataset contains listings of cars that include their various charachteristics like length, width, engine size etc."
   ]
  },
  {
   "cell_type": "code",
   "execution_count": 270,
   "metadata": {},
   "outputs": [],
   "source": [
    "import pandas as pd\n",
    "import numpy as np\n",
    "import seaborn as sns\n",
    "import missingno as msno\n",
    "import matplotlib\n",
    "import matplotlib.pyplot as plt\n",
    "%matplotlib inline\n",
    "import sklearn.neighbors as skneighbors\n",
    "import sklearn.metrics as skmetrics\n",
    "import sklearn.model_selection as skmodelselection\n",
    "from prettytable import PrettyTable"
   ]
  },
  {
   "cell_type": "code",
   "execution_count": 271,
   "metadata": {},
   "outputs": [],
   "source": [
    "def bold_print(a_string,a_value=None):\n",
    "    \"\"\"\n",
    "    Boldens the output\n",
    "    \n",
    "    Args:\n",
    "        a_string (string): String to be bolded\n",
    "    \"\"\"\n",
    "    print(\"\\033[1m\"+a_string+\"\\033[0m\"+'\\n')"
   ]
  },
  {
   "cell_type": "code",
   "execution_count": 272,
   "metadata": {},
   "outputs": [
    {
     "data": {
      "text/html": [
       "<div>\n",
       "<style scoped>\n",
       "    .dataframe tbody tr th:only-of-type {\n",
       "        vertical-align: middle;\n",
       "    }\n",
       "\n",
       "    .dataframe tbody tr th {\n",
       "        vertical-align: top;\n",
       "    }\n",
       "\n",
       "    .dataframe thead th {\n",
       "        text-align: right;\n",
       "    }\n",
       "</style>\n",
       "<table border=\"1\" class=\"dataframe\">\n",
       "  <thead>\n",
       "    <tr style=\"text-align: right;\">\n",
       "      <th></th>\n",
       "      <th>symboling</th>\n",
       "      <th>normalized_losses</th>\n",
       "      <th>make</th>\n",
       "      <th>fuel_type</th>\n",
       "      <th>aspiration</th>\n",
       "      <th>num_doors</th>\n",
       "      <th>body_style</th>\n",
       "      <th>drive_wheels</th>\n",
       "      <th>engine_location</th>\n",
       "      <th>wheel_base</th>\n",
       "      <th>...</th>\n",
       "      <th>engine_size</th>\n",
       "      <th>fuel_system</th>\n",
       "      <th>bore</th>\n",
       "      <th>stroke</th>\n",
       "      <th>compression_ratio</th>\n",
       "      <th>horsepower</th>\n",
       "      <th>peak_rpm</th>\n",
       "      <th>city_mpg</th>\n",
       "      <th>highway_mpg</th>\n",
       "      <th>price</th>\n",
       "    </tr>\n",
       "  </thead>\n",
       "  <tbody>\n",
       "    <tr>\n",
       "      <th>0</th>\n",
       "      <td>3</td>\n",
       "      <td>?</td>\n",
       "      <td>alfa-romero</td>\n",
       "      <td>gas</td>\n",
       "      <td>std</td>\n",
       "      <td>two</td>\n",
       "      <td>convertible</td>\n",
       "      <td>rwd</td>\n",
       "      <td>front</td>\n",
       "      <td>88.6</td>\n",
       "      <td>...</td>\n",
       "      <td>130</td>\n",
       "      <td>mpfi</td>\n",
       "      <td>3.47</td>\n",
       "      <td>2.68</td>\n",
       "      <td>9.0</td>\n",
       "      <td>111</td>\n",
       "      <td>5000</td>\n",
       "      <td>21</td>\n",
       "      <td>27</td>\n",
       "      <td>13495</td>\n",
       "    </tr>\n",
       "    <tr>\n",
       "      <th>1</th>\n",
       "      <td>3</td>\n",
       "      <td>?</td>\n",
       "      <td>alfa-romero</td>\n",
       "      <td>gas</td>\n",
       "      <td>std</td>\n",
       "      <td>two</td>\n",
       "      <td>convertible</td>\n",
       "      <td>rwd</td>\n",
       "      <td>front</td>\n",
       "      <td>88.6</td>\n",
       "      <td>...</td>\n",
       "      <td>130</td>\n",
       "      <td>mpfi</td>\n",
       "      <td>3.47</td>\n",
       "      <td>2.68</td>\n",
       "      <td>9.0</td>\n",
       "      <td>111</td>\n",
       "      <td>5000</td>\n",
       "      <td>21</td>\n",
       "      <td>27</td>\n",
       "      <td>16500</td>\n",
       "    </tr>\n",
       "    <tr>\n",
       "      <th>2</th>\n",
       "      <td>1</td>\n",
       "      <td>?</td>\n",
       "      <td>alfa-romero</td>\n",
       "      <td>gas</td>\n",
       "      <td>std</td>\n",
       "      <td>two</td>\n",
       "      <td>hatchback</td>\n",
       "      <td>rwd</td>\n",
       "      <td>front</td>\n",
       "      <td>94.5</td>\n",
       "      <td>...</td>\n",
       "      <td>152</td>\n",
       "      <td>mpfi</td>\n",
       "      <td>2.68</td>\n",
       "      <td>3.47</td>\n",
       "      <td>9.0</td>\n",
       "      <td>154</td>\n",
       "      <td>5000</td>\n",
       "      <td>19</td>\n",
       "      <td>26</td>\n",
       "      <td>16500</td>\n",
       "    </tr>\n",
       "    <tr>\n",
       "      <th>3</th>\n",
       "      <td>2</td>\n",
       "      <td>164</td>\n",
       "      <td>audi</td>\n",
       "      <td>gas</td>\n",
       "      <td>std</td>\n",
       "      <td>four</td>\n",
       "      <td>sedan</td>\n",
       "      <td>fwd</td>\n",
       "      <td>front</td>\n",
       "      <td>99.8</td>\n",
       "      <td>...</td>\n",
       "      <td>109</td>\n",
       "      <td>mpfi</td>\n",
       "      <td>3.19</td>\n",
       "      <td>3.40</td>\n",
       "      <td>10.0</td>\n",
       "      <td>102</td>\n",
       "      <td>5500</td>\n",
       "      <td>24</td>\n",
       "      <td>30</td>\n",
       "      <td>13950</td>\n",
       "    </tr>\n",
       "    <tr>\n",
       "      <th>4</th>\n",
       "      <td>2</td>\n",
       "      <td>164</td>\n",
       "      <td>audi</td>\n",
       "      <td>gas</td>\n",
       "      <td>std</td>\n",
       "      <td>four</td>\n",
       "      <td>sedan</td>\n",
       "      <td>4wd</td>\n",
       "      <td>front</td>\n",
       "      <td>99.4</td>\n",
       "      <td>...</td>\n",
       "      <td>136</td>\n",
       "      <td>mpfi</td>\n",
       "      <td>3.19</td>\n",
       "      <td>3.40</td>\n",
       "      <td>8.0</td>\n",
       "      <td>115</td>\n",
       "      <td>5500</td>\n",
       "      <td>18</td>\n",
       "      <td>22</td>\n",
       "      <td>17450</td>\n",
       "    </tr>\n",
       "    <tr>\n",
       "      <th>5</th>\n",
       "      <td>2</td>\n",
       "      <td>?</td>\n",
       "      <td>audi</td>\n",
       "      <td>gas</td>\n",
       "      <td>std</td>\n",
       "      <td>two</td>\n",
       "      <td>sedan</td>\n",
       "      <td>fwd</td>\n",
       "      <td>front</td>\n",
       "      <td>99.8</td>\n",
       "      <td>...</td>\n",
       "      <td>136</td>\n",
       "      <td>mpfi</td>\n",
       "      <td>3.19</td>\n",
       "      <td>3.40</td>\n",
       "      <td>8.5</td>\n",
       "      <td>110</td>\n",
       "      <td>5500</td>\n",
       "      <td>19</td>\n",
       "      <td>25</td>\n",
       "      <td>15250</td>\n",
       "    </tr>\n",
       "    <tr>\n",
       "      <th>6</th>\n",
       "      <td>1</td>\n",
       "      <td>158</td>\n",
       "      <td>audi</td>\n",
       "      <td>gas</td>\n",
       "      <td>std</td>\n",
       "      <td>four</td>\n",
       "      <td>sedan</td>\n",
       "      <td>fwd</td>\n",
       "      <td>front</td>\n",
       "      <td>105.8</td>\n",
       "      <td>...</td>\n",
       "      <td>136</td>\n",
       "      <td>mpfi</td>\n",
       "      <td>3.19</td>\n",
       "      <td>3.40</td>\n",
       "      <td>8.5</td>\n",
       "      <td>110</td>\n",
       "      <td>5500</td>\n",
       "      <td>19</td>\n",
       "      <td>25</td>\n",
       "      <td>17710</td>\n",
       "    </tr>\n",
       "    <tr>\n",
       "      <th>7</th>\n",
       "      <td>1</td>\n",
       "      <td>?</td>\n",
       "      <td>audi</td>\n",
       "      <td>gas</td>\n",
       "      <td>std</td>\n",
       "      <td>four</td>\n",
       "      <td>wagon</td>\n",
       "      <td>fwd</td>\n",
       "      <td>front</td>\n",
       "      <td>105.8</td>\n",
       "      <td>...</td>\n",
       "      <td>136</td>\n",
       "      <td>mpfi</td>\n",
       "      <td>3.19</td>\n",
       "      <td>3.40</td>\n",
       "      <td>8.5</td>\n",
       "      <td>110</td>\n",
       "      <td>5500</td>\n",
       "      <td>19</td>\n",
       "      <td>25</td>\n",
       "      <td>18920</td>\n",
       "    </tr>\n",
       "    <tr>\n",
       "      <th>8</th>\n",
       "      <td>1</td>\n",
       "      <td>158</td>\n",
       "      <td>audi</td>\n",
       "      <td>gas</td>\n",
       "      <td>turbo</td>\n",
       "      <td>four</td>\n",
       "      <td>sedan</td>\n",
       "      <td>fwd</td>\n",
       "      <td>front</td>\n",
       "      <td>105.8</td>\n",
       "      <td>...</td>\n",
       "      <td>131</td>\n",
       "      <td>mpfi</td>\n",
       "      <td>3.13</td>\n",
       "      <td>3.40</td>\n",
       "      <td>8.3</td>\n",
       "      <td>140</td>\n",
       "      <td>5500</td>\n",
       "      <td>17</td>\n",
       "      <td>20</td>\n",
       "      <td>23875</td>\n",
       "    </tr>\n",
       "    <tr>\n",
       "      <th>9</th>\n",
       "      <td>0</td>\n",
       "      <td>?</td>\n",
       "      <td>audi</td>\n",
       "      <td>gas</td>\n",
       "      <td>turbo</td>\n",
       "      <td>two</td>\n",
       "      <td>hatchback</td>\n",
       "      <td>4wd</td>\n",
       "      <td>front</td>\n",
       "      <td>99.5</td>\n",
       "      <td>...</td>\n",
       "      <td>131</td>\n",
       "      <td>mpfi</td>\n",
       "      <td>3.13</td>\n",
       "      <td>3.40</td>\n",
       "      <td>7.0</td>\n",
       "      <td>160</td>\n",
       "      <td>5500</td>\n",
       "      <td>16</td>\n",
       "      <td>22</td>\n",
       "      <td>?</td>\n",
       "    </tr>\n",
       "  </tbody>\n",
       "</table>\n",
       "<p>10 rows × 26 columns</p>\n",
       "</div>"
      ],
      "text/plain": [
       "   symboling normalized_losses         make fuel_type aspiration num_doors  \\\n",
       "0          3                 ?  alfa-romero       gas        std       two   \n",
       "1          3                 ?  alfa-romero       gas        std       two   \n",
       "2          1                 ?  alfa-romero       gas        std       two   \n",
       "3          2               164         audi       gas        std      four   \n",
       "4          2               164         audi       gas        std      four   \n",
       "5          2                 ?         audi       gas        std       two   \n",
       "6          1               158         audi       gas        std      four   \n",
       "7          1                 ?         audi       gas        std      four   \n",
       "8          1               158         audi       gas      turbo      four   \n",
       "9          0                 ?         audi       gas      turbo       two   \n",
       "\n",
       "    body_style drive_wheels engine_location  wheel_base  ...  engine_size  \\\n",
       "0  convertible          rwd           front        88.6  ...          130   \n",
       "1  convertible          rwd           front        88.6  ...          130   \n",
       "2    hatchback          rwd           front        94.5  ...          152   \n",
       "3        sedan          fwd           front        99.8  ...          109   \n",
       "4        sedan          4wd           front        99.4  ...          136   \n",
       "5        sedan          fwd           front        99.8  ...          136   \n",
       "6        sedan          fwd           front       105.8  ...          136   \n",
       "7        wagon          fwd           front       105.8  ...          136   \n",
       "8        sedan          fwd           front       105.8  ...          131   \n",
       "9    hatchback          4wd           front        99.5  ...          131   \n",
       "\n",
       "   fuel_system  bore  stroke compression_ratio horsepower  peak_rpm city_mpg  \\\n",
       "0         mpfi  3.47    2.68               9.0        111      5000       21   \n",
       "1         mpfi  3.47    2.68               9.0        111      5000       21   \n",
       "2         mpfi  2.68    3.47               9.0        154      5000       19   \n",
       "3         mpfi  3.19    3.40              10.0        102      5500       24   \n",
       "4         mpfi  3.19    3.40               8.0        115      5500       18   \n",
       "5         mpfi  3.19    3.40               8.5        110      5500       19   \n",
       "6         mpfi  3.19    3.40               8.5        110      5500       19   \n",
       "7         mpfi  3.19    3.40               8.5        110      5500       19   \n",
       "8         mpfi  3.13    3.40               8.3        140      5500       17   \n",
       "9         mpfi  3.13    3.40               7.0        160      5500       16   \n",
       "\n",
       "  highway_mpg  price  \n",
       "0          27  13495  \n",
       "1          27  16500  \n",
       "2          26  16500  \n",
       "3          30  13950  \n",
       "4          22  17450  \n",
       "5          25  15250  \n",
       "6          25  17710  \n",
       "7          25  18920  \n",
       "8          20  23875  \n",
       "9          22      ?  \n",
       "\n",
       "[10 rows x 26 columns]"
      ]
     },
     "execution_count": 272,
     "metadata": {},
     "output_type": "execute_result"
    }
   ],
   "source": [
    "col_names = [\"symboling\",\"normalized_losses\",\"make\",\"fuel_type\",\"aspiration\",\"num_doors\",\"body_style\",\n",
    "             \"drive_wheels\",\"engine_location\",\"wheel_base\",\"length\",\"width\",\"height\",\"curb_weight\",\"engine_type\",\n",
    "             \"num_cylinders\",\"engine_size\",\"fuel_system\",\"bore\",\"stroke\",\"compression_ratio\",\"horsepower\",\n",
    "             \"peak_rpm\",\"city_mpg\",\"highway_mpg\",\"price\"]\n",
    "cars = pd.read_csv(\"imports-85.data\", names=col_names)\n",
    "cars.head(10)"
   ]
  },
  {
   "cell_type": "markdown",
   "metadata": {
    "scrolled": false
   },
   "source": [
    "A quick glance at the dataset reveals that it contains both categorical and continuous variables. Since we are evaluating using K-Nearest Neighbors, we shall only be considering the continuous variables. Continuous variables have numeric data that allows the algorithm to compare features more easily. \n",
    "\n",
    "The following are the numeric columns that will be considered for further analysis:\n",
    "- normalized-losses  \n",
    "- wheel-base        \n",
    "- length            \n",
    "- width             \n",
    "- height            \n",
    "- curb-weight       \n",
    "- bore              \n",
    "- stroke            \n",
    "- compression-ratio  \n",
    "- horsepower        \n",
    "- peak-rpm         \n",
    "- city-mpg           \n",
    "- highway-mpg        \n",
    "- price             "
   ]
  },
  {
   "cell_type": "code",
   "execution_count": 273,
   "metadata": {},
   "outputs": [],
   "source": [
    "num_cols=['wheel_base', 'length',\n",
    "          'width','height','curb_weight',\n",
    "          'engine_size','bore','stroke', \n",
    "          'compression_ratio','horsepower','peak_rpm',\n",
    "          'city_mpg','highway_mpg','price']"
   ]
  },
  {
   "cell_type": "markdown",
   "metadata": {},
   "source": [
    "[Index](#Index)"
   ]
  },
  {
   "cell_type": "markdown",
   "metadata": {},
   "source": [
    "# 4"
   ]
  },
  {
   "cell_type": "markdown",
   "metadata": {},
   "source": [
    "## Impurity Removal\n",
    "**Cleaning the data**"
   ]
  },
  {
   "cell_type": "markdown",
   "metadata": {},
   "source": [
    "While analyzing the data it was found that many of the identified columns have the incorrect data type and *?* to indicate missing data."
   ]
  },
  {
   "cell_type": "code",
   "execution_count": 274,
   "metadata": {},
   "outputs": [
    {
     "name": "stdout",
     "output_type": "stream",
     "text": [
      "<class 'pandas.core.frame.DataFrame'>\n",
      "RangeIndex: 205 entries, 0 to 204\n",
      "Data columns (total 26 columns):\n",
      " #   Column             Non-Null Count  Dtype  \n",
      "---  ------             --------------  -----  \n",
      " 0   symboling          205 non-null    int64  \n",
      " 1   normalized_losses  205 non-null    object \n",
      " 2   make               205 non-null    object \n",
      " 3   fuel_type          205 non-null    object \n",
      " 4   aspiration         205 non-null    object \n",
      " 5   num_doors          205 non-null    object \n",
      " 6   body_style         205 non-null    object \n",
      " 7   drive_wheels       205 non-null    object \n",
      " 8   engine_location    205 non-null    object \n",
      " 9   wheel_base         205 non-null    float64\n",
      " 10  length             205 non-null    float64\n",
      " 11  width              205 non-null    float64\n",
      " 12  height             205 non-null    float64\n",
      " 13  curb_weight        205 non-null    int64  \n",
      " 14  engine_type        205 non-null    object \n",
      " 15  num_cylinders      205 non-null    object \n",
      " 16  engine_size        205 non-null    int64  \n",
      " 17  fuel_system        205 non-null    object \n",
      " 18  bore               205 non-null    object \n",
      " 19  stroke             205 non-null    object \n",
      " 20  compression_ratio  205 non-null    float64\n",
      " 21  horsepower         205 non-null    object \n",
      " 22  peak_rpm           205 non-null    object \n",
      " 23  city_mpg           205 non-null    int64  \n",
      " 24  highway_mpg        205 non-null    int64  \n",
      " 25  price              205 non-null    object \n",
      "dtypes: float64(5), int64(5), object(16)\n",
      "memory usage: 41.8+ KB\n"
     ]
    }
   ],
   "source": [
    "cars.info()"
   ]
  },
  {
   "cell_type": "markdown",
   "metadata": {},
   "source": [
    "Since the *normalized-losses* has missing data we shall be removing the column altogether as it is impossible to fill the missing values. The loss for different car brands are different, it is therefore not possible to fill the missing values with something valid.\n",
    "\n",
    "The incorrect data type against the numeric columns need to be corrected as well."
   ]
  },
  {
   "cell_type": "code",
   "execution_count": 275,
   "metadata": {
    "scrolled": false
   },
   "outputs": [],
   "source": [
    "cars=cars.replace('?',np.nan)\n",
    "cars.drop(columns=[\"normalized_losses\"],inplace=True)\n",
    "cars[[\"curb_weight\",\n",
    "      \"bore\",\"stroke\",\"horsepower\",\n",
    "      \"peak_rpm\",\"price\"]]=cars[[\"curb_weight\",\n",
    "                                 \"bore\",\"stroke\",\"horsepower\",\n",
    "                                 \"peak_rpm\",\"price\"]].astype(\"float\")"
   ]
  },
  {
   "cell_type": "markdown",
   "metadata": {},
   "source": [
    "We shall next evaluate for null values."
   ]
  },
  {
   "cell_type": "code",
   "execution_count": 276,
   "metadata": {},
   "outputs": [
    {
     "data": {
      "image/png": "[encoded data removed]",
      "text/plain": [
       "<Figure size 1800x720 with 2 Axes>"
      ]
     },
     "metadata": {
      "needs_background": "light"
     },
     "output_type": "display_data"
    }
   ],
   "source": [
    "msno.matrix(cars[num_cols])\n",
    "plt.title(\"Null values in the dataset\", size=25)\n",
    "plt.show()"
   ]
  },
  {
   "cell_type": "markdown",
   "metadata": {},
   "source": [
    "We shall quickly evaluate the missing values."
   ]
  },
  {
   "cell_type": "code",
   "execution_count": 277,
   "metadata": {},
   "outputs": [
    {
     "data": {
      "text/html": [
       "<div>\n",
       "<style scoped>\n",
       "    .dataframe tbody tr th:only-of-type {\n",
       "        vertical-align: middle;\n",
       "    }\n",
       "\n",
       "    .dataframe tbody tr th {\n",
       "        vertical-align: top;\n",
       "    }\n",
       "\n",
       "    .dataframe thead th {\n",
       "        text-align: right;\n",
       "    }\n",
       "</style>\n",
       "<table border=\"1\" class=\"dataframe\">\n",
       "  <thead>\n",
       "    <tr style=\"text-align: right;\">\n",
       "      <th></th>\n",
       "      <th>make</th>\n",
       "      <th>price</th>\n",
       "    </tr>\n",
       "  </thead>\n",
       "  <tbody>\n",
       "    <tr>\n",
       "      <th>9</th>\n",
       "      <td>audi</td>\n",
       "      <td>NaN</td>\n",
       "    </tr>\n",
       "    <tr>\n",
       "      <th>44</th>\n",
       "      <td>isuzu</td>\n",
       "      <td>NaN</td>\n",
       "    </tr>\n",
       "    <tr>\n",
       "      <th>45</th>\n",
       "      <td>isuzu</td>\n",
       "      <td>NaN</td>\n",
       "    </tr>\n",
       "    <tr>\n",
       "      <th>129</th>\n",
       "      <td>porsche</td>\n",
       "      <td>NaN</td>\n",
       "    </tr>\n",
       "  </tbody>\n",
       "</table>\n",
       "</div>"
      ],
      "text/plain": [
       "        make  price\n",
       "9       audi    NaN\n",
       "44     isuzu    NaN\n",
       "45     isuzu    NaN\n",
       "129  porsche    NaN"
      ]
     },
     "execution_count": 277,
     "metadata": {},
     "output_type": "execute_result"
    }
   ],
   "source": [
    "cars[cars['price'].isnull()][['make','price']]"
   ]
  },
  {
   "cell_type": "code",
   "execution_count": 278,
   "metadata": {},
   "outputs": [
    {
     "data": {
      "text/html": [
       "<div>\n",
       "<style scoped>\n",
       "    .dataframe tbody tr th:only-of-type {\n",
       "        vertical-align: middle;\n",
       "    }\n",
       "\n",
       "    .dataframe tbody tr th {\n",
       "        vertical-align: top;\n",
       "    }\n",
       "\n",
       "    .dataframe thead th {\n",
       "        text-align: right;\n",
       "    }\n",
       "</style>\n",
       "<table border=\"1\" class=\"dataframe\">\n",
       "  <thead>\n",
       "    <tr style=\"text-align: right;\">\n",
       "      <th></th>\n",
       "      <th>make</th>\n",
       "      <th>bore</th>\n",
       "      <th>stroke</th>\n",
       "    </tr>\n",
       "  </thead>\n",
       "  <tbody>\n",
       "    <tr>\n",
       "      <th>55</th>\n",
       "      <td>mazda</td>\n",
       "      <td>NaN</td>\n",
       "      <td>NaN</td>\n",
       "    </tr>\n",
       "    <tr>\n",
       "      <th>56</th>\n",
       "      <td>mazda</td>\n",
       "      <td>NaN</td>\n",
       "      <td>NaN</td>\n",
       "    </tr>\n",
       "    <tr>\n",
       "      <th>57</th>\n",
       "      <td>mazda</td>\n",
       "      <td>NaN</td>\n",
       "      <td>NaN</td>\n",
       "    </tr>\n",
       "    <tr>\n",
       "      <th>58</th>\n",
       "      <td>mazda</td>\n",
       "      <td>NaN</td>\n",
       "      <td>NaN</td>\n",
       "    </tr>\n",
       "  </tbody>\n",
       "</table>\n",
       "</div>"
      ],
      "text/plain": [
       "     make  bore  stroke\n",
       "55  mazda   NaN     NaN\n",
       "56  mazda   NaN     NaN\n",
       "57  mazda   NaN     NaN\n",
       "58  mazda   NaN     NaN"
      ]
     },
     "execution_count": 278,
     "metadata": {},
     "output_type": "execute_result"
    }
   ],
   "source": [
    "cars[cars['bore'].isnull()][['make','bore','stroke']]"
   ]
  },
  {
   "cell_type": "code",
   "execution_count": 279,
   "metadata": {},
   "outputs": [
    {
     "data": {
      "text/html": [
       "<div>\n",
       "<style scoped>\n",
       "    .dataframe tbody tr th:only-of-type {\n",
       "        vertical-align: middle;\n",
       "    }\n",
       "\n",
       "    .dataframe tbody tr th {\n",
       "        vertical-align: top;\n",
       "    }\n",
       "\n",
       "    .dataframe thead th {\n",
       "        text-align: right;\n",
       "    }\n",
       "</style>\n",
       "<table border=\"1\" class=\"dataframe\">\n",
       "  <thead>\n",
       "    <tr style=\"text-align: right;\">\n",
       "      <th></th>\n",
       "      <th>make</th>\n",
       "      <th>horsepower</th>\n",
       "      <th>peak_rpm</th>\n",
       "    </tr>\n",
       "  </thead>\n",
       "  <tbody>\n",
       "    <tr>\n",
       "      <th>130</th>\n",
       "      <td>renault</td>\n",
       "      <td>NaN</td>\n",
       "      <td>NaN</td>\n",
       "    </tr>\n",
       "    <tr>\n",
       "      <th>131</th>\n",
       "      <td>renault</td>\n",
       "      <td>NaN</td>\n",
       "      <td>NaN</td>\n",
       "    </tr>\n",
       "  </tbody>\n",
       "</table>\n",
       "</div>"
      ],
      "text/plain": [
       "        make  horsepower  peak_rpm\n",
       "130  renault         NaN       NaN\n",
       "131  renault         NaN       NaN"
      ]
     },
     "execution_count": 279,
     "metadata": {},
     "output_type": "execute_result"
    }
   ],
   "source": [
    "cars[cars['horsepower'].isnull()][['make','horsepower','peak_rpm']]"
   ]
  },
  {
   "cell_type": "markdown",
   "metadata": {},
   "source": [
    "Since the price column is the target feature, null values in the *price* column is unacceptable. Since there are only few missing values in the other columns, it should not significantly affect the model as only cars associated to two models are being removed."
   ]
  },
  {
   "cell_type": "code",
   "execution_count": 280,
   "metadata": {},
   "outputs": [],
   "source": [
    "cars.dropna(inplace=True)"
   ]
  },
  {
   "cell_type": "markdown",
   "metadata": {},
   "source": [
    "Now that we have removed the null values. We shall have to find out the number of rows after removing null values."
   ]
  },
  {
   "cell_type": "code",
   "execution_count": 281,
   "metadata": {},
   "outputs": [
    {
     "name": "stdout",
     "output_type": "stream",
     "text": [
      "\u001b[1mNumber of rows after removing the null values:\u001b[0m\n",
      "\n"
     ]
    },
    {
     "data": {
      "text/plain": [
       "193"
      ]
     },
     "execution_count": 281,
     "metadata": {},
     "output_type": "execute_result"
    }
   ],
   "source": [
    "bold_print(\"Number of rows after removing the null values:\")\n",
    "cars.shape[0]"
   ]
  },
  {
   "cell_type": "markdown",
   "metadata": {},
   "source": [
    "[Index](#Index)"
   ]
  },
  {
   "cell_type": "markdown",
   "metadata": {},
   "source": [
    "# 5"
   ]
  },
  {
   "cell_type": "markdown",
   "metadata": {},
   "source": [
    "## Co-related\n",
    "**Identifying features that are most correlated to Price**"
   ]
  },
  {
   "cell_type": "markdown",
   "metadata": {},
   "source": [
    "Before we proceed with further analysis, we need to identify the columns that are most related to price. We will be using only those columns to identify the best combination of features to predict the price."
   ]
  },
  {
   "cell_type": "code",
   "execution_count": 282,
   "metadata": {
    "scrolled": false
   },
   "outputs": [
    {
     "data": {
      "image/png": "[encoded data removed]",
      "text/plain": [
       "<Figure size 720x504 with 1 Axes>"
      ]
     },
     "metadata": {
      "needs_background": "light"
     },
     "output_type": "display_data"
    }
   ],
   "source": [
    "correlations=cars.corr()\n",
    "most_corr_features = correlations[(correlations['price'].between(-1,-0.5)) | (correlations['price'].between(0.5,1))]['price']\n",
    "\n",
    "correlation = cars[most_corr_features.index].corr()\n",
    "fig = plt.figure(figsize=(10,7))\n",
    "ax = fig.add_subplot(111)\n",
    "sns.heatmap(correlation.loc[:,\"price\":\"price\"],annot=True,cbar=False)\n",
    "ax.tick_params(axis='y',left=False,rotation=0,labelsize=15)\n",
    "ax.tick_params(axis='x',bottom=False,rotation=0,labelsize=15)\n",
    "ax.set_title(\"Engine Size is postively correlated while Highway_mpg is negatively correlated\",size=18)\n",
    "plt.suptitle(\"Engine Size and Highway Miles/Gallon seem most Correlated to Price\",size=24)\n",
    "plt.show()"
   ]
  },
  {
   "cell_type": "markdown",
   "metadata": {},
   "source": [
    "The features we have identified above will be used in the model to predict prices."
   ]
  },
  {
   "cell_type": "markdown",
   "metadata": {},
   "source": [
    "[Index](#Index)"
   ]
  },
  {
   "cell_type": "markdown",
   "metadata": {},
   "source": [
    "# 6"
   ]
  },
  {
   "cell_type": "markdown",
   "metadata": {},
   "source": [
    "## Lying Outside...Outliers\n",
    "**Identifying and removing outliers in the selected features**"
   ]
  },
  {
   "cell_type": "markdown",
   "metadata": {},
   "source": [
    "Since we have identified a couple of features that are most correlated to price, we need to remove any outliers that may exist in the dataset. Being a small dataset outliers can significantly affect the outcome of the models we create."
   ]
  },
  {
   "cell_type": "code",
   "execution_count": 283,
   "metadata": {
    "scrolled": false
   },
   "outputs": [
    {
     "data": {
      "image/png": "[encoded data removed]",
      "text/plain": [
       "<Figure size 1008x504 with 1 Axes>"
      ]
     },
     "metadata": {
      "needs_background": "light"
     },
     "output_type": "display_data"
    }
   ],
   "source": [
    "#not_price=[each_col for each_col in most_corr_features.index if each_col!='price']\n",
    "correlated_features=most_corr_features.index\n",
    "normalized_cols=(cars[correlated_features]-cars[correlated_features].min())/(cars[correlated_features].max()-cars[correlated_features].min())\n",
    "fig = plt.figure(figsize=(14,7))\n",
    "ax = fig.add_subplot(111)\n",
    "for key,vals in ax.spines.items():\n",
    "    if (key!=\"top\") | (key!=\"left\"):\n",
    "        ax.spines[key].set_visible(False)\n",
    "ax.xaxis.tick_top()\n",
    "normalized_cols.boxplot()\n",
    "ax.tick_params(axis=\"x\",labelsize=15,labelrotation=45)\n",
    "ax.tick_params(axis=\"y\",left=False)\n",
    "ax.set_yticklabels([])\n",
    "#ax.set_xticks(labelsize=15,labelrotation=45)\n",
    "plt.title(\"Most Columns have Outliers\",size=20)\n",
    "plt.grid(False)\n",
    "plt.show()"
   ]
  },
  {
   "cell_type": "markdown",
   "metadata": {},
   "source": [
    "Clearly almost every column besides *length* has outliers. We shall remove the outliers in the above identified columns. We shall start with removing the outliers in the *price* column since it is our target column."
   ]
  },
  {
   "cell_type": "code",
   "execution_count": 285,
   "metadata": {},
   "outputs": [],
   "source": [
    "def plot_boxplot(dataset,col_name,ref_cols=['make','price']):\n",
    "    \"\"\"\n",
    "    Outlier analysis of a column associated to a dataset\n",
    "    \n",
    "    Args:\n",
    "        dataset(dataframe): Dataset for which analysis will be done\n",
    "        col_name(string): Name of the column to be analysed\n",
    "        ref_cols(list): Additional columns related to the column being analysed (default is []'make','price'])\n",
    "    \"\"\"\n",
    "    \n",
    "    fig = plt.figure(figsize=(12,6))\n",
    "    ax1 = fig.add_subplot(121)\n",
    "    for keys,vals in ax.spines.items():\n",
    "        ax1.spines[keys].set_visible(False)\n",
    "    ax1.xaxis.tick_top()\n",
    "    dataset[[col_name]].boxplot()\n",
    "    ax1.tick_params(axis=\"x\",top=False,labelsize=18)\n",
    "    ax1.tick_params(axis=\"y\",labelsize=11)\n",
    "    \n",
    "    ax2=fig.add_subplot(122)\n",
    "    for keys,vals in ax.spines.items():\n",
    "        if keys!='bottom':\n",
    "            ax2.spines[keys].set_visible(False)\n",
    "    ax2.xaxis.tick_top()\n",
    "    sns.histplot(data = dataset, x = col_name)\n",
    "    ax2.tick_params(axis=\"x\",labelsize=16)\n",
    "    ax2.tick_params(axis=\"y\",labelsize=11)\n",
    "    ax2.set_xlabel(None)\n",
    "    ax2.set_ylabel(\"Frequency\")\n",
    "    plt.suptitle(\"Outliers in {} column\".format(col_name),size=20)\n",
    "    plt.show()\n",
    "    \n",
    "    bold_print(\"5 Highest values of column:\")\n",
    "    print(dataset[ref_cols+[col_name]].sort_values(col_name,ascending=False).head(5))\n",
    "    print(\"---\")\n",
    "    bold_print(\"Statistical data of column:\")\n",
    "    print(dataset[col_name].describe())"
   ]
  },
  {
   "cell_type": "code",
   "execution_count": 286,
   "metadata": {},
   "outputs": [],
   "source": [
    "cars_copy=cars.copy()\n",
    "removed_lines=0"
   ]
  },
  {
   "cell_type": "markdown",
   "metadata": {},
   "source": [
    "#### Outliers in *price* column"
   ]
  },
  {
   "cell_type": "code",
   "execution_count": 287,
   "metadata": {},
   "outputs": [
    {
     "data": {
      "image/png": "[encoded data removed]",
      "text/plain": [
       "<Figure size 864x432 with 2 Axes>"
      ]
     },
     "metadata": {
      "needs_background": "light"
     },
     "output_type": "display_data"
    },
    {
     "name": "stdout",
     "output_type": "stream",
     "text": [
      "\u001b[1m5 Highest values of column:\u001b[0m\n",
      "\n",
      "              make    price\n",
      "74   mercedes-benz  45400.0\n",
      "16             bmw  41315.0\n",
      "73   mercedes-benz  40960.0\n",
      "128        porsche  37028.0\n",
      "17             bmw  36880.0\n",
      "---\n",
      "\u001b[1mStatistical data of column:\u001b[0m\n",
      "\n",
      "count      193.000000\n",
      "mean     13285.025907\n",
      "std       8089.082886\n",
      "min       5118.000000\n",
      "25%       7738.000000\n",
      "50%      10245.000000\n",
      "75%      16515.000000\n",
      "max      45400.000000\n",
      "Name: price, dtype: float64\n"
     ]
    }
   ],
   "source": [
    "plot_boxplot(cars,'price',['make'])"
   ]
  },
  {
   "cell_type": "markdown",
   "metadata": {},
   "source": [
    "Vehicles above \\$30,000 are in the outlier. Most of these cars are luxury vehicles and their prices are significantly greater than the average car in the dataset. Since *price* is a target column, the inclusion of such huge values could affect the predictions of the model we intend to create. So all rows in the dataset having more than \\$30,000 will not be considered when creating the model."
   ]
  },
  {
   "cell_type": "code",
   "execution_count": 288,
   "metadata": {},
   "outputs": [
    {
     "name": "stdout",
     "output_type": "stream",
     "text": [
      "\u001b[1mNumber of lines removed:\u001b[0m\n",
      "\n",
      "14\n"
     ]
    }
   ],
   "source": [
    "num_lines=len(cars[cars['price']>30000])\n",
    "removed_lines+=num_lines\n",
    "cars=cars[cars['price']<30000]\n",
    "bold_print(\"Number of lines removed:\")\n",
    "print(num_lines)"
   ]
  },
  {
   "cell_type": "markdown",
   "metadata": {},
   "source": [
    "---"
   ]
  },
  {
   "cell_type": "markdown",
   "metadata": {},
   "source": [
    "#### Outliers in *wheel_base*  column"
   ]
  },
  {
   "cell_type": "code",
   "execution_count": 289,
   "metadata": {},
   "outputs": [
    {
     "data": {
      "image/png": "[encoded data removed]",
      "text/plain": [
       "<Figure size 864x432 with 2 Axes>"
      ]
     },
     "metadata": {
      "needs_background": "light"
     },
     "output_type": "display_data"
    },
    {
     "name": "stdout",
     "output_type": "stream",
     "text": [
      "\u001b[1m5 Highest values of column:\u001b[0m\n",
      "\n",
      "              make    price  wheel_base\n",
      "109         peugot  12440.0       114.2\n",
      "114         peugot  17075.0       114.2\n",
      "113         peugot  16695.0       114.2\n",
      "110         peugot  13860.0       114.2\n",
      "67   mercedes-benz  25552.0       110.0\n",
      "---\n",
      "\u001b[1mStatistical data of column:\u001b[0m\n",
      "\n",
      "count    179.000000\n",
      "mean      98.425140\n",
      "std        5.389772\n",
      "min       86.600000\n",
      "25%       94.500000\n",
      "50%       97.000000\n",
      "75%      101.200000\n",
      "max      114.200000\n",
      "Name: wheel_base, dtype: float64\n"
     ]
    }
   ],
   "source": [
    "plot_boxplot(cars,'wheel_base')"
   ]
  },
  {
   "cell_type": "markdown",
   "metadata": {},
   "source": [
    "Since the correlation of price and wheel base is just 0.58 which is not a really strong correlation when compared to say *engine_size* and since there are only 4 cars of the same brand that are affected by this outlier, we shall leave this as is."
   ]
  },
  {
   "cell_type": "markdown",
   "metadata": {},
   "source": [
    "---"
   ]
  },
  {
   "cell_type": "markdown",
   "metadata": {},
   "source": [
    "#### Outliers in *width*  column"
   ]
  },
  {
   "cell_type": "code",
   "execution_count": 290,
   "metadata": {},
   "outputs": [
    {
     "data": {
      "image/png": "[encoded data removed]",
      "text/plain": [
       "<Figure size 864x432 with 2 Axes>"
      ]
     },
     "metadata": {
      "needs_background": "light"
     },
     "output_type": "display_data"
    },
    {
     "name": "stdout",
     "output_type": "stream",
     "text": [
      "\u001b[1m5 Highest values of column:\u001b[0m\n",
      "\n",
      "             make    price  width\n",
      "6            audi  17710.0   71.4\n",
      "8            audi  23875.0   71.4\n",
      "7            audi  18920.0   71.4\n",
      "68  mercedes-benz  28248.0   70.3\n",
      "69  mercedes-benz  28176.0   70.3\n",
      "---\n",
      "\u001b[1mStatistical data of column:\u001b[0m\n",
      "\n",
      "count    179.000000\n",
      "mean      65.639106\n",
      "std        1.872489\n",
      "min       60.300000\n",
      "25%       64.000000\n",
      "50%       65.400000\n",
      "75%       66.500000\n",
      "max       71.400000\n",
      "Name: width, dtype: float64\n"
     ]
    }
   ],
   "source": [
    "plot_boxplot(cars,'width')"
   ]
  },
  {
   "cell_type": "markdown",
   "metadata": {},
   "source": [
    "Since the correlation between *width* and *price* is high, it is likely that these outliers can cause bias in the output of our model. We shall therefore remove these outliers."
   ]
  },
  {
   "cell_type": "code",
   "execution_count": 291,
   "metadata": {},
   "outputs": [
    {
     "name": "stdout",
     "output_type": "stream",
     "text": [
      "\u001b[1mNumber of lines removed:\u001b[0m\n",
      "\n",
      "6\n"
     ]
    }
   ],
   "source": [
    "num_lines=len(cars[cars['width']>69])\n",
    "removed_lines+=num_lines\n",
    "cars=cars[cars['width']<69]\n",
    "bold_print(\"Number of lines removed:\")\n",
    "print(num_lines)"
   ]
  },
  {
   "cell_type": "markdown",
   "metadata": {},
   "source": [
    "---"
   ]
  },
  {
   "cell_type": "code",
   "execution_count": 292,
   "metadata": {},
   "outputs": [
    {
     "data": {
      "image/png": "[encoded data removed]",
      "text/plain": [
       "<Figure size 864x432 with 2 Axes>"
      ]
     },
     "metadata": {
      "needs_background": "light"
     },
     "output_type": "display_data"
    },
    {
     "name": "stdout",
     "output_type": "stream",
     "text": [
      "\u001b[1m5 Highest values of column:\u001b[0m\n",
      "\n",
      "       make    price  engine_size\n",
      "105  nissan  19699.0          181\n",
      "101  nissan  13499.0          181\n",
      "102  nissan  14399.0          181\n",
      "103  nissan  13499.0          181\n",
      "104  nissan  17199.0          181\n",
      "---\n",
      "\u001b[1mStatistical data of column:\u001b[0m\n",
      "\n",
      "count    173.000000\n",
      "mean     118.277457\n",
      "std       25.509310\n",
      "min       61.000000\n",
      "25%       97.000000\n",
      "50%      110.000000\n",
      "75%      136.000000\n",
      "max      181.000000\n",
      "Name: engine_size, dtype: float64\n"
     ]
    }
   ],
   "source": [
    "plot_boxplot(cars,'engine_size')"
   ]
  },
  {
   "cell_type": "markdown",
   "metadata": {},
   "source": [
    "While removing the outliers from the earlier columns, we have removed the outliers in the *engine_size* column."
   ]
  },
  {
   "cell_type": "markdown",
   "metadata": {},
   "source": [
    "---"
   ]
  },
  {
   "cell_type": "markdown",
   "metadata": {},
   "source": [
    "#### Outliers in *horsepower*  column"
   ]
  },
  {
   "cell_type": "code",
   "execution_count": 293,
   "metadata": {},
   "outputs": [
    {
     "data": {
      "image/png": "[encoded data removed]",
      "text/plain": [
       "<Figure size 864x432 with 2 Axes>"
      ]
     },
     "metadata": {
      "needs_background": "light"
     },
     "output_type": "display_data"
    },
    {
     "name": "stdout",
     "output_type": "stream",
     "text": [
      "\u001b[1m5 Highest values of column:\u001b[0m\n",
      "\n",
      "        make    price  horsepower\n",
      "105   nissan  19699.0       200.0\n",
      "75   mercury  16503.0       175.0\n",
      "198    volvo  18420.0       162.0\n",
      "199    volvo  18950.0       162.0\n",
      "178   toyota  16558.0       161.0\n",
      "---\n",
      "\u001b[1mStatistical data of column:\u001b[0m\n",
      "\n",
      "count    173.000000\n",
      "mean      96.306358\n",
      "std       30.523796\n",
      "min       48.000000\n",
      "25%       70.000000\n",
      "50%       90.000000\n",
      "75%      114.000000\n",
      "max      200.000000\n",
      "Name: horsepower, dtype: float64\n"
     ]
    }
   ],
   "source": [
    "plot_boxplot(cars,'horsepower')"
   ]
  },
  {
   "cell_type": "markdown",
   "metadata": {},
   "source": [
    "*horspower* is highly correlated to *price* so the outlier in the column will be removed."
   ]
  },
  {
   "cell_type": "code",
   "execution_count": 294,
   "metadata": {},
   "outputs": [
    {
     "name": "stdout",
     "output_type": "stream",
     "text": [
      "\u001b[1mNumber of lines removed:\u001b[0m\n",
      "\n",
      "1\n"
     ]
    }
   ],
   "source": [
    "num_lines=len(cars[cars['horsepower']>199])\n",
    "removed_lines+=num_lines\n",
    "cars=cars[cars['horsepower']<199]\n",
    "bold_print(\"Number of lines removed:\")\n",
    "print(num_lines)"
   ]
  },
  {
   "cell_type": "markdown",
   "metadata": {},
   "source": [
    "---"
   ]
  },
  {
   "cell_type": "markdown",
   "metadata": {},
   "source": [
    "#### Outliers in *city_mpg*  column"
   ]
  },
  {
   "cell_type": "code",
   "execution_count": 295,
   "metadata": {},
   "outputs": [
    {
     "data": {
      "image/png": "[encoded data removed]",
      "text/plain": [
       "<Figure size 864x432 with 2 Axes>"
      ]
     },
     "metadata": {
      "needs_background": "light"
     },
     "output_type": "display_data"
    },
    {
     "name": "stdout",
     "output_type": "stream",
     "text": [
      "\u001b[1m5 Highest values of column:\u001b[0m\n",
      "\n",
      "         make   price  city_mpg\n",
      "30      honda  6479.0        49\n",
      "18  chevrolet  5151.0        47\n",
      "90     nissan  7099.0        45\n",
      "19  chevrolet  6295.0        38\n",
      "20  chevrolet  6575.0        38\n",
      "---\n",
      "\u001b[1mStatistical data of column:\u001b[0m\n",
      "\n",
      "count    172.000000\n",
      "mean      26.319767\n",
      "std        5.981166\n",
      "min       17.000000\n",
      "25%       22.500000\n",
      "50%       26.000000\n",
      "75%       31.000000\n",
      "max       49.000000\n",
      "Name: city_mpg, dtype: float64\n"
     ]
    }
   ],
   "source": [
    "plot_boxplot(cars,'city_mpg')"
   ]
  },
  {
   "cell_type": "markdown",
   "metadata": {},
   "source": [
    "*city_mpg* is negatively and highly correlated to *price*. Therefore the outliers in it will be removed."
   ]
  },
  {
   "cell_type": "code",
   "execution_count": 296,
   "metadata": {},
   "outputs": [
    {
     "name": "stdout",
     "output_type": "stream",
     "text": [
      "\u001b[1mNumber of lines removed:\u001b[0m\n",
      "\n",
      "2\n"
     ]
    }
   ],
   "source": [
    "num_lines=len(cars[cars['city_mpg']>45])\n",
    "removed_lines+=num_lines\n",
    "cars=cars[cars['city_mpg']<45]\n",
    "bold_print(\"Number of lines removed:\")\n",
    "print(num_lines)"
   ]
  },
  {
   "cell_type": "markdown",
   "metadata": {},
   "source": [
    "---"
   ]
  },
  {
   "cell_type": "markdown",
   "metadata": {},
   "source": [
    "#### Outliers in *highway_mpg*  column"
   ]
  },
  {
   "cell_type": "code",
   "execution_count": 297,
   "metadata": {},
   "outputs": [
    {
     "data": {
      "image/png": "[encoded data removed]",
      "text/plain": [
       "<Figure size 864x432 with 2 Axes>"
      ]
     },
     "metadata": {
      "needs_background": "light"
     },
     "output_type": "display_data"
    },
    {
     "name": "stdout",
     "output_type": "stream",
     "text": [
      "\u001b[1m5 Highest values of column:\u001b[0m\n",
      "\n",
      "           make   price  highway_mpg\n",
      "160      toyota  7738.0           47\n",
      "159      toyota  7788.0           47\n",
      "184  volkswagen  7995.0           46\n",
      "182  volkswagen  7775.0           46\n",
      "20    chevrolet  6575.0           43\n",
      "---\n",
      "\u001b[1mStatistical data of column:\u001b[0m\n",
      "\n",
      "count    169.000000\n",
      "mean      31.538462\n",
      "std        5.692518\n",
      "min       22.000000\n",
      "25%       28.000000\n",
      "50%       31.000000\n",
      "75%       37.000000\n",
      "max       47.000000\n",
      "Name: highway_mpg, dtype: float64\n"
     ]
    }
   ],
   "source": [
    "plot_boxplot(cars,'highway_mpg')"
   ]
  },
  {
   "cell_type": "markdown",
   "metadata": {},
   "source": [
    "Outlier removal from the previous columns have cleared the outliers in *highway_mpg*. \n",
    "\n",
    "Since many columns have had the outliers removed, it is best to check the columns that did not previously have any outliers like *length*. We shall be ignoring the *bore* column because its correlation to *price* is the least among other. It is therefore unlikely to be part of the creation of our best models."
   ]
  },
  {
   "cell_type": "markdown",
   "metadata": {},
   "source": [
    "---"
   ]
  },
  {
   "cell_type": "markdown",
   "metadata": {},
   "source": [
    "#### Outliers in *length*  column"
   ]
  },
  {
   "cell_type": "code",
   "execution_count": 298,
   "metadata": {},
   "outputs": [
    {
     "data": {
      "image/png": "[encoded data removed]",
      "text/plain": [
       "<Figure size 864x432 with 2 Axes>"
      ]
     },
     "metadata": {
      "needs_background": "light"
     },
     "output_type": "display_data"
    },
    {
     "name": "stdout",
     "output_type": "stream",
     "text": [
      "\u001b[1m5 Highest values of column:\u001b[0m\n",
      "\n",
      "       make    price  length\n",
      "114  peugot  17075.0   198.9\n",
      "109  peugot  12440.0   198.9\n",
      "113  peugot  16695.0   198.9\n",
      "110  peugot  13860.0   198.9\n",
      "14      bmw  24565.0   189.0\n",
      "---\n",
      "\u001b[1mStatistical data of column:\u001b[0m\n",
      "\n",
      "count    169.000000\n",
      "mean     172.814793\n",
      "std       10.780017\n",
      "min      144.600000\n",
      "25%      166.300000\n",
      "50%      172.600000\n",
      "75%      177.800000\n",
      "max      198.900000\n",
      "Name: length, dtype: float64\n"
     ]
    }
   ],
   "source": [
    "plot_boxplot(cars,'length')"
   ]
  },
  {
   "cell_type": "markdown",
   "metadata": {},
   "source": [
    "Since length has a positive correlation, we shall be removing the outliers in it."
   ]
  },
  {
   "cell_type": "code",
   "execution_count": 299,
   "metadata": {},
   "outputs": [
    {
     "name": "stdout",
     "output_type": "stream",
     "text": [
      "\u001b[1mNumber of lines removed:\u001b[0m\n",
      "\n",
      "5\n"
     ]
    }
   ],
   "source": [
    "num_lines=len(cars[(cars[\"length\"]<150) | (cars[\"length\"]>190)])\n",
    "removed_lines+=num_lines\n",
    "cars=cars[cars[\"length\"].between(149,190)]\n",
    "bold_print(\"Number of lines removed:\")\n",
    "print(num_lines)"
   ]
  },
  {
   "cell_type": "markdown",
   "metadata": {},
   "source": [
    "#### Outliers removal summary"
   ]
  },
  {
   "cell_type": "code",
   "execution_count": 300,
   "metadata": {},
   "outputs": [
    {
     "data": {
      "image/png": "[encoded data removed]",
      "text/plain": [
       "<Figure size 864x360 with 1 Axes>"
      ]
     },
     "metadata": {
      "needs_background": "light"
     },
     "output_type": "display_data"
    }
   ],
   "source": [
    "correlated_features=most_corr_features.index\n",
    "normalized_cols=(cars[correlated_features]-cars[correlated_features].min())/(cars[correlated_features].max()-cars[correlated_features].min())\n",
    "fig = plt.figure(figsize=(12,5))\n",
    "ax = fig.add_subplot(111)\n",
    "for key,vals in ax.spines.items():\n",
    "    if (key!=\"top\") | (key!=\"left\"):\n",
    "        ax.spines[key].set_visible(False)\n",
    "ax.xaxis.tick_top()\n",
    "normalized_cols.boxplot()\n",
    "ax.tick_params(axis=\"x\",labelsize=15,labelrotation=45)\n",
    "ax.tick_params(axis=\"y\",left=False)\n",
    "ax.set_yticklabels([])\n",
    "#ax.set_xticks(labelsize=15,labelrotation=45)\n",
    "plt.title(\"28 data points were cleared to remove Outliers\",size=20)\n",
    "plt.grid(False)\n",
    "plt.show()"
   ]
  },
  {
   "cell_type": "code",
   "execution_count": 301,
   "metadata": {},
   "outputs": [
    {
     "data": {
      "image/png": "[encoded data removed]",
      "text/plain": [
       "<Figure size 864x432 with 2 Axes>"
      ]
     },
     "metadata": {
      "needs_background": "light"
     },
     "output_type": "display_data"
    },
    {
     "name": "stdout",
     "output_type": "stream",
     "text": [
      "\u001b[1m5 Highest values of column:\u001b[0m\n",
      "\n",
      "        make    price\n",
      "14       bmw  24565.0\n",
      "204    volvo  22625.0\n",
      "203    volvo  22470.0\n",
      "125  porsche  22018.0\n",
      "202    volvo  21485.0\n",
      "---\n",
      "\u001b[1mStatistical data of column:\u001b[0m\n",
      "\n",
      "count      164.000000\n",
      "mean     11052.664634\n",
      "std       4498.905596\n",
      "min       5118.000000\n",
      "25%       7607.500000\n",
      "50%       9516.500000\n",
      "75%      14062.250000\n",
      "max      24565.000000\n",
      "Name: price, dtype: float64\n"
     ]
    }
   ],
   "source": [
    "plot_boxplot(cars,'price',['make'])"
   ]
  },
  {
   "cell_type": "markdown",
   "metadata": {},
   "source": [
    "It looks safe to remove the outlier against *price* as it is a single datapoint. We shall do the same below."
   ]
  },
  {
   "cell_type": "code",
   "execution_count": 302,
   "metadata": {},
   "outputs": [
    {
     "name": "stdout",
     "output_type": "stream",
     "text": [
      "\u001b[1mNumber of lines removed:\u001b[0m\n",
      "\n",
      "1\n",
      "\u001b[1mTotal Number of data points (inclu. null values) removed:\u001b[0m\n",
      "\n",
      "43\n",
      "\u001b[1mPercentage of data removed:\u001b[0m\n",
      "\n",
      "22.28%\n"
     ]
    }
   ],
   "source": [
    "num_lines=len(cars[cars['price']>23000])\n",
    "removed_lines+=num_lines\n",
    "cars=cars[cars['price']<23000]\n",
    "bold_print(\"Number of lines removed:\")\n",
    "print(num_lines)\n",
    "bold_print(\"Total Number of data points (inclu. null values) removed:\")\n",
    "removed=removed_lines+14\n",
    "print(removed)\n",
    "bold_print(\"Percentage of data removed:\")\n",
    "percentage=round(removed*100/len(cars_copy),2)\n",
    "print('{}%'.format(percentage))"
   ]
  },
  {
   "cell_type": "markdown",
   "metadata": {},
   "source": [
    "[Index](#Index)"
   ]
  },
  {
   "cell_type": "markdown",
   "metadata": {},
   "source": [
    "# 7"
   ]
  },
  {
   "cell_type": "markdown",
   "metadata": {},
   "source": [
    "## On Their Own...\n",
    "**Models with Univariate features**"
   ]
  },
  {
   "cell_type": "markdown",
   "metadata": {},
   "source": [
    "Now that we have removed all the outliers from the dataset, we can try and evaluate which of the selected features tend to yield a model with the best predictions. The features with which we shall be generating models are as follows:\n",
    "\n",
    "- wheel_base\n",
    "- length\n",
    "- width\n",
    "- curb_weight\n",
    "- engine_size\n",
    "- bore\n",
    "- horsepower\n",
    "- city_mpg\n",
    "- highway_mpg"
   ]
  },
  {
   "cell_type": "markdown",
   "metadata": {},
   "source": [
    "While generating the models we shall be using hyperparameter optimization to find out how accuracy varies over different values of **k** i.e. the number of neighbors with which the average price will be calculated. This should help to identify a more accurate model."
   ]
  },
  {
   "cell_type": "code",
   "execution_count": 303,
   "metadata": {},
   "outputs": [],
   "source": [
    "not_price=[each_col for each_col in most_corr_features.index if each_col!='price']"
   ]
  },
  {
   "cell_type": "code",
   "execution_count": 325,
   "metadata": {},
   "outputs": [],
   "source": [
    "def knn_train_test(feature_col,target_col,data,n=10):\n",
    "    \"\"\"\n",
    "    Calculates the RMSE and accuracy of a univariate model\n",
    "    \n",
    "    Args:\n",
    "        feature_col(string): Name of the column used to create the univariate model\n",
    "        target_col(string): Name of the column to be analysed\n",
    "        data(dataframe): Dataset for which analysis will be done\n",
    "        n(int): Number of neighbors(default is 10)\n",
    "    \n",
    "    Returns:\n",
    "        rmse(float): RMSE value of univariate model\n",
    "        accuracy(float): Accuracy of univariate model\n",
    "    \"\"\"\n",
    "    feature_train,feature_test,target_train,target_test=skmodelselection.train_test_split(data[[feature_col]],\n",
    "                                                                                          data[target_col],\n",
    "                                                                                          test_size=0.2,random_state=1)\n",
    "    knn = skneighbors.KNeighborsRegressor(n_neighbors=n)\n",
    "    knn.fit(feature_train,target_train)\n",
    "    predictions = knn.predict(feature_test)\n",
    "    mse = skmetrics.mean_squared_error(target_test,predictions)\n",
    "    rmse = mse**0.5\n",
    "    accuracy = knn.score(feature_test,target_test)\n",
    "    \n",
    "    return round(rmse,2), accuracy"
   ]
  },
  {
   "cell_type": "code",
   "execution_count": 326,
   "metadata": {
    "scrolled": false
   },
   "outputs": [],
   "source": [
    "parameter=[5,10,15,20]\n",
    "univariate_param_result=pd.DataFrame(columns=[\"k\"]+not_price)\n",
    "univariate_accuracy_result=pd.DataFrame(columns=[\"k\"]+not_price)\n",
    "for each_parameter in parameter:\n",
    "    parameter_results=[]\n",
    "    accuracy_results=[]\n",
    "    parameter_results.append(each_parameter)\n",
    "    accuracy_results.append(each_parameter)\n",
    "    for each_col in not_price:\n",
    "        rmse,accuracy=knn_train_test(each_col,\"price\",cars,each_parameter)\n",
    "        parameter_results.append(rmse)\n",
    "        accuracy_results.append(accuracy)\n",
    "        \n",
    "    pos=len(univariate_param_result)\n",
    "    univariate_param_result.loc[pos]=parameter_results\n",
    "    univariate_accuracy_result.loc[pos]=accuracy_results"
   ]
  },
  {
   "cell_type": "code",
   "execution_count": 366,
   "metadata": {},
   "outputs": [
    {
     "data": {
      "image/png": "[encoded data removed]",
      "text/plain": [
       "<Figure size 1008x432 with 1 Axes>"
      ]
     },
     "metadata": {
      "needs_background": "light"
     },
     "output_type": "display_data"
    }
   ],
   "source": [
    "fig=plt.figure(figsize=(14,6))\n",
    "ax=fig.add_subplot(111)\n",
    "for key,value in ax.spines.items():\n",
    "    ax.spines[key].set_visible(False)\n",
    "\n",
    "ax.plot(list(range(5,25,5)),univariate_param_result[not_price],marker='o')\n",
    "ax.xaxis.tick_top()\n",
    "ax.tick_params(axis='x',labelsize=15,top=False)\n",
    "ax.tick_params(axis='y',labelsize=13)\n",
    "ax.set_xlabel(\"k(number of neighbors)\",size=18)\n",
    "ax.xaxis.set_label_position('top')\n",
    "ax.set_xticks([5,10,15,20])\n",
    "ax.legend(not_price,frameon=False,bbox_to_anchor=(1.1,0.8),fontsize=14)\n",
    "plt.title(\"Curb Weight records the least error Compared to other Features\",size=22)\n",
    "plt.show()"
   ]
  },
  {
   "cell_type": "code",
   "execution_count": 367,
   "metadata": {},
   "outputs": [
    {
     "name": "stdout",
     "output_type": "stream",
     "text": [
      "\u001b[1mAccuracy of different models using different k-values\u001b[0m\n",
      "\n"
     ]
    },
    {
     "data": {
      "text/html": [
       "<style  type=\"text/css\" >\n",
       "#T_2a936_row0_col1,#T_2a936_row0_col4,#T_2a936_row0_col5,#T_2a936_row1_col4,#T_2a936_row2_col4,#T_2a936_row3_col4{\n",
       "            background:  lightgreen;\n",
       "        }</style><table id=\"T_2a936_\" ><thead>    <tr>        <th class=\"blank level0\" ></th>        <th class=\"col_heading level0 col0\" >k</th>        <th class=\"col_heading level0 col1\" >wheel_base</th>        <th class=\"col_heading level0 col2\" >length</th>        <th class=\"col_heading level0 col3\" >width</th>        <th class=\"col_heading level0 col4\" >curb_weight</th>        <th class=\"col_heading level0 col5\" >engine_size</th>        <th class=\"col_heading level0 col6\" >bore</th>        <th class=\"col_heading level0 col7\" >horsepower</th>        <th class=\"col_heading level0 col8\" >city_mpg</th>        <th class=\"col_heading level0 col9\" >highway_mpg</th>    </tr></thead><tbody>\n",
       "                <tr>\n",
       "                        <th id=\"T_2a936_level0_row0\" class=\"row_heading level0 row0\" >0</th>\n",
       "                        <td id=\"T_2a936_row0_col0\" class=\"data row0 col0\" >5.00</td>\n",
       "                        <td id=\"T_2a936_row0_col1\" class=\"data row0 col1\" >0.72</td>\n",
       "                        <td id=\"T_2a936_row0_col2\" class=\"data row0 col2\" >0.67</td>\n",
       "                        <td id=\"T_2a936_row0_col3\" class=\"data row0 col3\" >0.67</td>\n",
       "                        <td id=\"T_2a936_row0_col4\" class=\"data row0 col4\" >0.74</td>\n",
       "                        <td id=\"T_2a936_row0_col5\" class=\"data row0 col5\" >0.80</td>\n",
       "                        <td id=\"T_2a936_row0_col6\" class=\"data row0 col6\" >0.15</td>\n",
       "                        <td id=\"T_2a936_row0_col7\" class=\"data row0 col7\" >0.68</td>\n",
       "                        <td id=\"T_2a936_row0_col8\" class=\"data row0 col8\" >0.50</td>\n",
       "                        <td id=\"T_2a936_row0_col9\" class=\"data row0 col9\" >0.46</td>\n",
       "            </tr>\n",
       "            <tr>\n",
       "                        <th id=\"T_2a936_level0_row1\" class=\"row_heading level0 row1\" >1</th>\n",
       "                        <td id=\"T_2a936_row1_col0\" class=\"data row1 col0\" >10.00</td>\n",
       "                        <td id=\"T_2a936_row1_col1\" class=\"data row1 col1\" >0.55</td>\n",
       "                        <td id=\"T_2a936_row1_col2\" class=\"data row1 col2\" >0.58</td>\n",
       "                        <td id=\"T_2a936_row1_col3\" class=\"data row1 col3\" >0.67</td>\n",
       "                        <td id=\"T_2a936_row1_col4\" class=\"data row1 col4\" >0.78</td>\n",
       "                        <td id=\"T_2a936_row1_col5\" class=\"data row1 col5\" >0.62</td>\n",
       "                        <td id=\"T_2a936_row1_col6\" class=\"data row1 col6\" >0.11</td>\n",
       "                        <td id=\"T_2a936_row1_col7\" class=\"data row1 col7\" >0.64</td>\n",
       "                        <td id=\"T_2a936_row1_col8\" class=\"data row1 col8\" >0.49</td>\n",
       "                        <td id=\"T_2a936_row1_col9\" class=\"data row1 col9\" >0.42</td>\n",
       "            </tr>\n",
       "            <tr>\n",
       "                        <th id=\"T_2a936_level0_row2\" class=\"row_heading level0 row2\" >2</th>\n",
       "                        <td id=\"T_2a936_row2_col0\" class=\"data row2 col0\" >15.00</td>\n",
       "                        <td id=\"T_2a936_row2_col1\" class=\"data row2 col1\" >0.49</td>\n",
       "                        <td id=\"T_2a936_row2_col2\" class=\"data row2 col2\" >0.59</td>\n",
       "                        <td id=\"T_2a936_row2_col3\" class=\"data row2 col3\" >0.61</td>\n",
       "                        <td id=\"T_2a936_row2_col4\" class=\"data row2 col4\" >0.80</td>\n",
       "                        <td id=\"T_2a936_row2_col5\" class=\"data row2 col5\" >0.57</td>\n",
       "                        <td id=\"T_2a936_row2_col6\" class=\"data row2 col6\" >0.10</td>\n",
       "                        <td id=\"T_2a936_row2_col7\" class=\"data row2 col7\" >0.53</td>\n",
       "                        <td id=\"T_2a936_row2_col8\" class=\"data row2 col8\" >0.49</td>\n",
       "                        <td id=\"T_2a936_row2_col9\" class=\"data row2 col9\" >0.48</td>\n",
       "            </tr>\n",
       "            <tr>\n",
       "                        <th id=\"T_2a936_level0_row3\" class=\"row_heading level0 row3\" >3</th>\n",
       "                        <td id=\"T_2a936_row3_col0\" class=\"data row3 col0\" >20.00</td>\n",
       "                        <td id=\"T_2a936_row3_col1\" class=\"data row3 col1\" >0.55</td>\n",
       "                        <td id=\"T_2a936_row3_col2\" class=\"data row3 col2\" >0.60</td>\n",
       "                        <td id=\"T_2a936_row3_col3\" class=\"data row3 col3\" >0.58</td>\n",
       "                        <td id=\"T_2a936_row3_col4\" class=\"data row3 col4\" >0.78</td>\n",
       "                        <td id=\"T_2a936_row3_col5\" class=\"data row3 col5\" >0.55</td>\n",
       "                        <td id=\"T_2a936_row3_col6\" class=\"data row3 col6\" >0.16</td>\n",
       "                        <td id=\"T_2a936_row3_col7\" class=\"data row3 col7\" >0.57</td>\n",
       "                        <td id=\"T_2a936_row3_col8\" class=\"data row3 col8\" >0.50</td>\n",
       "                        <td id=\"T_2a936_row3_col9\" class=\"data row3 col9\" >0.50</td>\n",
       "            </tr>\n",
       "    </tbody></table>"
      ],
      "text/plain": [
       "<pandas.io.formats.style.Styler at 0x1f156da68e0>"
      ]
     },
     "execution_count": 367,
     "metadata": {},
     "output_type": "execute_result"
    }
   ],
   "source": [
    "def highlight_best(val_series):\n",
    "    best = val_series.between(0.7,1)\n",
    "    return ['background: lightgreen' if cell else '' \n",
    "            for cell in best]\n",
    "idx=pd.IndexSlice\n",
    "slice1=idx[:,\"wheel_base\":\"highway_mpg\"]\n",
    "bold_print(\"Accuracy of different models using different k-values\")\n",
    "univariate_accuracy_result.style.apply(highlight_best,subset=slice1).set_precision(2)"
   ]
  },
  {
   "cell_type": "markdown",
   "metadata": {},
   "source": [
    "As the accuracy table above shows, univariate models associated to *curb_weight* consistently outputs an accuracy greater than 70%. However the features *engine_size* and *wheel_base* give out an accuracy greater than 70% when the number of neighbors is 5.\n",
    "\n",
    "If we calculate the average RMSE across all the features, we should be able to identify the best features that give the best predictions."
   ]
  },
  {
   "cell_type": "code",
   "execution_count": 381,
   "metadata": {},
   "outputs": [
    {
     "data": {
      "image/png": "[encoded data removed]",
      "text/plain": [
       "<Figure size 864x360 with 1 Axes>"
      ]
     },
     "metadata": {
      "needs_background": "light"
     },
     "output_type": "display_data"
    }
   ],
   "source": [
    "rmse_mean=univariate_param_result.mean(axis=0).sort_values(ascending=False)[:-1]\n",
    "fig=plt.figure(figsize=(12,5))\n",
    "ax=fig.add_subplot(111)\n",
    "\n",
    "for key,value in ax.spines.items():\n",
    "    ax.spines[key].set_visible(False)\n",
    "ax.hlines(y=rmse_mean.index,xmin=1000,xmax=rmse_mean)\n",
    "ax.scatter(y=rmse_mean.index,x=rmse_mean)\n",
    "ax.xaxis.tick_top()\n",
    "ax.tick_params(axis='x',labelsize=14,top=False)\n",
    "ax.tick_params(axis='y',labelsize=16,left=False)\n",
    "plt.title(\"Average RMSE value for Curb Weight is the Least\", size=20)\n",
    "plt.show()"
   ]
  },
  {
   "cell_type": "markdown",
   "metadata": {},
   "source": [
    "Based on the average RMSE values of all features across various k values, *curb_weight* provides the best univariate model with more than 70% accuracy."
   ]
  },
  {
   "cell_type": "markdown",
   "metadata": {},
   "source": [
    "[Index](#Index)"
   ]
  },
  {
   "cell_type": "markdown",
   "metadata": {},
   "source": [
    "# 8"
   ]
  },
  {
   "cell_type": "markdown",
   "metadata": {},
   "source": [
    "## Title"
   ]
  },
  {
   "cell_type": "markdown",
   "metadata": {},
   "source": []
  },
  {
   "cell_type": "markdown",
   "metadata": {},
   "source": [
    "instructions\n"
   ]
  },
  {
   "cell_type": "code",
   "execution_count": null,
   "metadata": {
    "scrolled": false
   },
   "outputs": [],
   "source": []
  },
  {
   "cell_type": "markdown",
   "metadata": {},
   "source": [
    "[Index](#Index)"
   ]
  },
  {
   "cell_type": "markdown",
   "metadata": {},
   "source": [
    "# 9"
   ]
  },
  {
   "cell_type": "markdown",
   "metadata": {},
   "source": [
    "## Title"
   ]
  },
  {
   "cell_type": "markdown",
   "metadata": {},
   "source": []
  },
  {
   "cell_type": "markdown",
   "metadata": {},
   "source": [
    "instructions\n"
   ]
  },
  {
   "cell_type": "code",
   "execution_count": null,
   "metadata": {
    "scrolled": false
   },
   "outputs": [],
   "source": []
  },
  {
   "cell_type": "markdown",
   "metadata": {},
   "source": [
    "[Index](#Index)"
   ]
  },
  {
   "cell_type": "markdown",
   "metadata": {},
   "source": [
    "# 10"
   ]
  },
  {
   "cell_type": "markdown",
   "metadata": {},
   "source": [
    "## Title"
   ]
  },
  {
   "cell_type": "markdown",
   "metadata": {},
   "source": []
  },
  {
   "cell_type": "markdown",
   "metadata": {},
   "source": [
    "instructions\n"
   ]
  },
  {
   "cell_type": "code",
   "execution_count": null,
   "metadata": {
    "scrolled": false
   },
   "outputs": [],
   "source": []
  },
  {
   "cell_type": "markdown",
   "metadata": {},
   "source": [
    "[Index](#Index)"
   ]
  },
  {
   "cell_type": "markdown",
   "metadata": {},
   "source": [
    "# 11"
   ]
  },
  {
   "cell_type": "markdown",
   "metadata": {},
   "source": [
    "## Title"
   ]
  },
  {
   "cell_type": "markdown",
   "metadata": {},
   "source": []
  },
  {
   "cell_type": "markdown",
   "metadata": {},
   "source": [
    "instructions\n"
   ]
  },
  {
   "cell_type": "code",
   "execution_count": null,
   "metadata": {
    "scrolled": false
   },
   "outputs": [],
   "source": []
  },
  {
   "cell_type": "markdown",
   "metadata": {},
   "source": [
    "[Index](#Index)"
   ]
  },
  {
   "cell_type": "markdown",
   "metadata": {},
   "source": [
    "# 12"
   ]
  },
  {
   "cell_type": "markdown",
   "metadata": {},
   "source": [
    "## Title"
   ]
  },
  {
   "cell_type": "markdown",
   "metadata": {},
   "source": []
  },
  {
   "cell_type": "markdown",
   "metadata": {},
   "source": [
    "instructions\n"
   ]
  },
  {
   "cell_type": "code",
   "execution_count": null,
   "metadata": {
    "scrolled": false
   },
   "outputs": [],
   "source": []
  },
  {
   "cell_type": "markdown",
   "metadata": {},
   "source": [
    "[Index](#Index)"
   ]
  },
  {
   "cell_type": "markdown",
   "metadata": {},
   "source": [
    "# 13"
   ]
  },
  {
   "cell_type": "markdown",
   "metadata": {},
   "source": [
    "## Title"
   ]
  },
  {
   "cell_type": "markdown",
   "metadata": {},
   "source": []
  },
  {
   "cell_type": "markdown",
   "metadata": {},
   "source": [
    "instructions\n"
   ]
  },
  {
   "cell_type": "code",
   "execution_count": null,
   "metadata": {
    "scrolled": false
   },
   "outputs": [],
   "source": []
  },
  {
   "cell_type": "markdown",
   "metadata": {},
   "source": [
    "[Index](#Index)"
   ]
  },
  {
   "cell_type": "code",
   "execution_count": null,
   "metadata": {},
   "outputs": [],
   "source": []
  }
 ],
 "metadata": {
  "kernelspec": {
   "display_name": "Python 3",
   "language": "python",
   "name": "python3"
  },
  "language_info": {
   "codemirror_mode": {
    "name": "ipython",
    "version": 3
   },
   "file_extension": ".py",
   "mimetype": "text/x-python",
   "name": "python",
   "nbconvert_exporter": "python",
   "pygments_lexer": "ipython3",
   "version": "3.8.8"
  }
 },
 "nbformat": 4,
 "nbformat_minor": 2
}
